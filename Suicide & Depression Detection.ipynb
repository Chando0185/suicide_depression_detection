{
 "cells": [
  {
   "cell_type": "code",
   "execution_count": 19,
   "metadata": {
    "execution": {
     "iopub.execute_input": "2023-10-13T18:41:48.952453Z",
     "iopub.status.busy": "2023-10-13T18:41:48.952087Z",
     "iopub.status.idle": "2023-10-13T18:41:55.294443Z",
     "shell.execute_reply": "2023-10-13T18:41:55.293392Z",
     "shell.execute_reply.started": "2023-10-13T18:41:48.95242Z"
    }
   },
   "outputs": [],
   "source": [
    "import numpy as np \n",
    "import pandas as pd\n",
    "from sklearn.model_selection import train_test_split\n",
    "import neattext.functions as nfx\n",
    "import plotly.express as plx\n",
    "from sklearn.metrics import classification_report\n",
    "import keras\n",
    "from keras.layers import Embedding,Dense,LSTM,GlobalMaxPooling1D,Input\n",
    "from keras.callbacks import EarlyStopping,ReduceLROnPlateau\n",
    "from keras.models import Sequential\n",
    "import tensorflow as tf\n",
    "from sklearn.preprocessing import LabelEncoder\n",
    "from keras.preprocessing.text import Tokenizer\n",
    "from keras.preprocessing.sequence import pad_sequences\n",
    "from tqdm import tqdm"
   ]
  },
  {
   "cell_type": "code",
   "execution_count": 20,
   "metadata": {
    "execution": {
     "iopub.execute_input": "2023-10-13T18:41:55.296764Z",
     "iopub.status.busy": "2023-10-13T18:41:55.296404Z",
     "iopub.status.idle": "2023-10-13T18:41:59.904285Z",
     "shell.execute_reply": "2023-10-13T18:41:59.903386Z",
     "shell.execute_reply.started": "2023-10-13T18:41:55.29672Z"
    }
   },
   "outputs": [
    {
     "data": {
      "text/html": [
       "<div>\n",
       "<style scoped>\n",
       "    .dataframe tbody tr th:only-of-type {\n",
       "        vertical-align: middle;\n",
       "    }\n",
       "\n",
       "    .dataframe tbody tr th {\n",
       "        vertical-align: top;\n",
       "    }\n",
       "\n",
       "    .dataframe thead th {\n",
       "        text-align: right;\n",
       "    }\n",
       "</style>\n",
       "<table border=\"1\" class=\"dataframe\">\n",
       "  <thead>\n",
       "    <tr style=\"text-align: right;\">\n",
       "      <th></th>\n",
       "      <th>Unnamed: 0</th>\n",
       "      <th>text</th>\n",
       "      <th>class</th>\n",
       "    </tr>\n",
       "  </thead>\n",
       "  <tbody>\n",
       "    <tr>\n",
       "      <th>0</th>\n",
       "      <td>2</td>\n",
       "      <td>Ex Wife Threatening SuicideRecently I left my ...</td>\n",
       "      <td>suicide</td>\n",
       "    </tr>\n",
       "    <tr>\n",
       "      <th>1</th>\n",
       "      <td>3</td>\n",
       "      <td>Am I weird I don't get affected by compliments...</td>\n",
       "      <td>non-suicide</td>\n",
       "    </tr>\n",
       "    <tr>\n",
       "      <th>2</th>\n",
       "      <td>4</td>\n",
       "      <td>Finally 2020 is almost over... So I can never ...</td>\n",
       "      <td>non-suicide</td>\n",
       "    </tr>\n",
       "    <tr>\n",
       "      <th>3</th>\n",
       "      <td>8</td>\n",
       "      <td>i need helpjust help me im crying so hard</td>\n",
       "      <td>suicide</td>\n",
       "    </tr>\n",
       "    <tr>\n",
       "      <th>4</th>\n",
       "      <td>9</td>\n",
       "      <td>I’m so lostHello, my name is Adam (16) and I’v...</td>\n",
       "      <td>suicide</td>\n",
       "    </tr>\n",
       "  </tbody>\n",
       "</table>\n",
       "</div>"
      ],
      "text/plain": [
       "   Unnamed: 0                                               text        class\n",
       "0           2  Ex Wife Threatening SuicideRecently I left my ...      suicide\n",
       "1           3  Am I weird I don't get affected by compliments...  non-suicide\n",
       "2           4  Finally 2020 is almost over... So I can never ...  non-suicide\n",
       "3           8          i need helpjust help me im crying so hard      suicide\n",
       "4           9  I’m so lostHello, my name is Adam (16) and I’v...      suicide"
      ]
     },
     "execution_count": 20,
     "metadata": {},
     "output_type": "execute_result"
    }
   ],
   "source": [
    "data=pd.read_csv('Suicide_Detection.csv')\n",
    "data.head()"
   ]
  },
  {
   "cell_type": "code",
   "execution_count": 3,
   "metadata": {
    "execution": {
     "iopub.execute_input": "2023-10-13T18:41:59.906475Z",
     "iopub.status.busy": "2023-10-13T18:41:59.906131Z",
     "iopub.status.idle": "2023-10-13T18:41:59.933156Z",
     "shell.execute_reply": "2023-10-13T18:41:59.932173Z",
     "shell.execute_reply.started": "2023-10-13T18:41:59.906438Z"
    }
   },
   "outputs": [
    {
     "data": {
      "text/plain": [
       "suicide        116037\n",
       "non-suicide    116037\n",
       "Name: class, dtype: int64"
      ]
     },
     "execution_count": 3,
     "metadata": {},
     "output_type": "execute_result"
    }
   ],
   "source": [
    "data['class'].value_counts()"
   ]
  },
  {
   "cell_type": "code",
   "execution_count": 21,
   "metadata": {
    "execution": {
     "iopub.execute_input": "2023-10-13T18:41:59.935404Z",
     "iopub.status.busy": "2023-10-13T18:41:59.935063Z",
     "iopub.status.idle": "2023-10-13T18:41:59.962664Z",
     "shell.execute_reply": "2023-10-13T18:41:59.961626Z",
     "shell.execute_reply.started": "2023-10-13T18:41:59.935368Z"
    }
   },
   "outputs": [
    {
     "data": {
      "text/plain": [
       "array(['suicide', 'non-suicide'], dtype=object)"
      ]
     },
     "execution_count": 21,
     "metadata": {},
     "output_type": "execute_result"
    }
   ],
   "source": [
    "data['class'].value_counts().index.values"
   ]
  },
  {
   "cell_type": "code",
   "execution_count": 22,
   "metadata": {
    "execution": {
     "iopub.execute_input": "2023-10-13T18:41:59.964822Z",
     "iopub.status.busy": "2023-10-13T18:41:59.964227Z",
     "iopub.status.idle": "2023-10-13T18:42:00.091268Z",
     "shell.execute_reply": "2023-10-13T18:42:00.090391Z",
     "shell.execute_reply.started": "2023-10-13T18:41:59.964763Z"
    }
   },
   "outputs": [],
   "source": [
    "train_data,test_data=train_test_split(data,test_size=0.2,random_state=10)"
   ]
  },
  {
   "cell_type": "code",
   "execution_count": 23,
   "metadata": {
    "execution": {
     "iopub.execute_input": "2023-10-13T18:42:00.093008Z",
     "iopub.status.busy": "2023-10-13T18:42:00.092481Z",
     "iopub.status.idle": "2023-10-13T18:42:00.115819Z",
     "shell.execute_reply": "2023-10-13T18:42:00.114954Z",
     "shell.execute_reply.started": "2023-10-13T18:42:00.092971Z"
    }
   },
   "outputs": [
    {
     "data": {
      "text/plain": [
       "array(['suicide', 'non-suicide'], dtype=object)"
      ]
     },
     "execution_count": 23,
     "metadata": {},
     "output_type": "execute_result"
    }
   ],
   "source": [
    "train_data['class'].value_counts().index.values"
   ]
  },
  {
   "cell_type": "markdown",
   "metadata": {},
   "source": [
    "# **Data Visualisation**"
   ]
  },
  {
   "cell_type": "code",
   "execution_count": 24,
   "metadata": {
    "execution": {
     "iopub.execute_input": "2023-10-13T18:42:00.117372Z",
     "iopub.status.busy": "2023-10-13T18:42:00.11705Z",
     "iopub.status.idle": "2023-10-13T18:42:00.211503Z",
     "shell.execute_reply": "2023-10-13T18:42:00.210599Z",
     "shell.execute_reply.started": "2023-10-13T18:42:00.117341Z"
    }
   },
   "outputs": [
    {
     "data": {
      "application/vnd.plotly.v1+json": {
       "config": {
        "plotlyServerURL": "https://plot.ly"
       },
       "data": [
        {
         "alignmentgroup": "True",
         "hovertemplate": "color=Suicide<br>x=%{x}<br>y=%{y}<extra></extra>",
         "legendgroup": "Suicide",
         "marker": {
          "color": "#636efa",
          "pattern": {
           "shape": ""
          }
         },
         "name": "Suicide",
         "offsetgroup": "Suicide",
         "orientation": "v",
         "showlegend": true,
         "textposition": "auto",
         "type": "bar",
         "x": [
          "suicide"
         ],
         "xaxis": "x",
         "y": [
          92831
         ],
         "yaxis": "y"
        },
        {
         "alignmentgroup": "True",
         "hovertemplate": "color=Not Suicide<br>x=%{x}<br>y=%{y}<extra></extra>",
         "legendgroup": "Not Suicide",
         "marker": {
          "color": "#EF553B",
          "pattern": {
           "shape": ""
          }
         },
         "name": "Not Suicide",
         "offsetgroup": "Not Suicide",
         "orientation": "v",
         "showlegend": true,
         "textposition": "auto",
         "type": "bar",
         "x": [
          "non-suicide"
         ],
         "xaxis": "x",
         "y": [
          92828
         ],
         "yaxis": "y"
        }
       ],
       "layout": {
        "barmode": "relative",
        "legend": {
         "title": {
          "text": "color"
         },
         "tracegroupgap": 0
        },
        "margin": {
         "t": 60
        },
        "template": {
         "data": {
          "bar": [
           {
            "error_x": {
             "color": "#2a3f5f"
            },
            "error_y": {
             "color": "#2a3f5f"
            },
            "marker": {
             "line": {
              "color": "#E5ECF6",
              "width": 0.5
             },
             "pattern": {
              "fillmode": "overlay",
              "size": 10,
              "solidity": 0.2
             }
            },
            "type": "bar"
           }
          ],
          "barpolar": [
           {
            "marker": {
             "line": {
              "color": "#E5ECF6",
              "width": 0.5
             },
             "pattern": {
              "fillmode": "overlay",
              "size": 10,
              "solidity": 0.2
             }
            },
            "type": "barpolar"
           }
          ],
          "carpet": [
           {
            "aaxis": {
             "endlinecolor": "#2a3f5f",
             "gridcolor": "white",
             "linecolor": "white",
             "minorgridcolor": "white",
             "startlinecolor": "#2a3f5f"
            },
            "baxis": {
             "endlinecolor": "#2a3f5f",
             "gridcolor": "white",
             "linecolor": "white",
             "minorgridcolor": "white",
             "startlinecolor": "#2a3f5f"
            },
            "type": "carpet"
           }
          ],
          "choropleth": [
           {
            "colorbar": {
             "outlinewidth": 0,
             "ticks": ""
            },
            "type": "choropleth"
           }
          ],
          "contour": [
           {
            "colorbar": {
             "outlinewidth": 0,
             "ticks": ""
            },
            "colorscale": [
             [
              0,
              "#0d0887"
             ],
             [
              0.1111111111111111,
              "#46039f"
             ],
             [
              0.2222222222222222,
              "#7201a8"
             ],
             [
              0.3333333333333333,
              "#9c179e"
             ],
             [
              0.4444444444444444,
              "#bd3786"
             ],
             [
              0.5555555555555556,
              "#d8576b"
             ],
             [
              0.6666666666666666,
              "#ed7953"
             ],
             [
              0.7777777777777778,
              "#fb9f3a"
             ],
             [
              0.8888888888888888,
              "#fdca26"
             ],
             [
              1,
              "#f0f921"
             ]
            ],
            "type": "contour"
           }
          ],
          "contourcarpet": [
           {
            "colorbar": {
             "outlinewidth": 0,
             "ticks": ""
            },
            "type": "contourcarpet"
           }
          ],
          "heatmap": [
           {
            "colorbar": {
             "outlinewidth": 0,
             "ticks": ""
            },
            "colorscale": [
             [
              0,
              "#0d0887"
             ],
             [
              0.1111111111111111,
              "#46039f"
             ],
             [
              0.2222222222222222,
              "#7201a8"
             ],
             [
              0.3333333333333333,
              "#9c179e"
             ],
             [
              0.4444444444444444,
              "#bd3786"
             ],
             [
              0.5555555555555556,
              "#d8576b"
             ],
             [
              0.6666666666666666,
              "#ed7953"
             ],
             [
              0.7777777777777778,
              "#fb9f3a"
             ],
             [
              0.8888888888888888,
              "#fdca26"
             ],
             [
              1,
              "#f0f921"
             ]
            ],
            "type": "heatmap"
           }
          ],
          "heatmapgl": [
           {
            "colorbar": {
             "outlinewidth": 0,
             "ticks": ""
            },
            "colorscale": [
             [
              0,
              "#0d0887"
             ],
             [
              0.1111111111111111,
              "#46039f"
             ],
             [
              0.2222222222222222,
              "#7201a8"
             ],
             [
              0.3333333333333333,
              "#9c179e"
             ],
             [
              0.4444444444444444,
              "#bd3786"
             ],
             [
              0.5555555555555556,
              "#d8576b"
             ],
             [
              0.6666666666666666,
              "#ed7953"
             ],
             [
              0.7777777777777778,
              "#fb9f3a"
             ],
             [
              0.8888888888888888,
              "#fdca26"
             ],
             [
              1,
              "#f0f921"
             ]
            ],
            "type": "heatmapgl"
           }
          ],
          "histogram": [
           {
            "marker": {
             "pattern": {
              "fillmode": "overlay",
              "size": 10,
              "solidity": 0.2
             }
            },
            "type": "histogram"
           }
          ],
          "histogram2d": [
           {
            "colorbar": {
             "outlinewidth": 0,
             "ticks": ""
            },
            "colorscale": [
             [
              0,
              "#0d0887"
             ],
             [
              0.1111111111111111,
              "#46039f"
             ],
             [
              0.2222222222222222,
              "#7201a8"
             ],
             [
              0.3333333333333333,
              "#9c179e"
             ],
             [
              0.4444444444444444,
              "#bd3786"
             ],
             [
              0.5555555555555556,
              "#d8576b"
             ],
             [
              0.6666666666666666,
              "#ed7953"
             ],
             [
              0.7777777777777778,
              "#fb9f3a"
             ],
             [
              0.8888888888888888,
              "#fdca26"
             ],
             [
              1,
              "#f0f921"
             ]
            ],
            "type": "histogram2d"
           }
          ],
          "histogram2dcontour": [
           {
            "colorbar": {
             "outlinewidth": 0,
             "ticks": ""
            },
            "colorscale": [
             [
              0,
              "#0d0887"
             ],
             [
              0.1111111111111111,
              "#46039f"
             ],
             [
              0.2222222222222222,
              "#7201a8"
             ],
             [
              0.3333333333333333,
              "#9c179e"
             ],
             [
              0.4444444444444444,
              "#bd3786"
             ],
             [
              0.5555555555555556,
              "#d8576b"
             ],
             [
              0.6666666666666666,
              "#ed7953"
             ],
             [
              0.7777777777777778,
              "#fb9f3a"
             ],
             [
              0.8888888888888888,
              "#fdca26"
             ],
             [
              1,
              "#f0f921"
             ]
            ],
            "type": "histogram2dcontour"
           }
          ],
          "mesh3d": [
           {
            "colorbar": {
             "outlinewidth": 0,
             "ticks": ""
            },
            "type": "mesh3d"
           }
          ],
          "parcoords": [
           {
            "line": {
             "colorbar": {
              "outlinewidth": 0,
              "ticks": ""
             }
            },
            "type": "parcoords"
           }
          ],
          "pie": [
           {
            "automargin": true,
            "type": "pie"
           }
          ],
          "scatter": [
           {
            "marker": {
             "colorbar": {
              "outlinewidth": 0,
              "ticks": ""
             }
            },
            "type": "scatter"
           }
          ],
          "scatter3d": [
           {
            "line": {
             "colorbar": {
              "outlinewidth": 0,
              "ticks": ""
             }
            },
            "marker": {
             "colorbar": {
              "outlinewidth": 0,
              "ticks": ""
             }
            },
            "type": "scatter3d"
           }
          ],
          "scattercarpet": [
           {
            "marker": {
             "colorbar": {
              "outlinewidth": 0,
              "ticks": ""
             }
            },
            "type": "scattercarpet"
           }
          ],
          "scattergeo": [
           {
            "marker": {
             "colorbar": {
              "outlinewidth": 0,
              "ticks": ""
             }
            },
            "type": "scattergeo"
           }
          ],
          "scattergl": [
           {
            "marker": {
             "colorbar": {
              "outlinewidth": 0,
              "ticks": ""
             }
            },
            "type": "scattergl"
           }
          ],
          "scattermapbox": [
           {
            "marker": {
             "colorbar": {
              "outlinewidth": 0,
              "ticks": ""
             }
            },
            "type": "scattermapbox"
           }
          ],
          "scatterpolar": [
           {
            "marker": {
             "colorbar": {
              "outlinewidth": 0,
              "ticks": ""
             }
            },
            "type": "scatterpolar"
           }
          ],
          "scatterpolargl": [
           {
            "marker": {
             "colorbar": {
              "outlinewidth": 0,
              "ticks": ""
             }
            },
            "type": "scatterpolargl"
           }
          ],
          "scatterternary": [
           {
            "marker": {
             "colorbar": {
              "outlinewidth": 0,
              "ticks": ""
             }
            },
            "type": "scatterternary"
           }
          ],
          "surface": [
           {
            "colorbar": {
             "outlinewidth": 0,
             "ticks": ""
            },
            "colorscale": [
             [
              0,
              "#0d0887"
             ],
             [
              0.1111111111111111,
              "#46039f"
             ],
             [
              0.2222222222222222,
              "#7201a8"
             ],
             [
              0.3333333333333333,
              "#9c179e"
             ],
             [
              0.4444444444444444,
              "#bd3786"
             ],
             [
              0.5555555555555556,
              "#d8576b"
             ],
             [
              0.6666666666666666,
              "#ed7953"
             ],
             [
              0.7777777777777778,
              "#fb9f3a"
             ],
             [
              0.8888888888888888,
              "#fdca26"
             ],
             [
              1,
              "#f0f921"
             ]
            ],
            "type": "surface"
           }
          ],
          "table": [
           {
            "cells": {
             "fill": {
              "color": "#EBF0F8"
             },
             "line": {
              "color": "white"
             }
            },
            "header": {
             "fill": {
              "color": "#C8D4E3"
             },
             "line": {
              "color": "white"
             }
            },
            "type": "table"
           }
          ]
         },
         "layout": {
          "annotationdefaults": {
           "arrowcolor": "#2a3f5f",
           "arrowhead": 0,
           "arrowwidth": 1
          },
          "autotypenumbers": "strict",
          "coloraxis": {
           "colorbar": {
            "outlinewidth": 0,
            "ticks": ""
           }
          },
          "colorscale": {
           "diverging": [
            [
             0,
             "#8e0152"
            ],
            [
             0.1,
             "#c51b7d"
            ],
            [
             0.2,
             "#de77ae"
            ],
            [
             0.3,
             "#f1b6da"
            ],
            [
             0.4,
             "#fde0ef"
            ],
            [
             0.5,
             "#f7f7f7"
            ],
            [
             0.6,
             "#e6f5d0"
            ],
            [
             0.7,
             "#b8e186"
            ],
            [
             0.8,
             "#7fbc41"
            ],
            [
             0.9,
             "#4d9221"
            ],
            [
             1,
             "#276419"
            ]
           ],
           "sequential": [
            [
             0,
             "#0d0887"
            ],
            [
             0.1111111111111111,
             "#46039f"
            ],
            [
             0.2222222222222222,
             "#7201a8"
            ],
            [
             0.3333333333333333,
             "#9c179e"
            ],
            [
             0.4444444444444444,
             "#bd3786"
            ],
            [
             0.5555555555555556,
             "#d8576b"
            ],
            [
             0.6666666666666666,
             "#ed7953"
            ],
            [
             0.7777777777777778,
             "#fb9f3a"
            ],
            [
             0.8888888888888888,
             "#fdca26"
            ],
            [
             1,
             "#f0f921"
            ]
           ],
           "sequentialminus": [
            [
             0,
             "#0d0887"
            ],
            [
             0.1111111111111111,
             "#46039f"
            ],
            [
             0.2222222222222222,
             "#7201a8"
            ],
            [
             0.3333333333333333,
             "#9c179e"
            ],
            [
             0.4444444444444444,
             "#bd3786"
            ],
            [
             0.5555555555555556,
             "#d8576b"
            ],
            [
             0.6666666666666666,
             "#ed7953"
            ],
            [
             0.7777777777777778,
             "#fb9f3a"
            ],
            [
             0.8888888888888888,
             "#fdca26"
            ],
            [
             1,
             "#f0f921"
            ]
           ]
          },
          "colorway": [
           "#636efa",
           "#EF553B",
           "#00cc96",
           "#ab63fa",
           "#FFA15A",
           "#19d3f3",
           "#FF6692",
           "#B6E880",
           "#FF97FF",
           "#FECB52"
          ],
          "font": {
           "color": "#2a3f5f"
          },
          "geo": {
           "bgcolor": "white",
           "lakecolor": "white",
           "landcolor": "#E5ECF6",
           "showlakes": true,
           "showland": true,
           "subunitcolor": "white"
          },
          "hoverlabel": {
           "align": "left"
          },
          "hovermode": "closest",
          "mapbox": {
           "style": "light"
          },
          "paper_bgcolor": "white",
          "plot_bgcolor": "#E5ECF6",
          "polar": {
           "angularaxis": {
            "gridcolor": "white",
            "linecolor": "white",
            "ticks": ""
           },
           "bgcolor": "#E5ECF6",
           "radialaxis": {
            "gridcolor": "white",
            "linecolor": "white",
            "ticks": ""
           }
          },
          "scene": {
           "xaxis": {
            "backgroundcolor": "#E5ECF6",
            "gridcolor": "white",
            "gridwidth": 2,
            "linecolor": "white",
            "showbackground": true,
            "ticks": "",
            "zerolinecolor": "white"
           },
           "yaxis": {
            "backgroundcolor": "#E5ECF6",
            "gridcolor": "white",
            "gridwidth": 2,
            "linecolor": "white",
            "showbackground": true,
            "ticks": "",
            "zerolinecolor": "white"
           },
           "zaxis": {
            "backgroundcolor": "#E5ECF6",
            "gridcolor": "white",
            "gridwidth": 2,
            "linecolor": "white",
            "showbackground": true,
            "ticks": "",
            "zerolinecolor": "white"
           }
          },
          "shapedefaults": {
           "line": {
            "color": "#2a3f5f"
           }
          },
          "ternary": {
           "aaxis": {
            "gridcolor": "white",
            "linecolor": "white",
            "ticks": ""
           },
           "baxis": {
            "gridcolor": "white",
            "linecolor": "white",
            "ticks": ""
           },
           "bgcolor": "#E5ECF6",
           "caxis": {
            "gridcolor": "white",
            "linecolor": "white",
            "ticks": ""
           }
          },
          "title": {
           "x": 0.05
          },
          "xaxis": {
           "automargin": true,
           "gridcolor": "white",
           "linecolor": "white",
           "ticks": "",
           "title": {
            "standoff": 15
           },
           "zerolinecolor": "white",
           "zerolinewidth": 2
          },
          "yaxis": {
           "automargin": true,
           "gridcolor": "white",
           "linecolor": "white",
           "ticks": "",
           "title": {
            "standoff": 15
           },
           "zerolinecolor": "white",
           "zerolinewidth": 2
          }
         }
        },
        "xaxis": {
         "anchor": "y",
         "domain": [
          0,
          1
         ],
         "title": {
          "text": "x"
         }
        },
        "yaxis": {
         "anchor": "x",
         "domain": [
          0,
          1
         ],
         "title": {
          "text": "y"
         }
        }
       }
      },
      "text/html": [
       "<div>                            <div id=\"8db07757-7a4f-48a4-b285-7971f2c02b10\" class=\"plotly-graph-div\" style=\"height:525px; width:100%;\"></div>            <script type=\"text/javascript\">                require([\"plotly\"], function(Plotly) {                    window.PLOTLYENV=window.PLOTLYENV || {};                                    if (document.getElementById(\"8db07757-7a4f-48a4-b285-7971f2c02b10\")) {                    Plotly.newPlot(                        \"8db07757-7a4f-48a4-b285-7971f2c02b10\",                        [{\"alignmentgroup\":\"True\",\"hovertemplate\":\"color=Suicide<br>x=%{x}<br>y=%{y}<extra></extra>\",\"legendgroup\":\"Suicide\",\"marker\":{\"color\":\"#636efa\",\"pattern\":{\"shape\":\"\"}},\"name\":\"Suicide\",\"offsetgroup\":\"Suicide\",\"orientation\":\"v\",\"showlegend\":true,\"textposition\":\"auto\",\"type\":\"bar\",\"x\":[\"suicide\"],\"xaxis\":\"x\",\"y\":[92831],\"yaxis\":\"y\"},{\"alignmentgroup\":\"True\",\"hovertemplate\":\"color=Not Suicide<br>x=%{x}<br>y=%{y}<extra></extra>\",\"legendgroup\":\"Not Suicide\",\"marker\":{\"color\":\"#EF553B\",\"pattern\":{\"shape\":\"\"}},\"name\":\"Not Suicide\",\"offsetgroup\":\"Not Suicide\",\"orientation\":\"v\",\"showlegend\":true,\"textposition\":\"auto\",\"type\":\"bar\",\"x\":[\"non-suicide\"],\"xaxis\":\"x\",\"y\":[92828],\"yaxis\":\"y\"}],                        {\"barmode\":\"relative\",\"legend\":{\"title\":{\"text\":\"color\"},\"tracegroupgap\":0},\"margin\":{\"t\":60},\"template\":{\"data\":{\"bar\":[{\"error_x\":{\"color\":\"#2a3f5f\"},\"error_y\":{\"color\":\"#2a3f5f\"},\"marker\":{\"line\":{\"color\":\"#E5ECF6\",\"width\":0.5},\"pattern\":{\"fillmode\":\"overlay\",\"size\":10,\"solidity\":0.2}},\"type\":\"bar\"}],\"barpolar\":[{\"marker\":{\"line\":{\"color\":\"#E5ECF6\",\"width\":0.5},\"pattern\":{\"fillmode\":\"overlay\",\"size\":10,\"solidity\":0.2}},\"type\":\"barpolar\"}],\"carpet\":[{\"aaxis\":{\"endlinecolor\":\"#2a3f5f\",\"gridcolor\":\"white\",\"linecolor\":\"white\",\"minorgridcolor\":\"white\",\"startlinecolor\":\"#2a3f5f\"},\"baxis\":{\"endlinecolor\":\"#2a3f5f\",\"gridcolor\":\"white\",\"linecolor\":\"white\",\"minorgridcolor\":\"white\",\"startlinecolor\":\"#2a3f5f\"},\"type\":\"carpet\"}],\"choropleth\":[{\"colorbar\":{\"outlinewidth\":0,\"ticks\":\"\"},\"type\":\"choropleth\"}],\"contour\":[{\"colorbar\":{\"outlinewidth\":0,\"ticks\":\"\"},\"colorscale\":[[0.0,\"#0d0887\"],[0.1111111111111111,\"#46039f\"],[0.2222222222222222,\"#7201a8\"],[0.3333333333333333,\"#9c179e\"],[0.4444444444444444,\"#bd3786\"],[0.5555555555555556,\"#d8576b\"],[0.6666666666666666,\"#ed7953\"],[0.7777777777777778,\"#fb9f3a\"],[0.8888888888888888,\"#fdca26\"],[1.0,\"#f0f921\"]],\"type\":\"contour\"}],\"contourcarpet\":[{\"colorbar\":{\"outlinewidth\":0,\"ticks\":\"\"},\"type\":\"contourcarpet\"}],\"heatmap\":[{\"colorbar\":{\"outlinewidth\":0,\"ticks\":\"\"},\"colorscale\":[[0.0,\"#0d0887\"],[0.1111111111111111,\"#46039f\"],[0.2222222222222222,\"#7201a8\"],[0.3333333333333333,\"#9c179e\"],[0.4444444444444444,\"#bd3786\"],[0.5555555555555556,\"#d8576b\"],[0.6666666666666666,\"#ed7953\"],[0.7777777777777778,\"#fb9f3a\"],[0.8888888888888888,\"#fdca26\"],[1.0,\"#f0f921\"]],\"type\":\"heatmap\"}],\"heatmapgl\":[{\"colorbar\":{\"outlinewidth\":0,\"ticks\":\"\"},\"colorscale\":[[0.0,\"#0d0887\"],[0.1111111111111111,\"#46039f\"],[0.2222222222222222,\"#7201a8\"],[0.3333333333333333,\"#9c179e\"],[0.4444444444444444,\"#bd3786\"],[0.5555555555555556,\"#d8576b\"],[0.6666666666666666,\"#ed7953\"],[0.7777777777777778,\"#fb9f3a\"],[0.8888888888888888,\"#fdca26\"],[1.0,\"#f0f921\"]],\"type\":\"heatmapgl\"}],\"histogram\":[{\"marker\":{\"pattern\":{\"fillmode\":\"overlay\",\"size\":10,\"solidity\":0.2}},\"type\":\"histogram\"}],\"histogram2d\":[{\"colorbar\":{\"outlinewidth\":0,\"ticks\":\"\"},\"colorscale\":[[0.0,\"#0d0887\"],[0.1111111111111111,\"#46039f\"],[0.2222222222222222,\"#7201a8\"],[0.3333333333333333,\"#9c179e\"],[0.4444444444444444,\"#bd3786\"],[0.5555555555555556,\"#d8576b\"],[0.6666666666666666,\"#ed7953\"],[0.7777777777777778,\"#fb9f3a\"],[0.8888888888888888,\"#fdca26\"],[1.0,\"#f0f921\"]],\"type\":\"histogram2d\"}],\"histogram2dcontour\":[{\"colorbar\":{\"outlinewidth\":0,\"ticks\":\"\"},\"colorscale\":[[0.0,\"#0d0887\"],[0.1111111111111111,\"#46039f\"],[0.2222222222222222,\"#7201a8\"],[0.3333333333333333,\"#9c179e\"],[0.4444444444444444,\"#bd3786\"],[0.5555555555555556,\"#d8576b\"],[0.6666666666666666,\"#ed7953\"],[0.7777777777777778,\"#fb9f3a\"],[0.8888888888888888,\"#fdca26\"],[1.0,\"#f0f921\"]],\"type\":\"histogram2dcontour\"}],\"mesh3d\":[{\"colorbar\":{\"outlinewidth\":0,\"ticks\":\"\"},\"type\":\"mesh3d\"}],\"parcoords\":[{\"line\":{\"colorbar\":{\"outlinewidth\":0,\"ticks\":\"\"}},\"type\":\"parcoords\"}],\"pie\":[{\"automargin\":true,\"type\":\"pie\"}],\"scatter\":[{\"marker\":{\"colorbar\":{\"outlinewidth\":0,\"ticks\":\"\"}},\"type\":\"scatter\"}],\"scatter3d\":[{\"line\":{\"colorbar\":{\"outlinewidth\":0,\"ticks\":\"\"}},\"marker\":{\"colorbar\":{\"outlinewidth\":0,\"ticks\":\"\"}},\"type\":\"scatter3d\"}],\"scattercarpet\":[{\"marker\":{\"colorbar\":{\"outlinewidth\":0,\"ticks\":\"\"}},\"type\":\"scattercarpet\"}],\"scattergeo\":[{\"marker\":{\"colorbar\":{\"outlinewidth\":0,\"ticks\":\"\"}},\"type\":\"scattergeo\"}],\"scattergl\":[{\"marker\":{\"colorbar\":{\"outlinewidth\":0,\"ticks\":\"\"}},\"type\":\"scattergl\"}],\"scattermapbox\":[{\"marker\":{\"colorbar\":{\"outlinewidth\":0,\"ticks\":\"\"}},\"type\":\"scattermapbox\"}],\"scatterpolar\":[{\"marker\":{\"colorbar\":{\"outlinewidth\":0,\"ticks\":\"\"}},\"type\":\"scatterpolar\"}],\"scatterpolargl\":[{\"marker\":{\"colorbar\":{\"outlinewidth\":0,\"ticks\":\"\"}},\"type\":\"scatterpolargl\"}],\"scatterternary\":[{\"marker\":{\"colorbar\":{\"outlinewidth\":0,\"ticks\":\"\"}},\"type\":\"scatterternary\"}],\"surface\":[{\"colorbar\":{\"outlinewidth\":0,\"ticks\":\"\"},\"colorscale\":[[0.0,\"#0d0887\"],[0.1111111111111111,\"#46039f\"],[0.2222222222222222,\"#7201a8\"],[0.3333333333333333,\"#9c179e\"],[0.4444444444444444,\"#bd3786\"],[0.5555555555555556,\"#d8576b\"],[0.6666666666666666,\"#ed7953\"],[0.7777777777777778,\"#fb9f3a\"],[0.8888888888888888,\"#fdca26\"],[1.0,\"#f0f921\"]],\"type\":\"surface\"}],\"table\":[{\"cells\":{\"fill\":{\"color\":\"#EBF0F8\"},\"line\":{\"color\":\"white\"}},\"header\":{\"fill\":{\"color\":\"#C8D4E3\"},\"line\":{\"color\":\"white\"}},\"type\":\"table\"}]},\"layout\":{\"annotationdefaults\":{\"arrowcolor\":\"#2a3f5f\",\"arrowhead\":0,\"arrowwidth\":1},\"autotypenumbers\":\"strict\",\"coloraxis\":{\"colorbar\":{\"outlinewidth\":0,\"ticks\":\"\"}},\"colorscale\":{\"diverging\":[[0,\"#8e0152\"],[0.1,\"#c51b7d\"],[0.2,\"#de77ae\"],[0.3,\"#f1b6da\"],[0.4,\"#fde0ef\"],[0.5,\"#f7f7f7\"],[0.6,\"#e6f5d0\"],[0.7,\"#b8e186\"],[0.8,\"#7fbc41\"],[0.9,\"#4d9221\"],[1,\"#276419\"]],\"sequential\":[[0.0,\"#0d0887\"],[0.1111111111111111,\"#46039f\"],[0.2222222222222222,\"#7201a8\"],[0.3333333333333333,\"#9c179e\"],[0.4444444444444444,\"#bd3786\"],[0.5555555555555556,\"#d8576b\"],[0.6666666666666666,\"#ed7953\"],[0.7777777777777778,\"#fb9f3a\"],[0.8888888888888888,\"#fdca26\"],[1.0,\"#f0f921\"]],\"sequentialminus\":[[0.0,\"#0d0887\"],[0.1111111111111111,\"#46039f\"],[0.2222222222222222,\"#7201a8\"],[0.3333333333333333,\"#9c179e\"],[0.4444444444444444,\"#bd3786\"],[0.5555555555555556,\"#d8576b\"],[0.6666666666666666,\"#ed7953\"],[0.7777777777777778,\"#fb9f3a\"],[0.8888888888888888,\"#fdca26\"],[1.0,\"#f0f921\"]]},\"colorway\":[\"#636efa\",\"#EF553B\",\"#00cc96\",\"#ab63fa\",\"#FFA15A\",\"#19d3f3\",\"#FF6692\",\"#B6E880\",\"#FF97FF\",\"#FECB52\"],\"font\":{\"color\":\"#2a3f5f\"},\"geo\":{\"bgcolor\":\"white\",\"lakecolor\":\"white\",\"landcolor\":\"#E5ECF6\",\"showlakes\":true,\"showland\":true,\"subunitcolor\":\"white\"},\"hoverlabel\":{\"align\":\"left\"},\"hovermode\":\"closest\",\"mapbox\":{\"style\":\"light\"},\"paper_bgcolor\":\"white\",\"plot_bgcolor\":\"#E5ECF6\",\"polar\":{\"angularaxis\":{\"gridcolor\":\"white\",\"linecolor\":\"white\",\"ticks\":\"\"},\"bgcolor\":\"#E5ECF6\",\"radialaxis\":{\"gridcolor\":\"white\",\"linecolor\":\"white\",\"ticks\":\"\"}},\"scene\":{\"xaxis\":{\"backgroundcolor\":\"#E5ECF6\",\"gridcolor\":\"white\",\"gridwidth\":2,\"linecolor\":\"white\",\"showbackground\":true,\"ticks\":\"\",\"zerolinecolor\":\"white\"},\"yaxis\":{\"backgroundcolor\":\"#E5ECF6\",\"gridcolor\":\"white\",\"gridwidth\":2,\"linecolor\":\"white\",\"showbackground\":true,\"ticks\":\"\",\"zerolinecolor\":\"white\"},\"zaxis\":{\"backgroundcolor\":\"#E5ECF6\",\"gridcolor\":\"white\",\"gridwidth\":2,\"linecolor\":\"white\",\"showbackground\":true,\"ticks\":\"\",\"zerolinecolor\":\"white\"}},\"shapedefaults\":{\"line\":{\"color\":\"#2a3f5f\"}},\"ternary\":{\"aaxis\":{\"gridcolor\":\"white\",\"linecolor\":\"white\",\"ticks\":\"\"},\"baxis\":{\"gridcolor\":\"white\",\"linecolor\":\"white\",\"ticks\":\"\"},\"bgcolor\":\"#E5ECF6\",\"caxis\":{\"gridcolor\":\"white\",\"linecolor\":\"white\",\"ticks\":\"\"}},\"title\":{\"x\":0.05},\"xaxis\":{\"automargin\":true,\"gridcolor\":\"white\",\"linecolor\":\"white\",\"ticks\":\"\",\"title\":{\"standoff\":15},\"zerolinecolor\":\"white\",\"zerolinewidth\":2},\"yaxis\":{\"automargin\":true,\"gridcolor\":\"white\",\"linecolor\":\"white\",\"ticks\":\"\",\"title\":{\"standoff\":15},\"zerolinecolor\":\"white\",\"zerolinewidth\":2}}},\"xaxis\":{\"anchor\":\"y\",\"domain\":[0.0,1.0],\"title\":{\"text\":\"x\"}},\"yaxis\":{\"anchor\":\"x\",\"domain\":[0.0,1.0],\"title\":{\"text\":\"y\"}}},                        {\"responsive\": true}                    ).then(function(){\n",
       "                            \n",
       "var gd = document.getElementById('8db07757-7a4f-48a4-b285-7971f2c02b10');\n",
       "var x = new MutationObserver(function (mutations, observer) {{\n",
       "        var display = window.getComputedStyle(gd).display;\n",
       "        if (!display || display === 'none') {{\n",
       "            console.log([gd, 'removed!']);\n",
       "            Plotly.purge(gd);\n",
       "            observer.disconnect();\n",
       "        }}\n",
       "}});\n",
       "\n",
       "// Listen for the removal of the full notebook cells\n",
       "var notebookContainer = gd.closest('#notebook-container');\n",
       "if (notebookContainer) {{\n",
       "    x.observe(notebookContainer, {childList: true});\n",
       "}}\n",
       "\n",
       "// Listen for the clearing of the current output cell\n",
       "var outputEl = gd.closest('.output');\n",
       "if (outputEl) {{\n",
       "    x.observe(outputEl, {childList: true});\n",
       "}}\n",
       "\n",
       "                        })                };                });            </script>        </div>"
      ]
     },
     "metadata": {},
     "output_type": "display_data"
    }
   ],
   "source": [
    "plx.bar(train_data,x=train_data['class'].value_counts().index.values,\n",
    "        y=train_data['class'].value_counts(),color=['Suicide','Not Suicide'])"
   ]
  },
  {
   "cell_type": "code",
   "execution_count": null,
   "metadata": {
    "execution": {
     "iopub.execute_input": "2023-10-13T18:42:00.214474Z",
     "iopub.status.busy": "2023-10-13T18:42:00.214141Z",
     "iopub.status.idle": "2023-10-13T18:42:00.319603Z",
     "shell.execute_reply": "2023-10-13T18:42:00.318839Z",
     "shell.execute_reply.started": "2023-10-13T18:42:00.21444Z"
    }
   },
   "outputs": [],
   "source": []
  },
  {
   "cell_type": "markdown",
   "metadata": {},
   "source": [
    "# **Data Cleaning**"
   ]
  },
  {
   "cell_type": "code",
   "execution_count": 25,
   "metadata": {
    "execution": {
     "iopub.execute_input": "2023-10-13T18:42:00.321687Z",
     "iopub.status.busy": "2023-10-13T18:42:00.321351Z",
     "iopub.status.idle": "2023-10-13T18:42:00.3267Z",
     "shell.execute_reply": "2023-10-13T18:42:00.325552Z",
     "shell.execute_reply.started": "2023-10-13T18:42:00.321652Z"
    }
   },
   "outputs": [],
   "source": [
    "def clean_text(text):\n",
    "    text_length=[]\n",
    "    cleaned_text=[]\n",
    "    for sent in tqdm(text):\n",
    "        sent=sent.lower()\n",
    "        sent=nfx.remove_special_characters(sent)\n",
    "        sent=nfx.remove_stopwords(sent)\n",
    "        text_length.append(len(sent.split()))\n",
    "        cleaned_text.append(sent)\n",
    "    return cleaned_text,text_length"
   ]
  },
  {
   "cell_type": "code",
   "execution_count": 26,
   "metadata": {
    "execution": {
     "iopub.execute_input": "2023-10-13T18:42:00.328367Z",
     "iopub.status.busy": "2023-10-13T18:42:00.327898Z",
     "iopub.status.idle": "2023-10-13T18:42:11.721472Z",
     "shell.execute_reply": "2023-10-13T18:42:11.720611Z",
     "shell.execute_reply.started": "2023-10-13T18:42:00.328332Z"
    }
   },
   "outputs": [
    {
     "name": "stderr",
     "output_type": "stream",
     "text": [
      "100%|███████████████████████████████████████████████████████████████████████| 185659/185659 [00:26<00:00, 7003.54it/s]\n",
      "100%|█████████████████████████████████████████████████████████████████████████| 46415/46415 [00:06<00:00, 6852.90it/s]\n"
     ]
    }
   ],
   "source": [
    "cleaned_train_text,train_text_length=clean_text(train_data.text)\n",
    "cleaned_test_text,test_text_length=clean_text(test_data.text)"
   ]
  },
  {
   "cell_type": "code",
   "execution_count": 10,
   "metadata": {
    "execution": {
     "iopub.execute_input": "2023-10-13T18:42:12.680304Z",
     "iopub.status.busy": "2023-10-13T18:42:12.679802Z",
     "iopub.status.idle": "2023-10-13T18:42:20.694003Z",
     "shell.execute_reply": "2023-10-13T18:42:20.693146Z",
     "shell.execute_reply.started": "2023-10-13T18:42:12.680265Z"
    }
   },
   "outputs": [],
   "source": [
    "tokenizer=Tokenizer()\n",
    "tokenizer.fit_on_texts(cleaned_train_text)"
   ]
  },
  {
   "cell_type": "code",
   "execution_count": 28,
   "metadata": {},
   "outputs": [
    {
     "data": {
      "text/plain": [
       "['hey east cost ya guys doin whats snow like',\n",
       " 'ate edible ate edible looking fun stuff sitting suggestions',\n",
       " 'helplessness havelast week ive realised dont like cant stsy happy long dont feel like belong dont know want know people miss die thats stops dont know im meant knowing thatthe times recently ive felt close happy im drinking following day regardless happens feel worse suicidal feelings worse',\n",
       " 'want win election labeled discussion fight insult personally im hoping trump fact helps expect vote biden helped',\n",
       " 'toothpicksso thing cant lie doctors family basically push door doctors office came tumbling feel world better lives people im better leaves doctor contacting family saying im allowed things case needed supervision pretty predictable know knifes rope razor blades etc toothpicks mean im flattered think creative kill toothpick honestly feels excessive forcing bubble wrapped getting help making feel worse pressure puts family gonna push guilt able things away isnt fair',\n",
       " 'crisischanging meds getting pristiq ive year switched wellbutrin pristiq added lamictal given energy anxiety want sh deep dont care dont know stop dont want anymore scars especially work im mental health tech working group home teen boys way im going hrt needed vent',\n",
       " 'im gonna foreverim failure gonna 25 months likes man dont know know im tired blaming im tired outcast shit painful potential guess going drain pray god like everyday help hate life hate world want end',\n",
       " 'whats ideal romantic date money',\n",
       " 'acutaully happened awhile ago new kid class thought girl crush polite know friends',\n",
       " 'dont want hereive depressed life family longer talk ive deleted social media reddit live boyfriend fuck havent felt wanted felt loved like years makes feel like shit express frustrations invalidates feelings calls crazy says people usually im telling summer told kill occasion went vegas actually purposefully sliced leg open badly night vegas massacre happened bad wasnt concert right uncle died year january father feels like father figure look died cant point loaded gun including silencer dont wake loudly work id feel awfulso ive got ready problem im pussy dont want live dont want hurt dont want find im going burn forever hell dont think exists like happened exist ive lived lifetime pain cant break decided id bathroom bit easier clean know itll pretty run shower lot itno loves meno caresi family friends children petsand im burden knows mei dont want wish stop bitch pull trigger',\n",
       " 'hi amateurish artist wants game programmers hey saying hi curious 1517 ish programmer game idea pretty weird bullet hell multiplayer main concept tho id love work especially youre time zone 333have lovely day bye',\n",
       " 'want showered love wanna know cares loves thinks',\n",
       " '8 years old whipping 8 inches phone im 3 inch botton phone tf im poor asf use reddit samsung s20 botton phone lowest low',\n",
       " 'hurts muchi cant self hate anymore im end cant anymore want pain end',\n",
       " 'favourite rap verse day 1 jesus lord relieve stressi need revengedistort neck forge stretch like prehistoric rexdont ask guest featuremore new song foreplay like tease sexyou need successim teen coursei need endorsement checks techi heard forbesi need bread dont treat girls like queensi treat like kings chessi horse checki feel like jesus leave bored death',\n",
       " 'ask random crap im bored',\n",
       " 'help friendhelp bro usevensjustaltplease think im unsure pm blow phone know hes ok',\n",
       " 'wanna talk wanna chat im bored preferably girls talk girls dont mind guys wanna talk aswell',\n",
       " 'seriously parents want join school said schools primary religious theyre going feed care religious school got mad ive stressed pushed lot mom wanted cry im shit child fine dont anymore dont care seriouslyand cant join anyways girls school im guy dont fucking care anymore tomorrow guess ill start robot live parents expectations fun like playing games talk friends wasting time cut social life try focus satisfying parents family know hard online im working ass hard b yelling b hate damn life',\n",
       " 'roses red violets blue heart dead im fooli feel dead inside lack emotion hurts im going motions drive motivation lifes worth skys gray people fake depression sucks social anxiety paranoia meaningless existence know song thats cool im fool',\n",
       " 'ujosephjoestar appreciation post kidding hes fucking idiot',\n",
       " 'suicideorg boaring website board went goddamn want kill morethat website didnt help alllike hell thanks letting know suicidal people mention suicide didnt help',\n",
       " 'need talk suicide like best option life rnhi 20m',\n",
       " 'im death penalty dogs killed bite people cant control started killing boys rapedassaulted women cant control eitherand yes boys cuz majority boys goes way',\n",
       " 'somebody hope howdy therei 13 8th grade wanna diei 15 algebra hate muchwe learning thing algebra 5 weeks dont know doingsomebody hopei dont think 15 good grade',\n",
       " 'harpic said',\n",
       " 'tired lifei depressed moods think suicide pretty regularly im good sharing emotions dont think normal permanent solution temporary problem cliche things work feel getting closer closer time',\n",
       " 'im hugz award makes want hug gets edit cursed comments wtf yall playin joke',\n",
       " 'sorryto world sorry waste 18 years siblings sorry wasnt older brother deservedto parents sorry wasnt man imagined id beto friendsto sorry treated terribly hopefully fade memory find treats way shouldveto people believed sorry wasnt strong people read sorry wasted time',\n",
       " 'killing tonightim thankful kind words post guys managed alive 2 days ivr crying eyes morning realized truly cant live ending constant pain kill tonight kind words greatly appreciated mental illness absolute fucking worst kills wishing suffers mental illness worse wishing death wishing death person die mental illness kills single day like mind constantly torturing wrote individual letters people im going mail box family checks mail box everyday dont want note right',\n",
       " 'feeling hopeless trapped miserable lifeim 26 years old soon 27 couple months havent accomplished worthwhile life outside mom 2 years ago dont bachelors roadblocks financial anxiety depression making hard lifestyle changes needed asd family problems stupid things like boyfriend barely intimate anymore hes tired weekends hes ridiculously paranoid pregnancy point paragard living paycheck paycheck place thats expensive stuck end june tried repeatedly putting applications jobs making cover letters hear emails saying decided pick candidate qualified bull 16hour shift diff barely cutting bills boyfriend doesnt lot bartenderive tried counseling program work bare minimum medicaid thats 6 sessions year went counseling 16 tried kill way overdosing suicide door thats opened struggled close 10 years thanks listening hopefully rut ends im running energy fight survive crazy world',\n",
       " 'think hear instead coming parents bring home guy day tell hes boyfriend think great',\n",
       " 'ideano idea whatsoever want stupid insignificant life im sure care',\n",
       " 'goddamn fool let fork goddamn rook calculate checkmate 36',\n",
       " 'know someday happentoday christmasi wonderful day friends family looked mirror broke tearsi know someday matter fatei hate personality annoying hardly friendsmy body 170 chubby good waymy family fuckin help plewse family fucking abusive dad raped years mom beat sane cptsd hate alivei lesbian lonely',\n",
       " 'cant diei attempted suicide yesterday knows attempt complete failure friends family turning attempt number 2 coming soon im going sure dont screw time',\n",
       " 'let happeni finally meds kill think good couple handfuls benzos ssris left cost bit think iti truly hope moment spend abhorrent disgusting unlovable perennially lonely creature doesnt work seriously look effective methods let',\n",
       " 'hope dont know start dont wanna overthink overthink alwayswarning long poured heart kind minutes read thissince kid felt like destined fail alcoholic father uncle mom brother legitimately didnt real childhood constant running away parents bearing pain come home father dead drunk kitchen floor instances hide uncle calm shout aggressive short tempered caused cancer alcoholic way 18 physically harmed exception hand mother told judge lose job sanctions dont know things worse live aunt husbandwho btw daughtermy cousin aunts husband piece shit blames mother alcoholism told sided time instances puke mouth bit metalking husband things legit fuck compared families relationsthe thing sucks childhood resolved playing games young age1112 engulf sadness reasons stupid today father figure dont know shit cars computers work house fucking incapable fundamental things poor upbringing hurts cant relate friends talk things hated middle school maybe bitter situationhigh school hell 2 years sadistic teacherwanna stay anonymous gonna subject ruined generations horrible teachersin year stressed doctor chest hurting luckily finecoming closer present 2019 worst year life january emotionally manipulated lied degraded person loved 23 days 7th year anniversary fathers death destroyed emotionally met girl prom objectively think best went 2 dates 2nd saw pussy didnt end asked kissi got sure reason cause left city study said didnt wanna false hope okay said beginning month known surprise got somewhat quickly september met girl club bitch gave number chatted bit asked said forgot look like doesnt want action agreed meet weeks didnt later stubbornness anger found bf entire time october met girl outside friends drinking decent date ignored 2 times decided block social media fuck encounters irrelevant worth mentioning happier end december 2019 met girl instagram basically boyfriend girlfriendthe problem family moving bigger house probably live uncle huuuuge deal house 20 years leaving noweven bad memories impact going college easier change needed cause 2 families 1 house dont like know petty uncalled hate fact small shitty family couldnt privilege peers feel left sad hear family related stories think frustrationi university okay subject cant pass laziness insomnia subject highschool extremely hard feel fucking stupid wanna change better position doesnt allow regard home mental state bored fall depression feel like burden somedays feel like end life end suffering unfair life start finishwhat vibe going matter hard try',\n",
       " 'getting job turned 14 month ago wanted start looking jobs area people 1415 job tell applied',\n",
       " 'problem want eat banana solution eat bananana',\n",
       " 'person hurt mei sorry strong sorry allowed treated horribly sorry didnt brand pills took find im sorry headache feel im sorry know wont change im sorry feel im sorry feel safe im sorry trying wasnt sorry live life deserve',\n",
       " 'im finally gonna itive rationalized killing ive realized doesnt matter hope hell isnt hot hate hot climates',\n",
       " 'new year new year 2020 family party usual invited family friends family friends dislike dog family room hours know till countdown im playing games scrolling reddit hear countdown hear cheering joy forgot okay im noticible people start celebrating singing walk stare seconds try indulge celebration like happened felt awkward crush called wish told im like brother needless year fucked',\n",
       " 'tiredhello wanted start saying im good talking stuff like huge struggle long lately ive mess know aspect life affected dont drive lately want lay bed sleep time cant drive car thinking killing especially pull garage home days tell im going im tired feeling way feel like drone rhyme reason dont friends spend time usually im hang people im good bit dark clouds sets find way mind funk daily occurrence ive struggling years ive talked therapists ive taken medication makes feel normal dont know happy anymore im point dont want anymore ive found looking ways kill thinking cant cant leave burden family want run away think ran away idk anymore told happy hate im dont remember time legitimately happy needed talk lonely cant talk stuff understands impossible doesnt feel better',\n",
       " 'question americans fuck going memes protests shit whats actually happening wanna know memes',\n",
       " 'help help help help heard boys confirm true heard guys picture female friends sexually true confirm',\n",
       " 'fooling myselfive spent 44 years alonegranted thats entirely true ive dalliances majority life im currently riding 6 year solo stint havent exchanged meaningful words femalehaha sorry track patheticness question plans future entire life filled understanding finally gave southern californian oc living decided oregon style suited ownbut kidding ive sold condo money buy home change shouldnt buy gun save years pain changing location isnt going change life right',\n",
       " 'literally oneive bad depression suicidal ideation 10 years old im 19 getting unbearable life come literally work home apartment sleep work fault agenesis corpus callosum basically makes socially inept like talk people work necessary dont talk speaks guess im stubborn extremely hard open dont point conversing people dont matter end day basically dug hole refuse open left dont world longer feel like im incapable living ive fucked shit life dont want shit anymore dont know explain theres dont know everythings pointless theres reason reason im havent found reliable suicide method soon wont hesitate kill',\n",
       " 'started new discord server days ago wanna join wanna join dm mind server new active',\n",
       " 'ive complemented entire life therapist said funny ill let sorry wrong flare cant tell social',\n",
       " 'schools motto kinda cringe care share darewe care share darewe care share darewe care share darewe care share darewe care share darewe care share darewe care share darewe care share darewe care share darewe care share darewe care share darewe care share darewe care share darewe care share darewe care share darewe care share darewe care share darewe care share darewe care share darewe care share darewe care share darewe care share darewe care share darewe care share darewe care share darewe care share dare care share darewe care share darewe care share dare care share darewe care share darewe care share darewe care share darewe care share darewe care share darewe care share darewe care share darewe care share darewe care share darewe care share darewe care share darewe care share dare care share darewe care share darewe care share darewe care share darewe care share dare care share darewe care share darewe care share darewe care share darewe care share darewe care share darewe care share darewe care share darewe care share darewe care share dare care share darewe care share darewe care share darewe care share dare',\n",
       " 'yall got tips dealing anxiety damn use rnhit got',\n",
       " 'alive hate guysnot long ago suicidal raped scared pregnancy wasnt pregnant fortunately received shittiest comments reddit people called stupid guy use condom kept parroting need pregnancy test know im pregnant stupid person tell fucking love baby im middle crisis person tell im try help myselfi try kill reading slit wrists tub got dragged recently half assed attempt suicide week sitting hot bath passed im stuck fuckers gonna good time im hoping itll push edge job time',\n",
       " 'lgbt community power cancel people wondering anytimeik time mistakes someones pronouns assumes gender hate mob understand lgbt long time recent years prolific society young people able stand community makes common mistake misusing pronouns baffles theyve got power cancel dont world way ultimately led people scared ask common questions bombarded insults community got power short time',\n",
       " 'like 2 shots rum gtand want thigh joblt thats hornies',\n",
       " 'despite matter woken despite entire universe contriving create convinced odds stacked good ideas shit reason great thoughts deathbedhttpswwwyoutubecomwatchvn29qd82gbdcampabchannelexurb1a',\n",
       " 'gunshot headdo immediately die gunshot headasking science',\n",
       " 'update thinking killing failed suicide attemptlast thread httpwwwredditcomrsuicidewatchcommentsuqoimthinkingofkillingmyselfafterafailedsuicidei talked therapist couple times think finally good talk problems face face ive released failure family wants anymore contacted dont want talk im living uncle supports nowim shaking writing thisi contacted parents worse need firearm',\n",
       " 'late im bored time got chat',\n",
       " 'dont passion hate responsibilities im social im good objectivelyand guess future scares hope somebody whos like believe ive tried therapy sessions went south maybe miscommunication misunderstanding got offended therapist laughed said argument relativesrather speak stopped going way quit job criticized chewed people quit school got ged years ago ive floating guess needed write',\n",
       " 'wellmy sister outright told bullies live told stop talking attitude asked locked doorthe reason im dead im selfish gluttonous bitch im afraid hurting people dying apparently wouldnt',\n",
       " 'whats best emojis ngl im sucker abt u guys',\n",
       " 'people old parents want know old parents birth father 52 mother 45',\n",
       " 'wanna discord idc youre awkward better texting dm filler filler filler filler filler filler filler filler filler',\n",
       " 'parents called disappointment face im tired wanna leavei recently turned 17 hit like bag bricks im failing school mother house arrest bc house makes anxiety flair like bitch 247 break doesnt help winter break ive going bc hate mother told couldnt took keys anxiety got worse got mad bc freaking crying felt helpless battle mother getting doctor depression ongoing 13 razor helps bf talking cutting cant im stuck internal battle immense sadness anger frustration anxiety idk pointhelp',\n",
       " 'want disappearim 21 year old female born chronictechnically terminal disease cystic fibrosis ill likely die 40s result illness mom didnt want latched younger sister isnt carrier spiraled deep depression apparently little sister supposed born told mother admitted known illness wouldve aborted blame mother verbally mentally physically abused entire childhood tried kill strangling later said thought neglecting treatments extremely little letting health suffer dated men absolutely brutalized sexually mentally verbally think police involvement etc wasnt abusive feel dirt bullied school passionate line work got internship field bosss boyfriend secretly scream kept living fear month lived sense direction sense self internally externally lost ive tried seriously kill maybe 2 3 times seriously 10 times ive selfharmed years watch girls age genuinely happy feel left generation forced grow mature elseampx200bthere moments im free usually night time walking forests cities towns dark slinking alleys trees faint glow stars maybe cringeworthy weird feel like ghost coming going knows hurt im thats ok doesnt matter ive intuition takes responsibilities pain im im world quiet foot world foot im walking meandering twilight zone stop pretend wouldnt know better lost doesnt matter im imagine killing allow feel similarly life maybe new adventure new place drift wish ghost',\n",
       " 'need irl slime girls demon girls elvesits important future species',\n",
       " 'wanna chat somethin feeling kinda bored yeah',\n",
       " 'cant find reason liveits incredibly pointless utterly meaninglessi hate',\n",
       " 'moment u class bit high friend night going days fuckkkkkkkk',\n",
       " 'worthy living nothinghave posted regretting getting led comfort blanket stoped talking 4 years ago got reason probably living like teenager 27year old body havent worked 10months cant getting job checkered work history poor qualifications im dishonour disgrace family especially mum doesnt deserve watching son miserable happy ive mentioned killing mum dad accepting likely happen want kill end year best',\n",
       " 'im tired fat ugly kill myselfim attractive round face big eyes big nose small mouth im chubby feminine im uncomfortable femininity upset pretty tired crying sleep dont look like loved kill wont deal right',\n",
       " 'reasons deserve diei going reasons deserve die1 friendpartner known left hate me2 people tell im rude manipulative dont know stop3 im leech people buy things half dont use4 society doesnt need mentally ill faggot like 5 people hate based pansexual possibly transgender live world cant shouldnt world6 know moment happiness illusion time meet new friend feel great turns bad im stupid7 stuff kill slowly spare excess food actually needs it8 want die think constantly 9 legitimately cares friends wanting depressed general',\n",
       " 'louise im alive treatment literally saved lifeso posting took overdose basically lying washed alcohol read comments posted post oh shit moment understatement bizarre feeling ive felt genuinely wanted die moment understanding gravity id called emergency services apparently let dont remember calling woke hospital family werent thrilled dont want im saving therapist lucky lady isi got hospital thursday logged reddit night couldnt find words weight meant people commented mind punch face words gave punch desperately needed read themi schizoid personality disorder spell correctly feelings connections dont come easy want know random middle aged scottish ginger saved life forget hope someday pay forward thank guys amazing',\n",
       " '5000 hoes awake hop comments 3 homieo skin peeling feel like gecko crack thats comment',\n",
       " 'meed start trolling havent seen single troll plus everyones snowflakes afraid opinions perfect timing troll',\n",
       " 'bitch anythingi feel shitty fuck im bitch aboutend area shithole worst kinds people cant im trapped cycle bullshit feels neverending',\n",
       " 'dm know drill bored lonely im dude curious',\n",
       " 'wanna dm want talk toooooo gtlt',\n",
       " 'hair begging forgiveness shut continue bleach fall haapologies talking hair',\n",
       " 'dont hate life want diemy life hasnt perfect near perfect woman color ive sexually assaulted mentally physically abusive relationships addicted alcohol weed diagnosed seizure disorder completely disrespected ethnicity sex watched plenty people love destroy die terminal illness tried killing 3 separate times sigh im dont hate life im perfect im saint ive hurt people unintentionally intentionally dont hate deeds believe beautiful wildly intelligent woman bright future ahead im good lot thingswriting painting creating jewelry cooking creating wellness products im trying help somebody stopped wanting die matter better things got people telling im great personmy partner 3 years ended month went grieving process started dating want die wanted die broke know truth life way world works dont want dont spiritual value physical life anymore beautiful earth dont want body want',\n",
       " 'currently 430 amand cant sleep gave sleeping ive insomnia 5 im tired man want end feel weak useless time brother works workshop cant bed getting tired wrong lazy cant cant draw anymore cant find enjoyment falling asleep waking wouldnt bad feel suicidal im scared im afraid fear pull hair punch head coward knife cut im fucking afraid man im 13 shouldnt dealing wanna like normal kid school happy cant talk people anymore im afraid stupid rant ignore want dont care',\n",
       " 'people saying 2020 worst year normal 2020 numberit doesnt mean shit keeps happeningmonth monthwhat makes think change time stop survive 2020cough cough r5september2020 anywaymark wordsthings gonna happening 20212022and oni dont usually rants like thisbut',\n",
       " 'youre going believe know itedit irony suicidal person telling hilurious',\n",
       " 'im trapped suicide option anymore trigger warningim posting want commit suicide cant hurting let explain firstat main issue dont friends person cares texts bunch words phone screen people dont talk school schoolwork leave lifeless thought depressed beforethen things got worse think im trigger ptsd leave walking ninemonthold puppy named zach slipped leash panicking trying control running finally started calm minutes hook leash car came ran street got hit people car stepped watched dog ran got mom mom left took erthe vets reported suffered severe damage legs amputated relieved alive mom agreed amputated leg things going ok legs able run etcthen discovered legs injured dad went vet looked miserable emotions gone didnt look came wouldnt eat drink half body shaved lots bandages tubes attached body suffering knew wouldnt recover tears decided end sufferingeverything life sucks terrible decisions dont potential end life second thought meant wouldnt hurting cant family lot arguments theyve case lot lately cant leave fuck committed suicide devastate older sisters college im 16m affect people school dont care knowing committed suicide dampens things everyonei literally options im forever stuck shitty situation',\n",
       " 'cant anymoreone worst things life happened today wanna buy meds im sorry triggers im right wanna vanish',\n",
       " 'birthday todayso today turn 19 dont know feel apathetic past week started depression naps time past years ive struggled depression ive dont want feel way want emotions damn want sleep wont awake sleep thing look forward depression hell',\n",
       " 'think deserve diei dont think deserve live longer reason ages 9 11 extremely problem child extreme anger behaviour issues expelled schools violence terrible hate im years older know im like anymore know ive changed feel bad hurt years ago know feel bad think deserve die thats feeling suicidal',\n",
       " 'deep observation deepest ravine mind dumb people think dumb letting force dumb shit',\n",
       " 'think girlfriend weekend itd time herim honestly incredibly depressed suicidal want ldr girlfriend time weekend think thats going time im going kill im tired living dont want hold anymore enjoyable dull drive going wrong im happy feel fucking anymore im going spend weekend girlfriend fullest maybe itd time',\n",
       " 'wanna uh burn entire fucking city macau',\n",
       " 'sent pic maid outfit ok im simping filler filler filler filler',\n",
       " 'todays 14th birthday lol sister got case root beer birthday thats favorite drinkalso mom dad argue born 1224 1238 birthday like tradition point',\n",
       " 'suggesting random songs everyday 2 mr right 21 savage feat drake ill usually suggest obscure songs series think song pretty fire ya',\n",
       " 'im gonna jump building turn 30im 24 currently honestly cant living past 30 dont kill ill die painful like heart attack',\n",
       " 'friends cancelled birthday party basically like guess im gonna lonely birthday fun',\n",
       " '16 intrusive thoughts plaguing doubting people people rejected stuck mind wish stop thinking',\n",
       " 'impulses control plan exploit themi bpd impulsivity suicidal thoughts currently kicking ass ive real suicide plan preferred method ive lovehate relationship heroin overdose like wonderful way sleep oblivion stop breathing doesnt tend impulsive way opiates numb want death recently ive wanting gun way impulsivity strikes reach pull trigger thats plan walk outside shot',\n",
       " 'know good site pirate college textbooks im bouta fork 500 community college class books',\n",
       " 'want need badim failure life 17 family hates im burden hate friends cares ive trying courage kill cant think committing suicide thing finally good succeed useless cant kill benefit rest people',\n",
       " 'speak german 14 years dont know talk female friend implying girlfriend male friend implyieng im gay',\n",
       " 'share suicide hotlineim trying committed im trying line 34k involuntary stay psychiatric hospital im certainly trying life implode im trying reach ball rolling help want suicide hotline pretty good guess fact helpful woefully disappointing experience offered want time calling dont hope want know order overreact policeambulances rescue replies',\n",
       " 'like hear guys opinionssoo dont know start im eager talk led state im lets ive knew day come day eventually fact suicidal 1011 years old cant set thoughts straight think dark thoughts real dark unsettling rage inside wants burst emotions gone rage dont think ive loved makes feel exhausted lonely ive attempted suicide basically wishing kill free feel like waste life didnt ask born wish dont know dont drive left motivation dreams whatsoever theres emptiness inside rage thing kept alive years fuel im tired rage fuel tired dont know posted internet probably shittiest place open id like hear thoughts feeling way know im special theres probably thousand feeling way clue im open discuss wants',\n",
       " 'suicidal thoughts yuhi 16 year old junior year high school want die know sounds like post thats best way parents got divorced months relationship family members fading away live dad little brother mom man dont friends pretty happy lives normal stuff teenagers envy like hurt school home bashing head things hurt friends concern like hurt mentally posting pictures snapchat story saying stuff like want livestream suicide video taping crying pointing hate life ripped eyelashes guess anxiety dont feel anxious depressed people care reason thoughts hating aspect wanting die feel guilty actions life relatively minor things regret living feel like dont deserve opportunities given life dont feel like worthy living feel like people mainly pity care wont kill want people stop caring reason kill hurt people possible die main concern brother follow path kill coping mechanism beating halo games legendary far reach 1 2 odst complete incredibly good friends dont know anymore attempt prove im worth caring hanging night sad sad felt worse making feel sad stole friends whiskey actually felt good drunk want alcoholic addicted drugs worry living romantically guess thats reason sad chronically masturbate jokes people probably laugh clown laugh people think im addicted porn look like monster definitely look like monster want death given zoloft dont notice difference parents got therapy scheduled telling months dont know therapist think different ways kill lot involve going school crowd people shooting hanging rope stairwell hate dont deserve life',\n",
       " 'need homework help come free tutoring twitch hour right bat 100 completely free dont ask donations dont want donations committed promised donate money received charity ill post receipt discord prove itnow thats way hi im arch college graduate waiting medical school year want little bit community thought tutoring useful service offer sister teacher shes told pandemic hard lot students offering officehoursstyle tutoring twitch figure twitch good way people ask questions needing sign lose anonymity neuroscience major minor astronomy means plenty experience core sciences hopefully help explain difficult concepts need assistanceagain money karma clout minutes ask question leave second glance follow supposed pressure environment students additional help need come check want send link friend know struggling school absolutely personal information required names emails jump twitch ask question chat follow link discord case need post picture problem etc stupid questions ask kind courteous stream forgive answer questioni going homework want help conceptual issuesthe twitch twitchtvarchexplainshttpstwitchtvarchexplainsand find information website archexplainsorghttpsarchexplainsorgi want resource use quick question depth help ways improve service hesitate let know seriously want help know frustrating subjects feel like need teach yourselfif stumble later streaming schedule twitch page check time office hours',\n",
       " 'binged mtbmb b life better mtbmb music murdered album eminem fav celebrity',\n",
       " 'walking mom aisle mom getting remarried grandpa broke 5 bones neck fly live live midwest lives way south mom dating year proposed bike ridei excited ups downs love brother going walk people grandpa going zoom excited',\n",
       " 'maybe lesbians dont existmaybe right ill probably end dude maybe lesbians dont exist apparently sexuality fluid lesbians fuck men maybe milo right lesbianism bullshit want kill fucking self',\n",
       " 'feel like live forevery day dont hobbies dont friends met girl doesnt want dont car dont job im stuck right im thinking ending',\n",
       " 'whats guys favorite song mines lonely confetti',\n",
       " 'feeling like absolute shit im donei dont friends best friend spend day talking sex blacked incoherent 5ish months ago stayed friends idk recently start distancing cant forgive talk absolutely support ive getting wasted night im fuck wanna end',\n",
       " 'life getting difficulti fix damage like fix mistakes welland dont means stay wallowing misery rest daysboth roads difficult pretty change fix youll fucked rest daysits like earn earn right happy unlike people happiness existingi dont react peoples kindness like cant comprehend didnt accept instances people offered friendship wanted know afraid roasted againand look got',\n",
       " 'mean found text title yt video liked want find means',\n",
       " 'hell going sisters middle school sister middle school shit getting weird basketball team shes getting super nitpicky politics kid yelling trump 2020 need recount kid ran halls biden flag screaming burn gays kids crying halls bitch teacher laughing ass teach throw good punch gets monday',\n",
       " 'closei cant thoughts away maybe listen',\n",
       " 'noose ready im scared ill change mind lateive severely depressed nearly 10 years yes im able happy long want pit chest end attempted slit throat 8 overdosed multiple times middle school tried shoot year ago havent active attempts years seriously considered slitting wrists im end rope literally st point dont know left world',\n",
       " 'help uh recently class big falling ive deleted forms communication wthem need hobby dumped girlfriend best friend dont fall asleep sad forever flair mean im giving advice taking im taking advice',\n",
       " 'trapped existencedoes feel trapped existence completely afraid directionless ive talked people professionals like dont want deal dont blame suicide possible exit religious upbringing cowardice prevented leaving read book recently said postpone suffering cant avoid forever wonder death end suffering punished coward choosing death like real possibility better life suffering know endured far try escape end worsethoughts',\n",
       " 'finals 6 hours straight ill leaving 5 hours dont im going kill myselfive spent hours studying ive worse semester path taking bs unacceptable way fix things dont fault failure',\n",
       " 'toi kill dont hurt im scaredwhy happening',\n",
       " 'pickup lines called chat lines uk aware',\n",
       " 'reason livebut like genuine reason want bed want worth living',\n",
       " 'aita remembering therapists shes good therapist ive going years idea',\n",
       " 'life entire society odds thismy life wish means end thing tremendously important life left constant nightmares despairi demand thing condition continued existence itll look badso im ending life telling stopped im telling reasonably think provide itscrew society standards makes blackmail manipulation threat institutionalization im going kill youve lost chance',\n",
       " 'dont exactly understand comes mental state simple gal im exactly dumps feel im im extremely calm unreactive ive gone things speak publically theyve hurt im bitter angry person im bad person im calm understanding stated friends decent dont screws loose dont understand hell mean im emotionless bitter decent human dont im exactly brightest self bit helpadvice want understand hell',\n",
       " 'void dont want anymoremy life useless boring ive told work hard family die peacefully hard try good graduated class blame failure useless deadbeat finished homework fever went school work ive pressure void useless thing thats called life everyday thing guilt questioning suicidal thoughts time good happened life cared knew wasnt gonna lasti fucking hate life im living im gonna end tomorrow jumping building hopefully die fast cared die diethats mattersill update dont decide continue useless piece shit called life',\n",
       " 'ive gotten point dont care loved ones beg feel wayi patience better im pussy actually friends family cry thought dying pain sucks hurt tell blame themselvesi feel likei dont care anymore alright im pain ruined life dont know love friends family pain destroying dont know magic button fixes feel way cant actually right',\n",
       " 'im going homeless freaking fuck outive couple posts im living guy whos abusing thats shitty im freaking fuck presto stealing fucking funds card reason delaying seeing places couple days cant fucking find place ive gone seen emailed far ask work dont im disability dont want whos disability fucking money jesus christ im going fucking homeless youre fucking picky im panic attack crying fuck piece fuck live keeps asking fucking day find place live hows hunt going smug way asked multiple times know end month right yes fucking know im going fucking lose dont know',\n",
       " 'current music taste ive blasting kanye west bad bunny past month id familys cool thats nice',\n",
       " 'think im going kill home im crying bathroom stall job cant fucking anymoreedit ive calmed bit im probably going tonight dont know longer hold',\n",
       " 'need info school speech project hello random person clicked post need comment post speech im week thought cool add reddit source speech topic smartphones children ages 17 questions phone time spend phone day age think people receive phones thats questions topic love help thank good day',\n",
       " 'offering help im putting needs advice rant like thatit doesnt matter ill try help listening eari cant ive gone ive seen want help someonejust adding end dont know noticed ive trying daily try help people spam repeating post dont know impact help gonna low chance kind debating today irl stuff decided response time longer id prefer',\n",
       " 'remembered dumbest funny joke ive heard 10 discovered annoying orange 2012 im pretty sure anyways remembered skit slenderman gets hit truck orange says woah guess thats slender bender',\n",
       " 'youtube video didnt blow thats 6 years old older comment sections different honest line thoughts video occasional joke bunch repeats zero meme formats like',\n",
       " 'cant wait til bts stans learn stan abused murdered pregnant wifez killed theyre gonna cancel ironic',\n",
       " 'megathiccc coming ban like uhh 1 month nowor retireif retire wholl symbol peace rteenagersedit says end era profile meanits',\n",
       " 'hurting peopleim 26 feel like failure things life achieved proud taken years lowly spot today want people happy live better lives volunteer preservice teacher hurt love friends family best friend told feel awful times im condescending feel worthless focus think right cant hurting care feel way spare hurt long run getting wayl killing myselfi dont know dont know note case know apologise finds body',\n",
       " 'want free karmaawardsand affectionnow exact titleyes guys want karma got 50 post awards order',\n",
       " 'called trashand retard stupid idiot etc weve 15 yearsi think kms',\n",
       " 'sub rteenagersfull teenagersyeh achieved comdy',\n",
       " 'im sad dream found massive bag wacky tabbaccy bathroom drawer reality dreaming sad',\n",
       " 'friend wont stop seducing girls ok know weird hang basically best friend year youre chasing girls hes good extrovert likes seduce girls class train station strikes conversation chance gets interested girl spends time leaves friend zones best makes weve known tiny baby booboos dont wan trouble gets trouble time friends girls totally ok male friends barely talks boys ask says hes afraid imbecile pls help',\n",
       " 'hows day goingits currently saturday long night tossing turning sleep schedule fucked interesting going smallest thing im bored actually trying conversation mind depression bit usually lurk like lot people guess im desperate day isnt going great thats ok im sending positivity way lt3 unintentionally rhymed',\n",
       " 'im tired school today cant summer',\n",
       " 'shutthefuckupshutthfuckypblue amp332237',\n",
       " 'hi welcome depressed kid terrible thoughts thinking thats time tonights showing depressed kid',\n",
       " 'going endmy mortality crushing like existential anguish constantly building crippling soon emotional awareness feel panic knowledge im going die doesnt matter good things happen wont wont remember life cease exist second die living solution problem ignorance die longer worry death want badly offered solution know isnt wish afterlife promise death know isnt theres dont understand people function knowledge cant think know happens present suicide control final moments hate reality',\n",
       " 'cest la viesuch pathetic life road head thought running away help new person turns thats harder sounds apparently stench pathetic doesnt wash easy tell smile appear happy tell youre happy happy crock shit ive support network dissolved receive support people dont trust obvious time theyve talking im intellectually inept emotional basket case ready blow lid moment little brothers pick answer facebook mom died tell thats lie longer know person person thought talk wants talk feel like im slowly sucking soul problems plainly obvious shes tired listening shit day day dont blame shes months people need break ive got feeling doesnt trust trusts want reach share things share things ive talking months know literally fault im blaming im blaming falling love dont know happen dont know fall love know cant tell things dont want mean tell cant stop thinking dream night cant mind biggest mistake telling dreamed disappeared couldnt find thats started avoid maybe avoiding head dont think ex wife wont let talk son hes way country miss mom miss brothers miss son miss person listens problems knew eventually tire shit eventually leaves matter time cant stop cryingim supposed start school soon ha im idiot masquerading intelligent person cognitive neuroscience simple fact im fucking simpleton ptsd panic crossing road went parade people couldnt breath time house im pretending like wasnt phased stood dying inside head hands shaking trying enjoy music enjoy floats felt like killed loud drums sounded like incoming missiles exploding people kept whistling sounded like ordnance dropping sky beautiful woman standing wanted hi couldnt talk time talked face face months ago beautiful woman years sound like im old im im 23 tried walking home im fat nearly heart attack 4 miles hill didnt breaks got felt good lasted little emotion cant stop crying ive crying new years eve oh yeah support network ha reddit people reddit people obviously zero trust knows sort group kind thing cliquish havent cut ive like year mean agoraphobic ptsd depressed fuckwit support isnt options ive tried trust worked mean talk pretend accept know truth truth think im spy ha knew reddit makes feel pathetic doive sober months thought help homeless money drinking felt good drowned sorrows took away inhibitions havent told dont trusts tried killing times 2012 went got close edge deep dont want die want pain away love life life beautiful painful time feb year tried cutting leg near artery bleed till felt weak chickened tourniquet drunk told people work sick ran leg metal pretty clever cut hole uniform ha good got army honest treated like shit depressed knew didnt care shit think wanted kill encouraged told good thing im weak willed think probably dead second time belt suffocated times like sexual way close dead possible scary shit got close blacked loosened actually wanted dead line troop 3 years ago ex wife took son away left deployed 1sgt told going kill kill good times anyways alcohol drowns makes attempt suicide yep alcohol ex posted christmas im sperm donor didnt money send son calls sperm donor responded view world youre right terrible father let pride able buy present way skyping selfish moving country selfish know doesnt mean sorry know sounds like excuses need change needed bad youre better mother father didnt believe friends know worst tricked army didnt want join seriously didnt years leaves piece shit miles away deploy actually going kill iraq like shot patrol die hero blown room bad stupid iraqis stupid actually hit rockets nice way got iraq worse days life idea like come hell huge party filled couples reuniting dads sons mothers daughters wives husbands crying noticed wrapped literally balling tears anyways live wonderful place rent paid im homeless food cant sleep cant sleep goes day 34 days hour night slept night ive slept 5 week yeah im pretty sure ive posted person paranoia delusion brought lack sleep love strange loving youve met mom died didnt good bye hadnt called years wanted felt bad feel like abandoned dad homeless money army sent didnt piece shit son cant tell im sorry cant tell love miss death final reason havent killed maybe person wishing talk misses hasnt called picked phone maybe people love afraid maybe im blind anyways wish alcohol maybe friend talk maybe hold night',\n",
       " 'dont want bored longerwhats point life theres life sitting influenced bullshit online theres aspect life left isnt completely influenced random shit ive seen online wake evwry day online day try school whats fucking point look phone day finish degree useless accounting classes want kill work job makes want kill havent friends 10 years old younger autism ive sexually trafficked seen worst world hobbies talents comfy home life im pretty privileged end makes feel guilty ashamed existing end day bad world outweighs good',\n",
       " 'illeagel emojis know',\n",
       " 'tf prince philip alive bruh like seriously skeleton queen literally looks lime shes 50 built like tank',\n",
       " 'theres way outi cant help inpatient bc ill points missing work lose job try fail stuck locked drooling mess idk giving means',\n",
       " 'school friends vs real friends moved middleincome neighborhood friends parents like lovable soccer moms immediately noticed close young age knew itd hard friends 3 years extremely hard friends new kids arent friends anymore frickin middle school lot new friends happy gotten know tiktok pointed school friends real friends didnt know meant school friends realized hang school home text thats fault parents dont cars feel completely safe strangers house dont live house come feel horrible lonely dont real friends cant believe 3 years havent adjusted new surroundingsugh life',\n",
       " '17 ive emotional rollercoaster span weekthis wrote 20 minutes ago expect sense wrote need helpthis took began days new years evethe person id thought id able talk confide pit 2018 fucked hate life want die point god kill cause showed hand ask simple little fucking sign tell life turn dont instead try pass time completely meaningless want fucking die lost love life time best friend believed different matter best friend fucking pain cant hang best friends cause pain cant chat friends pain cant fucking live anymore feel pain regret regret didnt try salvage important im fucking failure dont point world feel pain cant talk itll pass feel like lost soul mate everyones help nothingmy girlfriend 1 12 years told starting feelings best friendshe told honest herselfmy best friend told feelings girlfriendi told girlfriend knowing come eventually rateafter 3 days deciding chose saying loved methat night going sleep girlfriend chatting phone says doesnt love anymore daythe day planned party went talked didnt love confused wanted break usafter day starting feel upset chatted discovered feeling upset breaking feeling pain sadness thought hurting realising got hurt upset told think feels gives needed know broke perfectly smooth relationship expected took place days new years days ago today 812018 ive dug holes leg nail suicidal thoughts ive looked balcony thought instead height instead itd job felt like longer control body genuinely wanted die 17 years old feel like week ive emotional pain lifetime know lot people shit lot worse doesnt stop hurting loving family good school life isnt control weight shouldnt want kill cant better future myselfedit looking posts making realise people need help willing spare time help thank',\n",
       " 'u think ppl feel pain shoot head cuz dont die immediatelyi gun time head heart starts racing im fucking pussy pull trigger',\n",
       " 'itd easyi respiratory depressants drawer right kill dozens people possibly hundredsi create perfect cocktail massive amounts opioids benzos ketamine gbl betablockers body cant produce adrenaline counteract',\n",
       " 'help girl like cant stop thinking messing help',\n",
       " 'men want watch world burnyup ive tried failed think right timesalute',\n",
       " 'idk m8not exactly discouraging things commonly subreddit wanna vent bit lol earlier today felt episode coming began struggle dissacociating started playing minecraft felt motivation enjoyment decrease left middle game suddenly feels appealing hate quick kind things come example walking suddenly lost motivation stood',\n",
       " 'suicidal thoughtstwo days ago conversation explained like programming job graduate semi interesting thing found years person told idea wasnt good maths truei dont real alternatives finals 5 months alreadyive suicidal thoughts idk dont future music wont cut thing helps thoughts feelings boyfriend dont want fully depend emotionally financiallyif wasnt id way worse state',\n",
       " 'uw880123 catfish pedo dont talk chatting like normal got sexuali asked send pic shes catfish blocked discord redditdont tricked',\n",
       " 'saw dancing crowded room looked happy im youbut saw caught surprisea single tear drop falling youre eyesi dont know run awayill cry run awayyou couldve asked broke heartyou couldve told fell apartbut walked passed like wasnt thereand pretended didnt care',\n",
       " 'week new diet feel good hello fellow redditors teenagers ans reddinagers al forgive mistakes english native language lets itim 15 half years old teenager basically ive eating unhealthy food past 155 years life means foods lot carbs fats absolutely veggies fruits parents told come bite ass didnt want face consequences shitty diet okay friday went walk dad felt strange stomach ache change friday got worse following saturday things got worse couldnt poop set toilet probably hour combined couldnt shit unneccessary felt bad asked mom schedule appointment family doctor thankfully available appointment following sunday fast forward sunday couldnt number felt worse got mini depressed state father took clinic shopping center thankfully restaurant didnt eat breakfast roughly 11 im type guy eats breakfast early dad convinced eat looked menu searhing soft veggiefree dumb realizing diet source problems stumbled meal yogurt granola inside good father told granola good constipation problems ordered tasty feel little better appointment doctor told chronic constipation recommend change diet things help ease traffic jam forming guts arrived home decided change diet order help feel better eating granola thing breakfast kind veggie fibers rich patties lunch toast wheat dinner absolutely snacks ice cream snacks meals thing daily basis days continued pain discomfort cursed areaduring thought going hospital eventually scrapped ida long awaited moment arrived tuesday felt like new person fifth day pooping row havent experienced pains thats chest thanks coming ted talk',\n",
       " 'cant think reason itwhen constant gut feeling says itthen external forces whispering itfrom moment wake moment sleep overpowering emotion itit pervasive work eat relax exercise rid want end coming closer making solid plans im tired',\n",
       " 'whats favorit season night wii sports best season day',\n",
       " 'trump stupid support grasp reality seriously nonexistent',\n",
       " 'isnt living illogical irrational life revolving cycle temporary happiness followed subsequent deep depressions disappointment suffering live live life things arent fair life hard disappoints burdens cruel realities life change grow old decay love going suffer die dreams desires fulfilled living chaotic uncertain depressing begs question bad want kill dont want deal realities constraints life think logical kill illogical impossible live world',\n",
       " 'convince shouldnt kill myselfsome opening points1 wanted born got choice choice reverse mistake allowed kill cause way im choosing want2 right live right dont right die dont choice thats right thats forced basically illegal kill try hard stop getting want3 literally dont want die dont want better dont want acheive goals im good want stop existing4 suicide isnt selfish selfish forcing hates alive continue feel good im sick ittell shouldnt kill',\n",
       " 'wishi walk hospital tell donate organs need useful atleast someonei tired im thinking cutting suicide alcohol drugs overdoses bad myselfi dont think world place ive able fit entire life found relate connect feel like weakling people dont wanna suicidal tendencies thrice day cant stop dont know long control urge kill couldnt ruin family matter hard try avoid thoughts persist oftenthe worst wild thoughts like pull extra thin bone wrist blindfall bed way head hit floor die dig hole ground lie deal corpse dont know lead thisi truly worried finds deadbody dont want traumatize thing want going sleep waking cant let feelings seriously want cry loud cant cant feel hollow inside cant feel crying like numb tears falling downnot shaking able notice wrongits fault chose hide dont want dont energy explain whats wrong anymorei wish reason tell feel way',\n",
       " 'got close killing night second time need talk right feel aloneive suffering depression middle school im 21 yesterday feeling like shit like usual got tiff boyfriend open im feeling cry bed like hour leave instead going home drive mountain overlooks city cried car hours contemplate suicide yesterday decided finally started driving golden gate bridge live hour away way san francisco realized method ridiculous im horribly afraid heights cant kill right care dogs family owns going country months weeks died wouldnt walk pugsyeah im 21 years old job dog walker im scared real job im loser love dogs unconditionally love kind lame reason know dont friends new friends college dont talk old friends high school cant talk boyfriend depression difficult blames gets frustrated cant deal time talk depression honestly makes feel worse told time tried commit suicide rope car planning going park feel use talk right',\n",
       " 'end ropea years ago injured work know lifelong crippling disability leaves constant pain severely reduced mobilitymy employer dragged dirt wouldnt sign away rights havent able find new work despite immensly qualified outstanding references working lifeive 15 typed anti depressant started panic attacks insomnia night terrors 2 hours broken sleep dsy twodiagnosed ptsd anxiety insomnia severe depressionthe latest meds gave auditory hallucinations neruoleptic malignant syndromeive realized hope hate life dread 60 years shit pain sleeplessness stress insults stares dare leave houseafter trying sleep fpur hours got wouldnt wake wife decided play video game turned tv bought christmas popped smokedwe money new ill probably job againthis straw final slap face cant fucking anymore',\n",
       " 'byeim sure im posting thisim killing soon leaves methere isnt point life',\n",
       " 'dumb sounds easier kill homeworki motivation im trying escape reality face im',\n",
       " 'hgsdjasoihatelifegdbhsjjnhdgskjlkvfdhkj hi commit alivent reddit coins maybe award lol jk hahaha im funny arent',\n",
       " 'fuck math math quiz 10 questions werent supposed 2 extra credit got 45 total zoom class tears eyes',\n",
       " 'help sore throat hurt kinda hard describe sickness sore throat like scratchy sharp lump feeling throat cough drops dont assume tick lately kinda rub tongue fucking sucks',\n",
       " 'lowest lowim damn failure im high school student applying college single damn college im applying accept im going good ones regular state universities guess im idiot straight middle school talented program advanced classes barely break c level class dreams life kid destroyed completely utterly loathe feel like burden society im pretty sure family dont care ive certain ill dead end semester wanted chest goddamn voices telling im tired crap im atheist dont believe afterlife want place dont deal relatives high expectations uncles gotten scholarships princeton harvard shows low compared know im wondering continue waste oxygen ive given opportunities ive wasted',\n",
       " 'conflicting informationpart cant blame friend killing year ago blames thinks relationshil doesnt massive tug war clear winners kill friend think care dont know know sick',\n",
       " 'mfs like omg marcus went base cant believe hes 18 im 14 ive got man youre jealous like nah bitch youre victim',\n",
       " 'text weekend end cos monday im trying post oc uno guys',\n",
       " 'reddit postthis person talking tired living feel worthless subreddit help post link posts',\n",
       " 'long suicide note bei cant decide writing short note telling people love fault writing long letters want friends family fully understand writing long texts downsides leaving question mewhat write suicide note write im interested guys think',\n",
       " 'bruh theres thing present like 20 mins havent started djsjsjxjjxjxjxjslalalalaoaoaoaoaoaoaowoa',\n",
       " 'think ive started reddit actually dont think felt compelled post reddit cuz internet points think problem',\n",
       " 'dropped pdoctherapist todayat point fuck doctors therapists need tell boringass story good try meds bullshit end day right therapist suggested whiteboard fridge like thats cure ails fucking real listening fuck im sayingim trapped burning building telling gets better fuck offim going try real drugs internet look moon low tide fuck shit',\n",
       " 'want end himmy boyfriend 4 years left fine im mess cant function want die perfectly fine post breakup want know hurt painful way possible thing stopping hell real thats exactly ill spend eternity pain growing makes feel like doesnt matter happens matters cant anymore',\n",
       " 'cant die cant live hope die sleeptoo scared kill painful live dead insidei hope killed hit truck im sick futile existence',\n",
       " 'vizualizing im going kill myselfhow stop',\n",
       " 'im reaching limiti feel like absolute fuckup spent week psych ward week partial getting worse worse guardian says im putting effort better despite working copes past weeks forcing stuff shaking anxiety high person care probably going commit suicide point ill left family probably hate think im inconvenience guardian use sick teen help gain sympathy jobi want die leave pain im sick world',\n",
       " 'tried change completely nothings workingwhen kid parents pretty raised intention sending ivy league medical school constantly held ridiculous standards academics extracurriculars constantly wheel activity activity expect excel single im normal kid know constantly stressed age struggled find enjoyed wasnt eventually exploited ruined parents constantly compared kids age time wasnt praised parents actually write pin wall repeat million times adopt habit thought pathetic excuse peers able constantly moving place place unable pick social skills wasnt kids school picked kind stayed away standoffish kid believed single classmates better saw enemy parents convinced peers competitionmy parents knew wasnt bullied necessarily believed fine regular pattern utterly overworked absolutely zero friends continued halfway middle school finally snapped actually remember specific day school collapsed bed felt completely couldnt bring homework eat club meetings parents saw work scolded hour lazy literally forced work stayed room entire night directed horrified time rest middle school high school got worse began fighting parents secretly quitting involved friends awkward person interactions peers cause cringe days afterward thought completely worthless college acceptances worst parents actually completely confident ivy league school exaggerating uhthere way considering quit literally grades falling memory believe time abuse physical right attempted suicide incident spent lot figuring feelings came conclusion change thought things continued didnt initiative change making unhappy way happy thats tried signing literally single extracurricular necessity good college beat peers purely interest actually began open people definitely start im 19 second year college like think im completely different person life friends know memeable goofball passionate things loves complete 180 beforei good university good friends okay grades im unhappy im competitive completely aware im competitive cant close people literally dont know bottle negative emotions silently cry sleep cant bring study study important tests 1 hour actual test habit makes hate literally bring change cant close people people legitimate friends cant open time feel rotten depressed cant bed joke ask notes instead actually expressing whats wrong need help course past days emotional state destroyed parents told believe extracurriculars ive dedicated time heart college pointless wont contribute career quit immediately importantly trying opportunity change major medical school ivy league completely confident happen know fact stop pressuring twisting emotions actually got mcat bookfor christmas giving better thati wanted leave look feels like im stillhere ironically exactly way elementary school slightly different form alienate feel constantly overwhelmed responsibility parents trying control life trying big change life failing happier ive completely lost hope ive sleeping 15 hours day winter break im awake wonder relieved wasnt alive anymore feel like lose anymore scares lot help dont know feel anymore dont know im actually crazy im headed direction im scared im sure want writing post convince life worth living help',\n",
       " 'im bored insert funny',\n",
       " 'sick poorim 17 remember time family wasnt struggling money ive cared point cant afford foodbut dont cable stepdad goes eat lunch smoke buy soda habitually parents buy treats family day asked mother store buy food meals came graham crackers goldfish crackers mom complains complains yells try wrap head things ask live like cant afford meat cant afford fruit cant remember time house cant afford vegetables parents live packaged noodles im bad person want eat healthycant afford therapy increasingly severe depression cant afford medication mom seizures cant car cant city job losing house want overwhelming dont want anymore',\n",
       " 'dont want kill dont want live eitherwell things messed person want girlfriend great job mother loves incredible friends im happy allim feeling lack dont know kinda feel hopeless everyday wake wishing dead end day cant handle pain hollowness chest anymore painful liked days hardest ones far feel like im dead insidei cant help think hurt people push away cant handle anymore worst cant talk closer im afraid end burden love',\n",
       " 'got caught lacking sooooooo couple days ago fight old crush pretty bad sent bestfriendcrush pictures cus needed helpone pictures contained sentence saying dont like u love bestfriend totally forgot thatshe definitely seen unwillingly confession didnt want didnt word doesnt act different thoim nervous',\n",
       " 'update wants 16 job dad wants house hell going survive world broke help want join homeless population portland die advice',\n",
       " 'wholesome awrds 1 post cursed shit2 profit',\n",
       " 'lost virginity literally threw dick sucking little awkward',\n",
       " 'birthday respond meno ones told happy birthday invited friends know come snacks hang answeredive left readim alonewhy bother nice people surprise birthdays wants sameno treats like treated themmaybe piece shit maybe dont deserve niceim 26 longer want alivei want set freei cant stop hurting',\n",
       " 'worth ittook way propranolol pills yesterday regretted immediately little gag reflex shoving hand throat usually doesnt work got real quickly panic kicked started puking got flushed ended feeling like crap sleeping forever occasionally woke wobble bathroom splash cold water face boyfriend checked let tell worth feel horrible wish sucked dealt properly cowardly thing ive felt disappointed needless',\n",
       " 'itive lost year life throat divorce homelessness abuse cant handle anymore reason im gonna try 3rd time year hear like going sleep peacefuli dont want suffer anymore wants anyways matter ill considered burden better months disaster disaster wish love peace happiness hope life deals better hand struggling',\n",
       " 'crush said isnt looking relationship ok currently im quarantine brother got corona means lot time lot boredomso thought fuck text crush surprise answered fast started chatting bit chatting turned flirting knew flirting nearly 2 hours straight thought like right mean 2 hours random right nope didnt reply while15 minutes later hear friend isnt interested relationship right like bruh flirt 2 hours straight didnt tell straight face needed vent guess goodnight folks',\n",
       " 'bad news dacia sandero delayed',\n",
       " 'white skinny straight cisgender people like life gets better yea probably lol im fucking tired miserable suffering fucking day fucking want kill',\n",
       " 'guys help air brown live central california brown air smoke fires gross smells bad',\n",
       " 'friend moved state hes admitted suicidal thoughts help himmy buddy 30 years recently lost weve lived new jersey town kindergarten hes recently moved rhode island dark place know resources area contact',\n",
       " 'seen post new award link post changing textmuch appreciated',\n",
       " 'im trappedim suicidal want die dont want kill dont want continue life feel trapped mind constant misery way escape dont know im typing dont want help ive given know im fucked',\n",
       " 'failurei failure family didnt college ended kid im financially struggling feel like piece shit wish end',\n",
       " 'idk belongs herei think im panic attack think need help um yeah',\n",
       " 'im bored guys ask stuff u want idk like answering things yeah im procrastinating studying mid teens monday yeah',\n",
       " 'dont want die dont want live eitherim coming subreddit abruptdlyhell dunno post stay long seebut ive drinking ik dont post ill post soberabout year ago time period nearly committed suicide prescription pillswhether mental instability unit looking army dunnothey left deployment octoberish left behinda brokedick pfc deployments awards merit completing osut verge suicide unit ncos multiple tours iraq afghanistan peak surge major mental malfunctions like mesince ive best track stopped abusing pills stopped drinking taking gym seriously pandemic shut etcbut squad leaader puts text saying unit roughly 2 weeksand soon read text fucking plow half bottle jack cant mentally cope idea backebh tells got ptsd time theyre probably nolt wtrong iof im drinking stupid text talking coming fuck infantryman sounds like little heart syndrome anyhting talked rveteransfucki dont want die fighting boxingkickboxingmma life thing stopped going suicide family god etc wasnt ive working ass running eating right etc comebackbut time dont want alive come eitheri dunno ill probably regret hitting post button time tommorow morning im sober needed chest ik cant tell unit wo trying report suicide wardthank wasted time sifting shit fuckin hell',\n",
       " 'lied mclovin awesomedoug know',\n",
       " 'hey uhhh dr pepper large fry uhhhh borger king ft lettuce',\n",
       " 'waking upevery morning hope ill stay asleep dont worry killing itll b',\n",
       " 'ive planned death yearlast november found perfect way die thought time january set couldnt depressed suicidal dreaming death sitting table eating dinner family felt sick felt like july started looking minimum height jump fall fatal reality isnt sure height die right way remove clothes shoes fall head backward instructions suicidal diver august hit ive bought plane tickets booked hotel room september realise didnt stop contrary started planning perfect thought looked maps weather conditions checked turning shall die days october 1st',\n",
       " 'thought freed comfortingim going fly free soon dont know know soon ampx200bi cant wait im going free place im excited like going vacation youre nervous excited time want spread wings fly away finally light ascend belong cant wait moment ill miss friends family know itll better long run im going fly free stop',\n",
       " 'close going suicide dont know whats holding backive lived rough life constant setbacks lost entire family friends virtual found love gave gold old life new country gained loving family love gfwife feelings faded struggle things found emotional affair guy things worse broke weve talking things worse friend gave lifeline forcing dont want friends understand im feeling ones know ive ive walking depression years deep seeded issues mom passed away tragically gone mentally long past weeks doctors doped meds fly ex rebuilt life year instead talking directly finding way work got lost betrayed betrayed promise beginning im left pain betrayal hate parts play life im sick problem want end means justification maybe people care maybe maybe wouldnt feelings left moving want pain life end isnt fair continuously endure homeless deciding mother lives dies age 17 bullied school failing college mom passed childhood trauma constant betrayals everytime let hurt person let deeper came real love want end means knowledge plan im dark spot ruminates mind like plague stopping dont know ive thought times life thought better fuck fuck im sick tired problem problem lonely depressed anxious cautious distant cant turn ive tried leave literally wake late everyday lie bed unti 12 desire life anymore day looked phone cried hardest ive cried life cried thought loved gave started saying want mom dont understands degree friends im talking feelings therapist damn thing time dont light end tunnel im lost darkness wanting end gave appreciate experiences cant anymore',\n",
       " 'good evening read',\n",
       " 'im probably gonna kill hoursim honestly sick life friends romantic interest girl cared friends life literally worthless medication help therapy doesnt help ive relationship sort friends talk fun infront school aswell humiliated daily basis ill probably thinks im literally retarted foundation maths lowest form education maths country ive girl fun daily age sex makes depressed ive kissed girl cant life getting better im 16 actually scares think way mind messed literally want friend cant talk trust like girlfriend girl thats interested slightest want feel wanted feel like ugliest thing existence acne know im best looking know im going kill eventually ive tried couple times havent courage im pussy want form relationship point im lonely time know stupid im 16 dont know point mind fucked dont wanna hear gonna better wont constant chest pain day costochondritis anxiety attacks gad obsess health day ocd want kill im scared dying time mind fucked im pretty sure im alcoholic aswell ive drinking pretty 4 7 days week alcohol makes feel slightly better im writing im slightly drunk im 8 cans 4 litres alcohol space 4 hours depression doesnt kill alcohol kill want friend main thing bothering fact ive girl sexually dont mean sound like fuckboy anyhting want feel wanted attractive worded badly load shit seeing im drunk wanna vent maybe advice im honestly scared day',\n",
       " 'taking shower friday morning delicious need grab banana tea ready today',\n",
       " 'feel stuck slowly killing mewarning angstyim decently young person person ive told worries waved away phaseive feeling like maybe 2nd grade realized wasnt nearly amazing girlsits gotten worse ive moved school little comments thighs weight face attitude sick stomach dad family insurance wouldnt able access medicines therapy etc im stuck endless cycle feeling good selfesteem dipping lower friends wonderful confident smart gorgeous women theres feel disgusting havent treated told old cutting habits feel tired sick way want end poof existence mom angry died cant want hear opinions dont feel like confide mother isnt better explicitly threatened kill touched razor dad doesnt know father send away told feel like depression means gaining attention dont want school tomorrow day im monitored parents way im able speak hotline dont doorknob door cant lock arent home end panicking breaking tears start venting hang',\n",
       " 'hate lifei want die im sick dont im want die want painful fucking deserve',\n",
       " 'friend killing rt helpmy friend 20 bars xanax 2g coke super high tolerance wants die clean year breakup dont think kill gets eventually im canada know let know asap idk long drunk tank',\n",
       " 'whywhats point ive left ive easier stop',\n",
       " 'short story dont read took dog walk encountered people annoying matter walking past year trend started encounter neighbor taking dog awkward dogs went bananas annoying cause follow somewhat similar path difficult getting rid unlike bystanders times thought bad luck kept happening time took dog gamble change time schedule pop chance clashed vibe ugh didnt think come time incidents started figuring times come unspoken rule months procrastinating dog walk somewhat late night finally left peace sure',\n",
       " 'guys need help deleting stuff know iphone way left type search bar find literally anythingi idea delete inappropriate searches thereh e l',\n",
       " 'want outi cant fucking anymore life fucking disaster theres fixing',\n",
       " 'apparently ugliest person world look looked like deformed alien maybe kill',\n",
       " 'american teens given choice state choose want work america someday im studying hard moment find job contribute american society soonif given chance choose state live wherevermont maine new hampshire nice places dont think itd opportunities massachusetts new york possible im trying avoid southern states like california florida texas doesnt appealing lot work opportunities tho sunny dont like humid weather advice',\n",
       " 'hate people dont drop moveits hate idiot',\n",
       " 'dont want live life anymoreive burnt bridge including family world drug use sobriety doesnt helpi clean years thoughts suicide day fact havent life live grandparents garagei shitty job cant live fromi training money real friends junkies want old friends turned backs soberidk ive rehab community hospitalssomebody help stupid',\n",
       " 'insert generic title herehonestly im thing im medical field knew easiest spots job reason im alive mom wouldnt able handle shes shit doesnt deserve bullshit',\n",
       " 'realize shes broken care forum post bear recently got opportunity talk super nice girl shes funny shes cute nice person general oddly shy self deprecating wasnt sure mentioning suicide begin weird joke asked send entire life story pages telling beaten kid parents drug addicts stepbrother raping age 11 realized wasnt joking lieing kinda sense shy acted like need acceptance meother people world fucked past time making friends ended abusing mentally physically hard explain things lived ruins person unimaginably way thinks fault blames things happened begin impossible realize genuine friend wanted realize isnt bad thinks time finally feel like progress shape form bad happens time dickhead didnt think spoke joking breathing heavily stop breathing person bad joke meant world time like happened im best fore good friend hard started effect mood cause feel hurt angry seeing way feels like im fighting battle uphill blindfolded hands tied mentally rough going like building delicate card house slam door tip obviously told ideas im begin come advice yes cause told seek professional help feel free ask questions aswell',\n",
       " 'yo wants chat dm im bored wants chat dm talk discord works',\n",
       " 'read mangas nhentai want pirate way',\n",
       " 'guys im ok today school english teacher called class graded essay mehe fucking graded f know good compsition severe social anxiety couldnt stareim happy right',\n",
       " 'hows day',\n",
       " 'anti honesty hour ask respond clearly obvious weird blatant lies',\n",
       " 'struggling tonightive struggled depression entire life im 27 beautiful daughters loving husband cant stop self destructing need talk understands suicidal urge feel lowest ive years',\n",
       " 'im tired trying lost hopes good future frustration eating meim reaching today needed vent frustration avoid mistake ive reached 20 feel trapped frustrated began 2 years ago graduated high school majors school admitted best architecture school country 3 year planning sacrifices effort best possible profil futur looking bright aimed realizing unfortunately days official registration school dad pretty accident pretty poured moneyincluding tuition money parent saved best treatment best doctors possible save worked lived money dreams enrolled shitty college sorry polite way repeatedly ranked college rankings 30 graduates landed decent jobs year mainly free thinking best maybe retry getting good school year year passed progressively understood absolutely disliked hated college subjects teachers students damn buildings reminded life living started going barely passed 1st semester pathetically failed secondi tried passing entry test colleges redo 1st year failed didnt pass pre selection current education level teaching standards pass pre selection writting exam reached interview step deal noteven hidden remarks like accepted people college look college pass pre selection start second year college started south failed semesters completely broke refused entry test colleges worse fact feel speak feel obliged pretend happy optimistic parents doubtly feel responsible knew situation especially father doesnt need problems deal dont feel confortable speaking friends end guess demoralizing fact time effort tried failed regretted fact gave money save father think life gone accident happened im im stuck hate school hate escape possible friends family membrer age realizing dreams living life like wantthat sorry long text btw im sorry grammar mistakes english main language vent frustration dont think reached level seriously thinking suicide think things like notice died bad momentsall said tiny hope thats highly unlikely lot luck concertize fix things reason wake day thank enduring rants',\n",
       " 'deleted previous reddit account reddit 26th august 2019 year tomorrow deleted accounti dont know people discord said great etc overpowered said deleted account memes coins reddit gifted real life online time friends gone anyways new account feels great post',\n",
       " 'friend epic friend rickrolled history teacher idol lord bow king',\n",
       " 'hate brain thinkis like bitch shut frick u p leave yesterday read like 20 maybe 30 pages lotr return thr king yss filler',\n",
       " 'dear lgbtq community questions age realise thingthings realise told react',\n",
       " 'yelled retail worker hungrythis mind hours feel shitty 19 year old female suffering mental physical illnesses im supposed going home tomorrow christmas wanted treat food ordered mcdonalds uber eats waited outside delivery guy come dropped food puddle accident bag sodden food spilled bag wet pavement point didnt mind thought simple mistake food wasnt simple thought mcdonalds uber eats couldnt know stupid childish thing mad hungryi wasnt mad guy mad paid 15 worth mcdonalds didnt refund food called mcdonalds tried explain happened didnt care said responsibility food leaves store starving days eating binge days feel like pure shit afterbecause couldnt waiting hour food guy phone crying wasted money food hung shouting fuck phonei worked retail worked chip shop kfc subway years quit job university spoken like killed tried twice thinking guy yelling suicidal thoughts small mistake tipping point cant help feeling guilty said workeri deserve feel like im sorry reads know long didnt money food didnt eat havent eaten im sorry',\n",
       " 'deserve die stop taking space energyi toxic waste dont deserve anymore',\n",
       " 'got going tmr wants reraid area 51 drive mom drive home',\n",
       " 'dik couple friends 2 girls 3 guys including went watch movie avengers endgame think got tickets 2 girls went lagging stuff eat friends ldts person person b person cis like yo need toilets right girls toilet realised girls toilet person left person c didnt word let 30 seconds rushing thats',\n",
       " 'doneso dont know saw post basically lost interest living sort planned ways die head planned im scaring right actually thinking things actually want die posting venting process help like people place post stuff getting posts taken bad etiquette dont know im gonna tomorrow 14 years happen',\n",
       " 'aint got type girls tight round asses smallmedium tits light skin curly haired funny smart 3 dogs likes song woodlawn amine good relationship mother thing like',\n",
       " 'know care round imposter care bet im proud',\n",
       " 'id love song suggestions ive trying expand demographic love 90s rampb ton favorite genre im hear new songs different genres suggest like appreciated',\n",
       " 'advicei bad place past 3 years ive tried committing suicide couple times think anxiety depression body dysmorphia trying self diagnose hate overthink way leads dark place scared tell mom im feeling bottle idky im scared ik struggles anxiety depression aswell shell understand advice',\n",
       " 'im tired loved im fucking tired loved im fucking tired peoples second choice im tired good friend good person coz matter end im ends getting hurt end day crave feeling loved understand feelings priority hasnt happened single time loved cared people friends crushes end im left feels like feelings dont mean shit people like im inferior soul feelings emotions dont matter cant loved maybe day hour minute cant hugged told im care little love hug care craved life havent received',\n",
       " 'futureim 22 living family moment flunked college mental health shit ironic guess straight high school set high bar ive disappointed everybody im scared people long periods time partly im socially inept partly cant concentrate start daydreaming making weird expressions 5 minutes mention thoughts people conspiring trying poison etcim afraid work afraid observed hours onend im scared people thing worse place currently institution experience treat like cattle come hopeless honestly think theres use work fucking courage kill dont know possibility failure extreme physical pain',\n",
       " 'face nudes lol school starting soon started guys think kids going school gonna start getting horny peoples faces gonna start texting face nudes',\n",
       " 'worst big 5 combination helphimy big 5 factor tests following scoresocea low percentile close 1n high percentile close 100does mean doomed lost genetic lottery worth live way help appreciated thank',\n",
       " 'ventingsorry needed vent going emotions handle dont understand little things set mind race stuff going friends mind money thinking past college insecurities keeps piling hurt yesterday big deep scissors thats started time ive think year got therapy appointment week help meeting college tomorrow try support dont know theyd react tell im self harming tell majority thoughts killing lately thats didnt college today didnt trust trying gets harder harder day dont know longer cope cant good life anymore im unattractive annoying burden teenager truly care like emotional baggage past present state mental health majority people wouldnt want deal understand im sorry wasnt worry worry needed vent actually lose mind',\n",
       " 'help idk im pretty girl currently sort talking stage im pretty bad flirting guess managed catch interestwe havent friends long weve met lost contact like year shes nice pretty good looking shes extremely talented shes exactly type going thats important methis stage started like 23 days ago started shot hadnt relationship long decide crush figured id chance guess kind started developing real feelings hernow issue today kinda feels different like idk wanna ive kind flirting feel horrible tell flirting kind confusingit isnt definite ive lost romantic feelings dont know like im lost right honestly sounds like pretty stupid problem better post issues reddit people judge advice offer thats great',\n",
       " 'friends love passions happiness life botherfor years ignored life played video games watched tv lived home isolating world moms attic went bed tired 1pm 1am schedule whatsoever happily distracted life long time year ago stopped working longer able distract way started feeling like things longer work life sadness boredom attempted suicide took 10000mg seizure meds broken powder added water nice quiet slip coma brain death hopeobviously failed family realized ward week meds tried ahold life find new purpose started excersizing day hours started taking responsibility hygene responsibility home little volunteering things good right im getting better im motivatedi getting better getting worse started hating appearance body cut calories hugely losing half pound day far lost 55 pounds 3 months looked ugly unfit looking seeing stomach bulge reminder failure finding volunteering interested help total waste space slowly found staying home excersize hate started realizing changing mood lifei happy told takes time excersize feel better told getting shapeexercise goes long way making feel better gives energy instead makes exhausted stand depresses look body shower fat ugly peice shit looking backmy therapist saw suicidal idolations december recommitted electrocuted wall outlet figured live im going coming place obviously failed meds kept till christmaswhen left decided instead focus trying friends dating date virgin 29 instead working went classes started dating apps constantly free time got student license started saving car going good rightnope interested talking classes messaged possible person pof find interested talking let dating stopped stopped going classes point trying stay schedule workout thing way anyways sister letting learn drive old car nice making mistakes got upset let practice hate looks got dmv getting student liscence 29 loser right provide driving lessons high schooli went speed date weekend figured forced interact right chatted person like nope fooling course wouldent people thought best conversations humoring looking eager away themso hobbies passions enjoy active thing excersizing makes totally miserable totally unhappy bored wasted years life productive 10 years normal person tryed fix attempts led failure worthless person hate ride bike places hope cars coming run alleviate sense guilt family looked like accidenti wish passion happy morning im tired looking im tired taking space worthless person',\n",
       " 'dont want live anymorecrime starving kids people kill abuse betterment pocket fact walking street shot fact police wasting money war drugs whilst rape murder unpunished fact probably find lover fact ill friends fact barely afford food anymorethe fact live forthe cons outweigh pros lot shouldnt kill theres reason',\n",
       " 'dont understand20 yrs old scared post thread cause feel like ill typical wish happiness comments reality sucks cause feel like age better state mentally literally everybody knows know im stand guy tryna fun w guys love girlfriend dearly big reason havent everytime think feel like time running cant control way feel dat day ive thoughts starting 16 random id find spacing time time thinking happen wouldnt work single thing world yk find sad kid havent gone life ima bust ass provide thats problem fucked cause ik theres gonna hard days barely gonna look like im good theres problem reality im struggling brink bein homeless fear future children child circumstances idc child forced live homeless cause parents worse im pretty sure dat happen ik probably children away got shit child deserves away biological parents parent seperatwd kid idk things think thoughts wont away wake morning gotta 615 morning work breaking warehouse job w happiness basically feels like modern day slavery sum days wake real bad moods ive getting older expectations family members older successful try like youtube dat requires time cause 2 day weekends mon fri im tired youtube shit takes time effort dont cause working money u want u need money idk thought id sharing topic thats troubling understand rn ik thoughts bein free im dead constant ive gettin depressed everyday everybody im think im happiest person world im type person goofs time jokes reality dat broken broken person im sweet talk people nun dat wanna understand feel like cause im 100 sure day wake 615 im feeling great thoughts idk sorry long finally decided write',\n",
       " 'parents took away phone studying sorry karen dont high grades brother going cumlaude thinking helping way asked helped getting good education high paying job care new update sucks idc says hate new reddit profile pic old fine',\n",
       " 'lose wife cant stop thinking id better falling bridgeme wife fighting lot weeks night kicked told doesnt love anymore living mom said need week apart ive 5 years accomplished night wanting lean bridge let feel like ive useless feel options gone dont know fix things want pain end im dead wont problem anymore',\n",
       " 'think genders think genders male female exist list comment section curious users thought genders exist',\n",
       " 'trying sense lifeim 23 male wonderful family financially graduated college pretty happy years ive depressed person friends currently girlfriend im shy feel like weird person couldnt love believe stick like sore thumb hang people reticent dont eye contact negatve depressed person things tell bad attitude believe trying change thinking think aware flaws deficiencies try correct life hard fail tasks struggle life look friends family members better feel hurt pain starting think failed normal human want change start',\n",
       " 'thoughts getting worse everydayhow stop advicehelp',\n",
       " 'live twitch new streaming lol lgbtq friendly hey m18gay twitch channel started im gonna playing leage legends itll chill stream learn use program feel free join chat boring place im super interactive respond comments chill btw super open minded lgbtq friendlytwitchtvshenaniblesethan',\n",
       " 'im hppy im drink fuck caputalism emrace monke',\n",
       " 'im alienating friends amp thinking killing myselfme 22 years old living canada transgendered woman pretransition living male dealing social anxiety disorder depression spent year therapy january december 2010 75 mg effexor xr june 2010 slowly making friends hate thinking better deadmy friends going tough times lately ive putting aside try help themi cant anymore friend dumped boyfriend thursday night spent weekend staying place help period time feeling awful unlikeablei tried push aside friday night snapped sat rest night essentially comatose helped friend panic attack eventually fell asleep woke spent day state texted friend dumped person felt talk time room vented frustration idiosyncracies people room getting fucked state eventually went talked bit went home recuperateturns friends went text messages today told said hate talked happened asked okay said wasnt sure ive putting pressure needs time thinkso im alienating losing friends feel like im wrong ive recurring thoughts suicide theyve intense moment worse im going hospital throw subway tracks train comingwhat going sw',\n",
       " 'hate living hate alive dont want alive day wake worse theres planet gives aside parents thats great feel need love reality given choice im sure shows better life wants dead know im wants dead dont want dead badly want hard alive everyday hope dont wake tomorrow sad reality f hate life hate hope hate matter going f die alive bulshit short blip whats come',\n",
       " 'cant sleep im tiredmy joints killing im 21 feel like decrepit old man body pain mind feels totally control im pushing friends away therapy working medication marginally helps dont feel like meaningful experiences feel dependent parents feel like burden cant remember week everyday feels samethat terrifies ive institution didnt help force excercise socialize agony doesnt feel better dont know therapy dont know im writing',\n",
       " 'end ropehi im eighteen wanna start saying diagnosed depression ive taking meds months lately feels like arent ive felt like ive wanted kill week ive attempted ive self harm times today lost friends got angry stupid lashed point kissing making started meds kept telling life cant given dont think deserve want throw away late ive stopped caring feel burnt worthless doesnt matter anymore ive stressed hell weeks brain irrational thoughts im constantly scared people going ive thinking things easier slit arms open let bleed',\n",
       " 'hopei difficult time boyfriend 3 years seeing married woman apparently loved long time youth pastor church woman understand seldom invite got closer quit weekend invited youth parents lake day familyher familyincluding husbandstayed weekend boyfriend barely looked talked womantreated husband terribly spend time boyfriend husband tried introduce myselfshe acted ugliest garbage seen boyfriend trying talk flirt meto affectionshe walked overopened towel reveal beautifulgorgeous bodyand said novemberi weightthen summer lose itthen start cycle walked away hurtso upsetand boyfriend stood therelooking tried leave morningafter day ignored humilitatedmy boyfriend trembling asked stay dont know whythey clearly love eachother lied husband flirted boyfriend weekendand bf treated like queen grew angry thought leaving boyfriend wanted suspected interested elsehe 3 childrenshe think 7 gorgeous fun flirty ive struggling personally depression anxietyforging new careeri look terrible understand attracted think going long timeand ready leave husband children closethey care eachotherit fits husband puppyshe going throw awayi feel hopeless im 46with offer therapybut need expensive sexually emotionally verbally abused entire life finally got away family attempted suicide 3 times time 1999 cant heal stuff broken person guarded person cant love cant lovewhat world cant lovei dont think im going think ive lived life canand im wholeim useless ugly ignorantand oldmy boyfriend says loves wants needs mebut act way didand actually mean thatif cant find hope good',\n",
       " 'hope reddit add proper blocking function line reddit continously developing think address blocking functioncurrently hide person blocked doesnt stop person blocked viewing posts commentsi hope reddit person blocked cant view anymore posts commentsthis add proper spice blocking fun rude people salty happily day knowing cant view anymorereddit add',\n",
       " 'cmon guys gals favourite cheese good cheddar plain american stuff wanna general consensus cheese choice group hope fellow cheese enthusiasts',\n",
       " 'guys help grammar use european european',\n",
       " 'wonder quickly tadddyy comment epic',\n",
       " 'month ago lost friend suicide today friend died accident grief stricken want diei lost friends month death experience feel hopeless sad know life better time dont want wait dont patience strength endure pain fear attempt unsuccessful thoughts',\n",
       " 'hey hard understand want attention body baiting short thing learn people dont',\n",
       " 'commentors suicidewatch carei wont speak care hell honestly care makes want try help im pathetic stranger internet like lives anyones matter affected buried bullet brain right',\n",
       " 'tell ill tell mom send messages ill tell mom dont weird shit',\n",
       " 'need pussy wet succulent dripping honey suckled sweet marinated dark skinned smooth waxed pussyi shant penetrate ponder thy glory',\n",
       " 'want kill im incel unpopular idk improve im loseri know easily biggest world problem miserable making want die im 17 wants sex dad tells 14 lots girls slept super popular makes ashamed im like age tons friends hot girlfriends partied nearly weekend drove cool 80s car turned 16 loves car pictures house dont car license makes feel worse want die im starting think worth pain cause dad life completely fine ps dont know incel short involuntary celibate male craves sex doesnt sorry blabbing wrote sitting dont know word exactly',\n",
       " 'im going kill life keeps getting worsei dont care sad die anymore fuck cares care feel im casket',\n",
       " 'talk meim breaking point unbearable handle im right need talk calm im considering ending right',\n",
       " 'theoretically minor told psychiatristtherapist tried commit suicide tell parentsi swallowed bunch sleeping pills night didnt work woke morning nobodys wiser im pretty sure itd good idea tell therapist dont want parents knowalso worried liver health problems result thisi guess background ive suicidal suicidal thoughts everyday 56 years im 18 bad conversation led attempt dont want specific im worried ill try againand uh mods dont know saying ive counts talking explicit methods think matters im worried health problems arise later thats problem guess edit outi send thanks replies',\n",
       " 'textpost weekend gt normal week feel like weekend meet people better genuine conversations weekdays bunch people shit posting',\n",
       " 'im sure im cant thissorry word vomit im sitting closet cant thinki good life shouldnt feel like good school friends care parents try graduate year pretty ask feel panic attacks nightmares night things ive heard things times faces patterns think end believing theres cry wish im afraid cut scratch arms till bleed im scared care going abandon dad didnt mean like control death feel pain im scared people going leave know dont bad know im weak hurts feel powerless change especially trying harder right want pill find know mum xanax know large sorts pills im scared pain want stop burden hurt people add pressure im selfish wanting enjoying life know happier im gone hurt dies like change psych friends boyfriend feel bad pain temporarily cause hate im burden leave peace boyfriend better im huge burden girls better friends deserve better horrible emotionally inept creature mum deserves better horrible excuse daughter stop afraid end im sure ideas feel like attention seeker posting life fine shouldnt anxious feeling 247 shouldnt depressed worse im sorry stupid know stupid guess lot easier people im goneif tell painless way sorry rules found sub tell explain sorry spoilt brat dont know carry sorry long word vomit hope havent wasted time',\n",
       " 'death familyhi found step sister passed away sure prayers greatly appreciated hard time young',\n",
       " 'dont think ill good person againfor year half havent satisfied life past months ive horrible person ive hurt close close friends people talk school friends tell time try edgy dont care talk anymore state mind want people care chase people away im ashamed weight ive fat try understand emotions im making people care feeling im stupid worse end called bitch hung person trust talk stuff usually end acting like pretentious white girl hate dont want die live',\n",
       " 'bruh realised confidence makes better itor',\n",
       " 'took like 12 extra strength tylenolsi dont know im sorry dont know nowmy stomach kinda hurts dont think better',\n",
       " 'officially totally aloneis point anymore ive lost real relationship mattered pulled different directions charge caring elderly family member failing need real connection think im help',\n",
       " 'confusedi tried killing high school young age pretty sad cant tell big family great dont relate im sit parties try people leave friend difficulty trusting people opening relationship girl fell hard best person met understood judge loved things didnt work thought terrible im awful person dont deserve like life drag probably person opened high school bullied lot went small school knew everyones business hated school 2 years time tried killing twice second time door neighbor stopped told school vacation 2 12 months graduated time school afraid lawsuit allowing bullying expense got drugs bit hardcore point smoked weed regularly started experimenting hands thats found love opiates oxys roxys norm feeling absolute numbness escape focus going head focus staying awake came close overdosing friend flipped forced vomit stopped months parents knew drug addiction attempts life reported school afraid talk critical focused preserving self image found attempted end life upset thought look like bad parents havent opiates hard drugs 8 months grip life days im extremely sad good day thing remains consistent wake hope die everyday totaled car 7 months ago impact felt relieved crashed going 65 seatbelt thought walked away accident lately gotten sadder sadder feel like time coming im tired stressed stagnant feel like ending right choice dont know im depressed sad want end weird find cathartic talk',\n",
       " 'earth flat round earthers come want know truth friends shared article facebook showing evidence earth flat opened eyes link article know reputable source truth corporations lying nasa etc care money round earth theory created hologram moon sky convince people theyre legit money moon landings faked moon hologram reply criticizing substantial evidence im wrong wont able im wrong',\n",
       " 'days 41 42 recommending songs bois um forgotten yesterday multiple songs gotye feat kimbra somebody knowhttpsyoutubeq7dtjjsvpskany remember song popular totally forgot song existed earlier today hits hard ellie goulding feat juice wrld hate httpsyoutubeuzwi9shgzgywell cant saw collab coming little pop usually like goodbandlez feat armanni reign heretics httpsyoutubegzrhq4p6b8ai dont know found know love recommend music like goddamn zero leave light httpsyoutubek5j9nbcx0so underrated oh lord man incredible',\n",
       " 'ok bad news common cold woke morning raging headache nosed super blocked running lot tried reach tissues blew nose doesnt help continued day going box tissues wanting bed luckily dog company watched netflix im getting better sneeting ps dog called louie good boi',\n",
       " 'bored boring barely friends likes im interested parents friends kids girls cant hang sister great time literally friend group arent interested im interested like right parents friends holiday home friend 3 girls friend girls siblings girls im odd im older im bored constantly adults old hang literally cant hang im staying 2 days im bored',\n",
       " 'shreks script line day load ampx200bampx200bampx200bampx200bampx200bampx200bampx200bampx200bampx200bampx200bampx200bampx200bampx200bampx200bampx200bampx200bampx200bampx200bampx200bampx200bampx200bampx200bampx200bampx200bampx200bampx200bampx200bampx200bampx200bampx200bampx200bampx200bampx200bampx200bampx200bampx200bampx200bampx200bampx200bampx200bampx200bampx200bampx200bampx200bampx200bampx200bampx200bampx200bampx200bampx200bampx200bampx200bampx200bampx200bampx200bampx200bampx200bampx200bampx200bampx200bampx200bampx200bampx200bampx200bampx200bampx200bampx200bampx200bampx200bampx200bampx200bampx200bampx200bampx200bampx200bampx200bampx200bampx200bampx200bampx200bampx200bampx200bampx200bampx200bampx200bampx200bampx200bampx200bampx200bampx200bampx200bampx200bampx200bampx200bampx200bampx200bampx200bampx200bampx200bampx200bampx200bampx200bampx200bampx200bampx200bampx200bampx200bampx200bampx200bampx200bampx200bampx200bampx200bampx200bampx200bampx200bampx200bampx200bampx200bampx200bampx200bampx200bampx200bampx200bampx200bampx200bampx200bampx200bampx200bampx200bampx200bampx200bampx200bampx200bampx200bampx200bampx200bampx200bampx200bampx200bampx200bampx200bampx200bampx200bampx200bampx200bampx200bampx200bampx200bampx200bampx200bampx200bampx200bampx200bampx200bampx200bampx200bampx200bampx200bampx200bampx200bampx200bampx200bampx200bampx200bampx200bampx200bampx200bampx200bampx200bampx200bampx200bampx200bampx200bampx200bampx200bampx200bampx200bampx200bampx200bampx200bampx200bampx200bampx200bampx200bampx200bampx200bampx200bampx200bampx200bampx200bampx200bampx200bampx200bampx200bampx200bampx200bampx200bampx200bampx200bampx200bampx200bampx200bampx200bampx200bampx200bampx200bampx200bampx200bampx200bampx200bampx200bampx200bampx200bampx200bampx200bampx200bampx200bampx200bampx200bampx200bampx200bampx200bampx200bampx200bampx200bampx200bampx200bampx200bfiller cause bot doesnt allow',\n",
       " 'dont settle deserve worth everit ends pain',\n",
       " 'im gonna tell u guys skip school like repercussions im extension class perfect grades ab omg school pls away literally mentally sh1t sometimesanywaystep 1the way grandparents know im skipping single text school sends nan im marked absent start day tested friend block number goes end schools case dont messageso blocked school number nannys mobilestep 2 prepareeeei set pillows food water spare room room goes space step 3wake 6am time schoolget dressed goodbye walk door like normally bus cycle round spare room window left open spend rest day computer food water vibing spare room4pm comes round come door like finished school2 ez',\n",
       " 'nothonestly ive point failure fault sure people care theyre gonna die day theyll die traveled happiest person world rots ground eventually people person meets influences dies eventually imagine like falling asleep wake wouldnt nice',\n",
       " 'im donein past years ive abused molested ruined lifea friend took advantage came 2x said rape kit wasnt pretty guy admit wrong brother beat shit friends yelling saying mean thingsi press charges solid evidence didnt agrree witnesses didim drinking beers ending iti cant continue fuck life hurt mei way goodbyemy ex came talked earlier feelin texting threatening jump eventually start believe themi want fear repeat finally causing greif timei literally hate life',\n",
       " 'feel need alive feel like wanting dont towhy need everyday work study stay alive dont need die need everyday chores homework functioning dont need id die need stay alive people lovethat love dont need handle die feel like little kid says live didnt chose live parents chose thing feels like adult thing think live parents chose right decide life chose kill ok people able handle argues wont handle love dies 22 yo college student case matters logical discussion answering talking tips choice fire away want phase feels like phase cant',\n",
       " 'think im gonna kms tonight im considering suicide diagnosed mental illnesses hard words way mean understand people mean best friend misinterpreted meant hates like hates meive hurt people like ive realised life better didnt existi hate appearance hate hate body im ugly af jaw strong chin wide sticks im completely flat ugly hate life wont better best friend im absolutely heartbroken want die',\n",
       " 'want stop feeling suicidal dont know startso title little misleading know start dont know act ideas understand need support network friends ive lost friends dump people im scared open upi drink im gonna stop frankly im alcoholic means drink cope suicidal thoughts takes away pain alcohol doesnt help makes time little quickeri dont know cope wanna better effort im coming wits end im close actually giving dont energy try new dont social skills meet new people want dont know better soon',\n",
       " 'dying experiencing loveim talking romantic love ive relationship matter im dead makes sad knowing got experience kind love',\n",
       " 'need fucking help grandma died hardmy mom crying painful watch know cant shit wanna help way cant figure help herif saydo g feel better nice idk im shock yeahi fucking hate painfuli need help',\n",
       " 'thoughts normali going huge distress suicidal thoughts frequency increasing greatly counselling gave panic attacks',\n",
       " 'fellow girls decide type underwear wear morning like pick old pair depend mood outfit brief day thong day style matter youll wear ones pick maybe 1 type underwear isnt issue im making sense thongs haha',\n",
       " 'im donei cant going anymore hate hate look hate broken feel broken cant sleep stay shaking crying ive seen therapist didnt help im sure hate life im 19 know thats young im short unnatractive unsociable wasnt uni supposed like got close hurt cant rely people okay hurt cause attached know itll happen point dont know probably money buy alcohol suppose thatll numb',\n",
       " 'im disappointed dad ago came gay didnt think hi gay im dad instead conversation doesnt want homosexuality defining trait think',\n",
       " 'returning hallucinations intense feelings selfhatredhia years ago diagnosed schizophrenia going long period depression experiencing auditory visual hallucinations lost touch reality convinced coma way wake commit suicide attempted suicide different times obviously success point antipsychotics antidepressants currently anymore approximately 6 weeks ago hallucinations started come intense lack energy feelings selfhatred matter way look try convince shouldnt feel way cant help hate point constantly suicidal thoughts aside feelings selfhatred previously mentioned hallucinations returned experience lot auditory hallucinations consist lot chaotic loud noises yelling regular speaking difficulties separating hallucinations reality case memories think mean hard time separating actual memories stuff head spot imaginary memories things perfectly possible ordinary like committing violent acts like realistic possible describe memories people ridiculous sounds constantly lot issues properly talking people general hard time forming coherent sentences speaking usually leads starting sentence beginning 3 4 times lot harder comes speaking personal things point try sustain keeping short possiblei feel like incredibly difficult talk parents im 18 feel like lot unwanted pressure problems partially im writing post point im sure anymore aside going seeing psychiatrist viable option prefer little longer seeing inform parents going thatthanks time',\n",
       " 'wanna chat bored hit hmu im extremely bored 133 rn',\n",
       " 'feel like ive wanted teenage years aspect romanticsexual ive lot good experiences friends gone parties fun whilst managing pass classes ive literally real romantic experiences ive kissed people dares shit parties kissing literally far ive gone anyonenow ive graduated feel like missed important high school experience friends kinds experiences',\n",
       " 'realised matter good therapist wont able betteri got new therapist feel comfortable shes kind attentive didnt feel blamed mom asked talked therapist didnt want talk mom provoked assuming talked issues younger brother gc told therapist told youre fault hes right right enraged told didnt kept provoking blaming hating gc croaked bit reminded times threw glass head plastic chair parents didnt reprimand reminded times words hes boy came mouths excuse preferential treatment kept trying blame threatened hit wish told dont like runs things try living wish didit doesnt matter help good help home dont face anymore im afraid pain death anymore maybe',\n",
       " 'random facts day 3 day 1koalas use smell tell friends enemies apartyour teeth bone cleanthere things aid competitionsthe church forbid coffee devils beverage pope tried liked said shame good drink wasnt appreciated everyonethe biggest crab japanese spider crab smallest crab pea crab smaller adults pinkie nailapparently bananas actually weedto turn earth black hole youd squish size peanutif removed space single humans atoms 75 billion fit area smaller applethe gravity neutron star powerful landing atomize spread microscopic pieces surface areain 1941inspector calls written 1945american cars honk key fthe commercial air 1946 mr potatoheadsea turtle german translates shielded sea toadmarie curie woman win 2 nobel prizesbookkeeper english word 3 consecutive double lettersnothing english rhymes orange purpleno word spanish starts wthere genocides recent history rwandausteponmydeadbabieshttpswwwredditcomusersteponmydeadbabiesutheunsupervisedhttpswwwredditcomusertheunsupervisedunotablequasarhttpswwwredditcomusernotablequasarusteponmydeadbabiesufilthyfrankisntdeadhttpswwwredditcomuserfilthyfrankisntdeadudecagionhttpswwwredditcomuserdecagionusneakyhobbitses1900httpswwwredditcomusersneakyhobbitses1900usneakyhobbitses1900httpswwwredditcomusersneakyhobbitses1900usneakyhobbitses1900httpswwwredditcomusersneakyhobbitses1900ujonzkahttpswwwredditcomuserjonzkaubruhmomentssssshttpswwwredditcomuserbruhmomentsssssuogchickenlittlehttpswwwredditcomuserogchickenlittle day 2the universe big football stadiums fit parking lotspotatoes originary theres 2000 aprox types potatoes country crazy pure purple potatoesoak trees dont produce acorns 50 years oldteeth arent bonesyour teeth arent actually bones pourage burpeeudaboss6595unaiseulperuanouthemagicman1339httpswwwredditcomuserthemagicman1339umittertoothuspoopydogeonreddit',\n",
       " 'hi new guy subreddit going wanna hi rn',\n",
       " 'depressing rememberits depressing remember alike die eventually lives ended hands ends miserably want kill hands need help cant live way long knowing mind im fully functional human survival slowly falling away 5 important things life god feel rage inside pushing action pulling away action good bad action im past disoriented figure',\n",
       " 'im getting helpive rough patch year ive denying need help long im going seek professional help tomorrow wish luck sorry im ashamed tell irl',\n",
       " 'feeling want talk',\n",
       " 'algebra grade went 18 54 75 dont worry parents beating burning stuff',\n",
       " 'hah time day time question gender identity',\n",
       " 'bruh snapchat needs priorities straight theres option report annoying reporting literal drug dealer added',\n",
       " 'ive reached point againi told therapist weeks ago unnerving feeling couldnt best described waiting shoe drop finally place life afford things interest making didnt food stamps years onmainly saw flight amsterdam februaryfor cheap price booked thatwas pulled hr incident basically wouldnt lie involve coworkers going fire opted resign left cant good faith fuck elses livelihood expense cant fathom going country anymore dont cash planning passport week sisters house january 1 start working credit im square unemployed depressed slightest inkling optimism suicidal given lost cushy 3200 month taxes unskilled labor jobim gonna kind money im wanting sleep forever sleepings time im peace',\n",
       " 'comment free award 9 dont write automoderator',\n",
       " 'post pain instagramwhy going didnt want live past 18 im going turn 20 couple months want alive reason im staying earth friends especially parents wont hurt fickle fake live ive reached doesnt know expects perform college ive ive given long time ago disappear wouldno care long died parents theres things cant tell people life feeling worse cant tell people horrible living im tired pretendingi want post im hurting suicidal instagram knows im hurting feel like big weight lifted shoulders',\n",
       " 'boyfriend 30m worrying hes potentially facing jailtime freaking mentioned dying sure doi wont post details active case going background accidental violation restraining order psychopathic exgirlfriend accused rape holding evidence sexual assault domestic violence charges caused cops issue arrest warrant lawyers direction staying sorted hes taking horribly stuck house falsely accused idea whats going whats going happen knowing lawyer sorted able work end end jail affect overall case hes sweet sensitive tearing thought mainly dealing anxiety eating panicking throwing gets bad sleeping night told crying dont want die asked meant said cant deal dying easier ive best care trying eat distract reach family members especially encouraging try patient waits lawyers instructions said took greater urgency tried talk dying wouldnt easier charges little chapter life told dad died suicide 27 dealt urges age ive aged past 27 extra years whats happened time meant im sure thats right thing im sure saying im definitely trying listen let cry talk needs hes kind run hes following lawyers instructions dont know point need professional involved ive clear come talk wants im working im trying space affection care dont know quietly hide medications caseplease help help point need professional involved risk ruining lawyers work cleared thanks advance',\n",
       " 'confronting morality way life enjoyable worried im fine im saying people enjoy fully understand life short fact face death life need enjoy instead wasting lives away looking forgettable social media posts need love pick game havent beat solve puzzle havent solved finish project youve swept rug life beautiful thing lets great lastslets leave mark world stand ask crush anythingjust love people good things come end eventually lets enjoy',\n",
       " 'im killing voluntary dehydrationi cant find long itll im guessing 3 days started ate 400 calories 2 days purged took laxatives looked long itll die getting different results im afraid itll 5 days physically healthy teenager currently 30 hours pain probably laxative abuse purging pfft course things currently experiencing headaches stomach chest hurt dizzy standing cramping stomach feel physically bad honestly happiest ive long time feel guilty finally itll end',\n",
       " 'need pat thing 8 months 5 months 21 days medical entrance exam near days hard push good days coming',\n",
       " 'classmate uses reddit doesnt use social mediasnow',\n",
       " 'im simple girl know want simple 5 word fact dick',\n",
       " 'idk apparent sucky confidence guy says im prettycuteetc assume theyre horny bc theyre talking assume people nice love confidence have11',\n",
       " 'delete social accounts feeling zany',\n",
       " 'think im starting feel depressed dont know dont know dont know dont know dont know know lose fall like myth sisiliphus pushes massive rock cliff fall idk telling time good time ill like way wish like rest people wish human wish like rest world destined trade social life happiness future accomplish sell life able physics earlier rest people sell life feels like bought burrito dropped floor figure messdo eat hating second walk restaurant forever forget mistake rest life idk idk idk idk idk king hate fucking hate hate need talk',\n",
       " 'saw tik tok guy playing guitar singing love im love guysim simple wow',\n",
       " 'gold need beat friend filler filler filler filler filler filler',\n",
       " 'helpi cant function work mental health yesterday told coworker killed smart amazing guy struggling understand isnt fair feel guilty didnt help distance right track feel selfish undeserving life matters anymore cant point holding cant think need',\n",
       " 'help katy therapy tools httpsgofundme608c6a5c',\n",
       " 'yall cute af dont believe says dont think arent',\n",
       " 'hows everyones day going wanted check',\n",
       " 'blahhhh hate feel like thisim going literally thing think',\n",
       " 'found ryoungpeopleyoutube found post subreddit called rmorgzfanclub lines nosy investigated lot cringe found worseget ready it321rmorgzmumnsfw',\n",
       " 'husband missingmy husband missing 2 weeks found note computer saying goodbye 3 week old son note clear going life like run away found car couple days later receipts walmart lowes bought bubble wrap trash bags duct tape scissors vodka water bottle coconut water cash car locked sign cell phone wallet keys surveyed neighborhood woods looking sign sound like walked miles commit suicide found like wanted disappear start new life thanks help',\n",
       " 'religious song fucking good httpsyoutubeyz1gffjbxcsits catchy man love',\n",
       " 'nowi increasingly feeling wanting end life isnt bad feel like cares telling husband awhile feel like gets concerned dont know thinks seeking attention anyways got argumentit fault feeling edge sure handle felt bad mainly hate arguing felt awful argued kids tried talk went gave went garage grabbed graduation cord things hung beam garage tied circle double wrapped neck standing cooler grill remember crying dont remember felt like weird dreams thing know ground hysterical wondering happened realizing kicked cooler away began realize happened husband later came like whats wrong didnt hug chunks hair cord large marks neck skin hanging neck mad dont know face kids going emotions stupid suck bad husband care alot things dont know typical loved ones react way husband thats sign feel like wants succeed sure feel like failure ways',\n",
       " 'rate blonde girl httpswwwyoutubecomwatchvteslskohuc4httpswwwyoutubecomwatchvteslskohuc4',\n",
       " 'thoughts comingfeeling end ropeim starting hate friend live cant discuss issues pays rent option parents better im getting hardly ssi unable work physical mental hurdles im getting fed life thoughts suicide strong trying change hardly truly change plan honestly dont think need dont ssi soon help check im tired bullshit',\n",
       " 'theres cute girl know aside wanna hug cant certain covid yeah',\n",
       " 'temperate blocked nose cant medicine cos makes vomitvery epic',\n",
       " 'hate memory foam bed forgets like theres goes deeper making solid youve gotta spot remember allow sleep comfortably',\n",
       " 'talk pleasetwo nights ago slight panic attack unusual havent slept unusual day half instead job searching ive laying bed ive barely eaten hours ago suicidal thoughts started resurfacing',\n",
       " 'peopleone thing pisses subreddit people pretend care people feel better like pain personal betterment like wtf wrong huh lieing face plus people havent close shoes like walking mechanic shop acting like know fuckedjust rantpm want feed',\n",
       " 'suggestions games play got good games gamepass play games like minecraft subnautica space engineers ark',\n",
       " 'furry ok dinossaurs feathers fur',\n",
       " 'lets start psyrolling people mods youregifyouremovethis youregifyouremovethis youregifyouremovethis youregifyouremovethis donotremovedonotremovedonotremovedonotremovedonotremove',\n",
       " 'im frightened community game community hating things ive saidim losing mind game community went livestream said got banned consistantly insulted time went streamer started felt like ive got problem im fear hated person im thinking suicide dont know anymore',\n",
       " 'im gonna song cute tomboy crush lol ight fuck im gonna song tomboy ive crush gonna called brave girl ive lyrics need finish instrumentals actually sing song lolron almighty rat king',\n",
       " 'youre able upload photos unable upload photo reddit guy facepalm',\n",
       " 'lives arent worth livinglooking logically peoples lives joyful happy reason wanting die wanna live forever people like dont lot happiness come way left devices traumatic situations suicide logical solution end pain ending depression anxiety ill probably soon doesnt matter way ill die statistic regardless',\n",
       " 'cool pickup line hey girl angle youd obtuse',\n",
       " '20 year old girlfriend 4 years 3 months left 42 year old professori idea fuck think girl high school sweetheart painful left 2 weeks ago today found week later dating professor took class year ago exgirlfriend 20 years old seeing 42 year old professor university idea handle cant come terms says real girlfriend girl dated middle school fiascomy biggest problem right fact closest human million years seen coming granted bipolar problems relationship resulted went meds shes convincing start taking cant handle says scope understanding im dark place',\n",
       " 'parents suicidal day cant leave housei feel suicidal day moms bitching dad misogynistic abusive manipulative fuck stopped buying alcohol im christian im cant leave house financial health reasons corona making difficult transfer schools online got dog day weeks trying thought happy felt soso parents bit parents course good lasts forever especially ive shit luck entire life bullied kid assaulted abused terrible people adult lied therapist didnt plans killing know hospitals like cut contact high school friends seeing theyre seeing theyre friends people bullied makes want cut aunt grandma cousin gave shit telling suicidal telling need pray bullshit blah blah dont bad blah blah blah ive told ive selfish suicidal ive thinking ways commit suicide lately want ocean drown read shooting head effective painless way seriously considering buying gun im coward people admit im fucked ghost tell situation hate people fake sympathize wants deal suicidal person people dont owe shit caused pain wish euthanized fall sky kill',\n",
       " 'add music guess heres playlist jackhenryhttpsopenspotifycomplaylist0npllldtpdjy98uu5cjrnusiqoh89mkqmqbiuyo1eeohg',\n",
       " 'psa people pronounce caramel like caramel shut stop talkinn youre better everybody caramel like dont sound french sophisticated sound like ignorant fuck satire btw talk want course',\n",
       " 'sleep paralysis second time life lot terrifying time thought sleep paralysis occurred rem sleep fell asleep 3am woke minutes ago experiencei middle dream killed bunch dudes cause guess video game dream changed lady telling ready interviewshe said turning cameras itll audio confess problem said problem leaped thats woke chest looking face face screaming confess raspy voice tongue hanging scared gonna throat face morphed weird monstrous thing looked like old lady spongebob wanted chocolate bigger fatter slimyim scared sleep',\n",
       " 'im going end itgoodbyeim 7 year old child thats depression 4im peopleim familyim fucking im going overdose 24 hours',\n",
       " 'hurts keeps repeatingi going mental loop im depressed suicidal indulge hope im accepting wont come true feel comforted loved safe accept real feel depressed inch closer suicide therapist says choosing leave cycle tried years time feels stamped mind like cant change matter try mental barriers forbid giving remind downward spiral works random triggers hope fall dont know simple statements decisions acceptances dont work meaningless gibberish dont affect feelings realizing gets worse cycle diminishing returns feeling slightly better feel dont know sad hope unable connect actually life lacking ability mind present imaginary feel broken feel like fixing require abrupt intense pain energy left im low want try die cant stand general advice choose change ive tried hurts takes im stuck sinking misery family member came ask spend time hate feel sad feel like terrible person feel like im mentally family emotions stuck past cant cant accept cant begin try instantly wishing death mind cemented pattern cant fix cant expect fix help feel like die day hurts ways cant express cant communicate cant find peace acceptance sensation pattern makes want commit suicide makes feel like choice actually free pain feel like terrible person choosing wanting feel like anymore dont know coming vent doesnt know hurt death want talk decide ill die im lonely feelings taboo dont let entirety hurt order protect momentarily wind making tiny choices instead greater risk die maybe thats dramatic way saying pick unhealthy things pick things think hope kills hope find kill quickly dying slowly miserable awful terribly lonely excruciatingly painful dont want anymore days thanks',\n",
       " 'foggy outside looks like horror movie scene filler filler filler filler filler filler filler',\n",
       " 'lonelinessim lonely talk connections girlfriend boyfriend family cares feel friends family feel want die',\n",
       " 'feeling anymorehey guysim kill right ive close im naive lot learn ive exposed dark corners worldim tired im aching feel like theres loose screw fried circuit head cant going longer stressed worried filled angst mood fluctuates downright depressed overly excited math problems happens constantly dont know people ask look sad cant answerplease help figure life worth living continue live life',\n",
       " 'hair length thread like inch past shoulders miss longer hair tbh',\n",
       " 'best metaphor love life 7th grade school play play woods jr specifically song takes sung love song baker protagonist wife cow standing song holding cow head prop',\n",
       " 'idk anymoreim 16 turning 17 soon couple years piece shit truly awful cruel things undermine things ive people ive worse things said thing stuff ive people bothers way stuff happened cant handle guilt anymore feel fucking evil disgusting wasnt aware time awful thought actions justifiable want restart genuinely dont believe thinks ive tried hardest improve prove im piece shit anymoreive wanted kill long remember dont know want enter adult world fucked mentally ill especially stupid fucking past like want die aspirations hopes dont care im young damage im fucked hate want nightmare fucking end',\n",
       " 'afraid creeping backat past weeks ive pretty tried distracting lack unsuccessful socializing offline probably recent unfortunate events happened yesterday received midterm pretty lower scale curve 30 final grade groups powerpoint today teammates replying parts peoples workload trying focus studying midterm later todaymy emotions sway apparently wants existential panic 2am heck super anxious buying online 12 dollars point suicide thoughts semester worst point place kill im afraid starting creep backim exchange different state school basically feel like im wasting money continuing stay indoors basically im allowing shut away society pretty exchange feel terrible socializing skills suck feel like dont close want talk start conversations try fun public feel like loner people hang prefer stay home suck talking people dont think ill successful future career im loner family events college feel like im going im going anythingbasically feel like college essentially disconnecting kill long term plan sucide wonderful',\n",
       " 'bad day shcioaffective bipolar typei took abunch binzo ant anm waithing kik',\n",
       " 'feel lonely want affection relationship feelings prepare worst sure people gonna caresif feel want relationship met right person feelings felt connected mentally prepare worst possible outcome meet personas 18 year old guy feelings finally meeting girl like getting rejected feeling loneliness gets way worse 2 months dont hung youll find right person eventually advice great people dont let feelings build find person likes way youll save lot pain dont read things look like signals person likes basically dont emotionally invest know like backand worst case scenario mistakes way remember past find betterim typing reminder mistakes',\n",
       " 'bipolar disorder hallucinations tell iti lived hallucinations telling kill daily year im tired tired high school embarrassing panic attacks cause unable continue school extent able watched like baby im danger teachers watch family watches friends watch stress people mean hallucinations anxiety im hallucinations im depressed im depressed im anxious dont mean sound like complain killing killing',\n",
       " 'think wearing mask outside ok story 2 girls went reopened restaurant masks manager told persisted eventually sat table forced use 1 cup information look 2 girls 1 cup',\n",
       " 'tiredsorry im rambling literally continue anymore im giving weeks cant sleep eat garner energy feel better recently ive gotten bad dont energy speak literally speak reason strikes horrendous happened dont want speak therapist psychiatrist family friends dont want work better dont care anymore want die',\n",
       " 'importantits years ive real internal reason kill honestly cant remember time thats case dont feel guilty obsessing hurt ultimately im left wonder long guilt able sustain selfish creatures comes right dont internal motivating factor theres point comes right',\n",
       " 'life suicidei dont plans kill today ive found change moment anyways october 19th 2014 8 days birthday 1 day wifes happy time peoples lives plans slit wrists bathtub neck right instead strange stuff happened distracted slit wrist noticed extreme pain wrist changed thought distraction wrist felt rushing burning fire feeling later found feels like split vein open 4 areas wrist cut 4 veins felt different kind pain wrist think broken skin pain far worse pain chest hear feel heart beating beat literally hurt chest felt like car parked moment later felt complete numbness honestly peaceful feeling right pretty amazing sort cant describe matter moments saw lights black coming painful chest felt like maybe heart attack left weeks pain burning feeling im left giant obvious scar left wrist month went feeling depression long peaking point tried week day dont remember attempt tried cutting wound veins open yeah owwi stopped havent attempted sincenow im stuck different form depression im assuming depression dont feel like actually going forth suicide attempt thoughts present mind pure emptiness feeling inside 2 12 months im stuck delaware im work illinois literally dont know person wife im stuck visiting 3 4 websites single day imagine old im stuck position life issues attempted suicide difference changed mind literally motivation literally lay bed nearly day bored internet find starring ceiling walls thinking day dreaming thinking hanging hanging happenim 68 damn tall idki feel like im rut cant climb things arent getting better days worse like effects anymore dont feel id love detail things going life worth dont feel motivated type idkany suggestions climbing rut im stuck better rut hurt internally single day feeling sucks lot',\n",
       " 'reddit rdreams given ai jumped box tried punching opened sun shone rays voice fingers door dream cant pinpoint taken night time cut body skin like desk toys stone started thinking dream died spirit learned taken saying box taken time nurse supported shop possesses dock room looked like taken time bit teach find teach didnt miss slush desk toys like cat siamese runs continue counting 6 onwards teach opened precarious legendary pancake shop bed way teach suddenly door burn sun small wooden box teach find profound truck tell exactly shes pregnant skin dirty new relationship find profound woke box foreigner found lane video game esque bridge war count circlular racks bit picked suddenly foreigner found blanket wasnt scared great way suddenly foreigner truck great driving recklessly foreigner form cousins foreigner form circle cat dont dream background skin like form room truck dark skin started thinking form table horses woke table eyes count house paint count suddenly manage leave paint crops called didnt man fingers multiple times whispering skin suddenly hunting knife driving recklessly told fathers shop fought whispering home photograph way tried cousins closet fathers shop fancy restaurantbar restaurantbar christmas tree crazy dream nurse brass key christmas tree mile away ex christmas tree gem truck recklessly speaking christmas tree truck normally mean guilt driving recklessly brightness guilt painful cant talk right song beginning song beginning sun hitchiker taken skin song beginning sad stone fun song beginning people surrounding rude voice eyes missed lot ex ex signaling house truck recklessly missed living war told skin missed dream counted fingers lack red flesh time stop suddenly bright red flesh man dream skin suddenly gem skin tried punching wants sleep gem know whats inside tried sitting outside sat near water sun crazy dream know whats inside body going reason box know whats inside box',\n",
       " 'suicide letterlongi dont know ended like envisioned life turn feel like failure cant right life lie rotting wasting away days dont know long hold ive wantedto end life times dont feel like belong isnt life dont think stil feel way ones fault choice wanted feel useful wanted people proud didnt want feel burden years destroyed look foward hopes dreams gone long time agobut impact mothergrandfather kept tethered cant pain wrong cant shake feeling 15 years felt like gone long time ago uselessi sorry momthis isnt faultall wanted difference shitty world somethingyet havent anythingi cant fear able fun home safely constantly think different save predicament change future feel alonepeople constantly check cant trueface constant creeping loneliness day day filling simple pleasure unyielding feeling truly talk simply know true heartache feeling wanted pain end constantly abuse drugs alcohol weed forget troubles tobe able feel stole away futures happiness todays sorrow cant shake feeling like fault lifeis passing stuck future simply living present goals look foward motivated simply filling time mind depressed constantly abuse marijuana feel normal dont moody unstable hardheaded hurtful want normali want change want feel useful scared doesnt need identity 5 years beenhis caretaker dies stable job work shitty job rent feel anymore want want dreams future know anymore stil want things look foward usefull wasnt predicament piece shit lives nothingi look foward days simply looking foward meeting baby making smile wont cant elsei dont know long feel way hurts know shouldnt compare seeing progress lives buying house buying new cars going trips families andme stuck position long hurts breaks heart thought useless thought thatlife bigger difference feel like simply scourge familyevery day simply lying dont want anymore hate predicement hate morei want free cant shake feeling making fun laughing expense doi cant prove wrongi believed useless lazy stubborn hardheaded wounded depressed angry mutlitude things dont want anymore family let live lives let beallowed waste dont want anymore possible wouldnt want deal anymore know uselessyet feel like taken advantage know wanted better sorry didnt turn wanted sorryfor useless asshole burden 30 years nothingto live justs hurts everyday wrong dont want feel way day look high dont feel way anymore smoking makes feel content makes forget life makes content life yeti dont simply smoke numb pain wish save myselfeverything falls aparti tried hide tried deal tried hidden dark clawing breaking bitby bit excuses cowardice want end life sure want find live present save grandpa look foward money creditno savings job prospects house family simply live dont wantto cousins gatherings simply want stay home cant wait til common anyonei dont want making excuses ineptitude things sane days smoking playing baby soinnocent doesnt know better doesnt know true mei kept blaming know stop smoking cant wanted best loved heri wanted smile laugh kept year hurt smoke pain away isimply wanted pain away day forget live present happy steal tomorrows happiness todays kept destroyed look foward cant fault tried hide itwith hoodie guess didnt work wanted smile laugh helped forget troubles hours yetthey wanted guess cant blame bad place lifehahaha ive bad place small moments happiness didnt overweigh constant feeling embarassment shamei dont know read dont know writing maybe look eyes gone iwanted wanted useful wanted proud dissapointment nusicancea simple leech destroying happiness born okay problem black sheep wouldnt embarrased wouldnt angry cry wouldnt caused problems iam burden useless son piece shit reedeming qualities felt way long hid confide toi cant escape feeling way years destroyed 30 happened everyoneis moving lives stuck predicament times escape reality happenswhen home crying wondering wtf supposed feel guilty going itsfor 23 hours 67 life revolved dont know anymore excites motivates makesme happy dont know anymore answers want feel useful hate life hate want change know cantmaybe afraid maybe scared maybe lazy maybe wasnt long identity anymore help iam aloneand cant thisso times wanted failed thing cant right muchelse matterim coward end myselfand hes gonethe thing kept tethered thing kept wanting live care himand hes gone fault baby deserved better feel guiltthis fault grandfather didnt deserve couldnt help frustration anger lashed like petty childi wanted hurt caused waited 30 minuteshe fine selfish asshole deserved cancer familyi mad angry frustrated peeing floor 3rd time night thing remembererd yelling deserved tired burnt mei caregiver 6 years fault dont want anymorei want end dont deserve life miss caused time left fucked killed thingsdifferent feel like wasnt selfish stubborn goddamn fucking stupid faultplease forgive life need know wasnt fault icant help feel sorry sorry useless sorry stubborn sorry everythingyou didnt want sorry useless sorry destroyed family wanted wanted left caused problems feel useless live standards cuz failed lookedfor easy way destroyed elses fault faultgrandparentwhat faulti stopped sorry grandparent forgive deserved better failed feel guilt depression gotten worse needed failed killed sorry deservedbetter failed love cant guilt destroying killed miss everyday missyour smile laughthe way look food smile knowing eat stole years youyou wasnt selfish reasons love sorry forgive allmy fault selfish addict didnt deserve stood 5 damn minutes ii hate useful burden black sheep family onlygood thing taking care gave sense purpose gone burden familyi sorry sorry forgive baby 3 weeks live miserable frustrated angryand tired 1214 hours hospital dementia getting worse felt useless kept getting angry reasoni needed break killed love baby sorry fault deserved better couldnt iti selfish bastard thoughts racing head failed better person herei miss waking miss smile miss cant help feel failed dont want anymorebut strong itif hear grandfather forgive sorry sorry wasnt person wanted sorry wasnt better soni sorry waste sorry dissapointment deserved better selfishi moments miserable love kiss picture everynight goodnight like hopeyour peace ill soon sooner muster courage end farce',\n",
       " 'im scared death starting scare lessi laying bed listening music silently letting thoughts flow nap stress loneliness stuff thats happened hope future makes feel dumb im young supposed phase thinking suicide came mind normally thought immediately goes im usually scared death year got pretty close ending wasnt thinking quickly realized scared right thought felt calming anxiety washed away easily scared death dont think like time im thinking completely',\n",
       " 'apparently social darwinist father wants kill myselfi born female didnt graduate honor im jobless despite ive trying best interviews phone calls returned social darwinist father shouted face im biggest failure wanted boy wanted child ceo multinational companies money spent education wasted big loser im ive trying past 24 years im going kill',\n",
       " 'posting random images forgetday 46 compromise wanna playerbut wheels aint flyyou gotta hit upto pimp rideyouve got pimp ridedamn riiiiightyouve got pimp ride',\n",
       " 'tell parents want start shaving legs im boy neber felt comfortable leg hair yesterday decided try shaving small area abd found like want ask parents fully shave legs dont know bring itup im scared theyll upset behinf advice',\n",
       " 'found phrase physics test ampx200bhttpspreviewreddita6uo8ohtqyl61pngwidth1172ampformatpngampautowebpamps42ee553e9fc16fcf7e7ad17980dee971f4dda04f',\n",
       " 'sets offtitle pretty self explanatoryanything wrong puts straight wheres knife mode feel completely worthless minor issues like forgetting small task',\n",
       " 'normal suicidal multiple timesive felt extremely suicidal months time times life point start making plans goes away guess usually school triggers semester eventually ends happening years middle school wrong feel like handle stress caring fail start digging hole class hardly pass want way guess little ranty wish way stop feeling bad time',\n",
       " 'wanna prank friends im bored friends discord sext ill tell happends',\n",
       " 'leftafter left keeping depart world accord suffering lack quality life chainedi wonder like popular truly loved shit knew wasnt going anyways troubled life travesty life serving purpose time guess youre gone nobodys miss wont matter anymore cold world man doesnt measure said atleast theres way find comforting',\n",
       " 'ithinkimgonnadieyep thats think im doneand didnt slashes title dramatic effect broken space bar',\n",
       " 'blocked people im love ur seeing',\n",
       " 'nothingrecently ive saddened feel friends know try help ive depressed years thought suicide held fear people know wont care couple nights ago walking home midnight stood middle highway closed eyes came walked ive told people response ive gotten doorstep taunt dont know shouldnt anymore',\n",
       " 'busted nut cashews doesnt taste good',\n",
       " 'help commit suicide guys help help pleaseee',\n",
       " 'reason dont sleep bcuz means ill wake',\n",
       " 'hey ive got new sub called rfattestdogs pics gifs fat big doggos new want started',\n",
       " 'want gunif gun easy dont want pain method bad cant im like 25 bc checked hospital die relatives tomorrow christmas boring ass new years',\n",
       " '2 httpsyodhdndjdbdnfutubei9dndnfnfbfnfbfbfbcncnfncbfbcnfncncnchgncndnfnfmdndnfmfmftqu07djehttpsyodhhdndndutubei9tqusyhsdhjdjd07djejendndjdnd',\n",
       " 'tf sleep deprivation cause hallucinations tf im supposed sleep big ass shadow man staring real tf im gonna',\n",
       " 'cousin asleep leg im scared dont want wake dont know',\n",
       " 'dear people constantly tell bullshit quote famous person specifically mom bossy morons workplace school dear people tell worseto people tell inspirational quotes believe quotes motivational sense half time quotes come people actually difference impact society sure fuck youre quotes arent true youre charge worldlife happens bullshit hit rock fault im bleeding head way argument yell cuss reason asshole fault day ruined start feeling depressed cause spend day year happy rest year im miserable decide little bit happiness away cussing cause felt like fault want beat shit fucking kidding meto people tell worse thanks utter sadnesshas vanished like existed kidding slice dick use fuck cause theres living inside plastic bag gets beaten 50 dudes single day doesnt situation stressful im absolute low economic ladder mental health ladder shut fuck bet tell worse fucked right',\n",
       " 'imagine sorting hot haha flipping nerds slightly better',\n",
       " 'fuck aliveive wanted die long',\n",
       " 'know joke sad im girlfriend 2 years dumped week anniversary december expressing lots feeling semimutual understanding arent ready relationship im truly sad great relationship think truly experienced love gotta taste crave want life pretty friends girl got bro uzrstealth boys hopefully game tonight watch anime play pc lol play siege chug monsters anyways point like guess whos single looking reddit memes genuinely h u r inside ideas mind absolutely fucking single',\n",
       " '4am cant sleep school like 4 hours cmon literally day sleeping good today cant laid bed eyes closed 2 hours wtf shinys',\n",
       " 'feel like im stuck endless nightmare loopi havent able sleep days job horrible reputation causing suicides trying life better exercise join groups try learn new skills started applying school end energy things cant psychiatrist insurance wait year psychiatrist appointment quit job right saw wait im going better literally dont resources achieve im pain day mental feels like body cant cant',\n",
       " 'dreams hugs today dream hugging classmate barely speak lol want hug jfc want 10second meaningful hug',\n",
       " 'felt like gonna rekt quickly mom said coming home amp bought gifts sister reason specifically gift share cuz shes 7 stuffs havent told em l paranoid found know stupid im scared',\n",
       " 'hello care enter thought processwell honestly cant im suicidal desperately want die honestly want black emptiness actually fear afterlife exists im obviously going hell mean arent believes god crazy mean exists hes batshit insane right mean look point feel like things attention im open ideas kill heartbeat honestly effected know effect suicide note dont believe actually love sort know probably think minds hurt dont wish hurt dont find value life mean pointless eventually forgotten right help cares forget die eventually gesture forever lost sorry rambling havent asked question cant die',\n",
       " 'teacher said lets poll dancing dancing polls laughed said meant hard explain click green check calls poll thought hilarious',\n",
       " 'time ive thought itso lot people community died recently close people die week kinda sets somber mood people killed selves ive struggling reality life completely devoid meaning dont believe god life kind want living easier absurd cant believe im 18 years old senior high school im border line alcoholic im quiet kid school dont ton friends best friend guess group started smoking lot weed dont wrong drinking havent smoked think dependency alcoholi went help thought joking asked help quit drinking lit bowl suggested moderation left weeks havent hung conversation basically havent quality interaction person weeks realize group marginally like friendsim lonely time think hate self pathetic right lonely thats real problem feel like friend turn tried reaching people mean mean depressed guy opens said nice things said cared liked followed saying said feels like didnt mean know im going youre young promise gets better shit come senior year supposed best years life im thinking dont want family waste money collage know theyve spent ton know kids arent cheap dont like family long remember mother conversation didnt end yelling andor calling idiots started 8my sister shes bitch shes better loves remind got looks book smarts social skills didnt like like idea going public school shes pretentious like shes stereotypical princess mindset expects people wants wont clean audacity shit messes arent clean worse parents usually frequently wish disappearmy dads bad hes stoic try sister place mother isnt hes critical expectations feel like cant live wants im hopeful future better going like life far dont reason going',\n",
       " 'tbh idki want die body literally hurts sad want hang short drop idk right way im sad im sad',\n",
       " 'hope happy ok week friday teacher quarantined contact traced happened day big english quiz wasnt prepared went deciding wing basically went entire class time mentioning quiz finally class kinda realized teacher completely forgot supposed day fast forward long weekend teacher shows online quarantined announces reminded frickin quiz email sent today wasnt prepared time assigned forgotten bit information knew yeah failed people kid cant teachers pet mouth shut',\n",
       " 'like elephants irrelephant',\n",
       " 'bet 90 redditors hate cardi b couldnt song wap doesnt count',\n",
       " 'thisthe countless nights listening sad depressing tones styles music leave wishing born thousand years ago obviously 2019 past years ive suicidal thoughts nearly everyday born time period strange stupid id spend life lying bed eyes shut daydreaming life probably viking age live heard stupid reason like betting making past january',\n",
       " 'kill meand burn',\n",
       " 'yo neurodiverse people lgbt like autistic people stuff like think good',\n",
       " 'life shitthese past years gone absolutely shitfirst year high school semi bullied got worse till year 8 harassed text messages telling cut cut properly like stupid kid told hang wanted homeschooled tried committing suicide messages year later term 1 week 2 saw best friend bullied decided stick bashed week later got point 4 months clean cutting wrists 6 yr old sister worst thing cyber bullying started experienced bullying like experienced point ran away came sent hospital 21st november came 29th november constantly duty teachers watch 247 doubt brand new yr week shit happen snapchat account instagram account instagram hacked single person posted stories msg bitch calling sluts found 4 days later knew right nearly flogged art class sahara melvin mates mellowed 6 weeks later happened time happened snapchat account telling ppl kill got rlly bad bad parents didnt believe till midnight night asleep texting exactly things got bad new friends friends thought wouldnt starting nikkeah harvey imogen taylor maddison taylor monique hannigton tyra dally ashton jose ayden allison levi nikkeah tried getting maddison start mean trying smashed maddi gave phone number girls hated telling wasnt caring got bullied sticking smashed person imogen taylor u 5 weeks game play head general couldnt anymore heres goes started messaging snapchat right got hacked invited hang feel tad welcome weeks later things wasnt till day obviously gave couldnt stand anymore time week happened actually new group away toxic bitches feel bad wednesday 9th april mum confronted saying stop harassing imogen completely confused group friends asked told ex best friend telling mates kill werent wanted impossible sara garry david tashachloe monday recess lunch wednesday lunch taylor thursday britney helping student council meetings rest week told mum believed ended storming room hit face mum overdosed morning bc sick living fall lies making school fighting rlly going happen escalate fast imogen doesnt like severely depressed constantly room doesnt cares doesnt understand like told mum loves cares im wanted im lost cause wouldnt understand dont understand anymore reading mums facebook messenger know know im meant investigating answers accused breaking little sisters glasses didnt found accused mum im cause actions shes giving family apparently got lose job losing memory fault doesnt care says trust doesnt care says feel better dont dont im fucking afraid slice wrists cant end im tempted school leave buy razor chemist heard mum phone day saying girls school sending links hang true wants living anymore tbh maybe dont belong maybe end right bc gets wants hurts truth maybe cant use excuses use advantage bullied accused person apparently im saying im immature cunt im bully im slut im im wanting attention im wanting help called attention seeker im girl trapped quiet times room trying succeed tried crisis help lines tried got lot trouble trying help tried councillor weeks couldnt open bc mum said massive argument im living im fall shit im lying clue said fail obviousi bullied social life im allowed house dont phone rlly cant complain im depressed angry mad right im allowed house ive gone party life ive sleepover family going mall getting nails im allowed things allow stay home sit ass want freedom allowed anymore life actually rlly sucks mean rlly fucking suck rlly lot reasons end life taking life tonight hell life im living way worry officially stop caring care itll life theyll loved care ill saying didnt alive rlly dont care anymore didnt love alive bye cruel ass fucking world u ps u r reading comment private message bc cant receive anymore unfortunately',\n",
       " 'know things better pain unbearableeveryday challenge cant right disappoint everybody everybody tired ive tried hard going everybody says things better long wait things better im building wall brick brick everyday gets demolished constant cycle rebuilding bricks heavier motivation scarce cant trust anymore im truly dont want die young cant bear anymore',\n",
       " 'im high boxer stopped boxing called unboxing',\n",
       " 'kinda sorta asked guy im afraid open message said strength like hours im terrified',\n",
       " 'pedo ask number number instead 248 4345508',\n",
       " 'like year sub finally found finally found change flair happy im',\n",
       " 'hey need help day talk therapist stay night place think called casualties prevention clinic got texted sorry friends knew high risk suicide girl bullied year saying ment feel bad wanted hurt onr freinds told doesnt strength talk becauseshe feels bad crying time idk second chance leave sad pain sadness anger',\n",
       " 'went philosophy holethe thing alive completely normal feel pain doesnt matter feel happiness content pain got thinking pain exist reason universehuman body allowed pain exist normally case logically want life smart know way change properties nature cause live im smart know im smart dont want experience pain anymore experience pretty key understanding need',\n",
       " 'ive literally reached rock bottomand dont want',\n",
       " 'wish euthanized birthim obstacle ghost people zero friends life home numb hell extreme social anxiety look stupid public hugged kissed loved parents obstacle time try friend cringe existence girl liked feelings course didnt like fact cringed existence cringe existence born typing difference life going care shit goes day whats point wtf living reason havent ended afraid pain comes death im afraid anymore want belt hang od sleeping pills read comment read tonight night finally end',\n",
       " 'pillsi lot celexa 8 lorazapam 20ish buspar 20ish trazadone advil end',\n",
       " 'promised kill weeki told didnt feel better 20th birthday kill 20th birthday week week told die intensive hospital program mental health past months feel extremely shitty refuse meds dont want body extremely self conscious let medicine ruin body bullied middle school high school looks cant current friends talked crap semester im friends isolate suicidal thoughts consume sisters talks crap theyve admitted face said love parents dont like deserve deserve bad happen horrible person know knew wouldnt like ive like long remember fucked dying easy long compress right arteries hanging tied noose today tested parents bathroom strong hold body weight neck tugged bit felt good quickly took knew effective noose looked long cant dont fear dying fear surviving idea survive disabled scares want end dont deserve live im bad person im vermin im pest dad told im fucking bitch druggie dont drugs calls smoke weed doesnt know self medicate weed dont want end dad right right im bad person feel better knowing noose efficient ivcve feeling like long word tell u actually bad im bad parents beat line lay finger sisters deny happened im confused im babyi want end want end want end hate hate dont deserve live hate hate hate hate hate hate hate hate life hate life feel like end',\n",
       " 'im fucking bored hmu like talk dont care fucking talk',\n",
       " 'im going homeless feb 1stunless hired somebody soon ive applied 30 places minimum wage experience required jobs single called dont job im fuckedand relationship girlfriend completely fucked shes person given fuck ive ruined friends familyi fucked threw gun going start killing people calmed dont know im gonna kill wish fucking kill end miserable life',\n",
       " 'new favorite songhttpswwwyoutubecomwatchvhvodnbbp7u',\n",
       " 'imagineif suicide didnt exist like totally impossible cant imagine way ill gone couple days',\n",
       " 'hey im lonely want snap score want snap pm snap dick pics shit like',\n",
       " 'tell girl like ive known best friends girl kindergarten like thing im allowed date date marriage dont want dads bc hed angry risk lifelong friendship telling like cuz feeling isnt mutual suddenly awkward',\n",
       " 'shoutouts doubt shoutouts boys lionheart sasha rick cuteass kachan todoroki galaxy yall past hours life damn fun friend know feels like big deal feel closer randoms met video game actual friends thats funny lol',\n",
       " 'kids legit hilarious watching video girl like 6 asked liked horses replied theyre sweet theyre favourite colour look like horses',\n",
       " 'hmu im bored shitsnap thiccnjuceeor dm',\n",
       " 'great ideas life couldnt submit cared notebook write ideas ini idea analog keyboard example drew schematic linear switch 6 months company wooting fiirst analog keyboard linear switches ideaive ideas internal combustion engine efficient 2 years agoive idea ai dlss ai framerate generator ive ideas nvidia way work exact wrote notebooksometimes wonder reading mind',\n",
       " 'f need talk id feel comfortable youd dm female guess im looking advice idk exactly im looking maybe therapist ill explain dm',\n",
       " 'tell meshe stole friends reputation hell parents tell stories want want know im gonna okay dont wanna think',\n",
       " 'hate livingnothing makes sense anymore frustrating things enjoyed chores frustrations want sleep tomorrow',\n",
       " 'collage broken wordsive sick half life started 18 fiance 6 years things going fine suddenly day asked stay nights couple days broke proceeded sex best friend later found shed cheating long time brother totaled car lost job scheduled surgery surgery told life long diseases degenerative disk disease spinal stenosis 2 herniated discs im 21 years old ive surgeries spine things gotten worse year later im diagnosed lymphoma sarcoidosisan auto immune disease taken life spleen 7x normal size im cursed chronic kidney stones ive 3 removed surgically year hurts day energy matter sleep day gets worse worst mentally matter burdened entire life im burden family ive lost friends like day mental battle live worse doctors refuse manage pain age sorry theres best thing manage symptoms oh didnt mean ill refer ending cycle dont bother doctors anymore long sweet embrace death couldnt come soon cant live way life standing world keeps passing like know ill life dont know dont want better feel like im going insane helpful says damn thing hate doctors fiber oh yeah forgot mention im 300k debt medical bills probably',\n",
       " 'matter kill myselfi dream end id end cozy apartment bookshelves city want live dont kill till reach thatid tell myselfearlier kept putting suicide plans till dorm refused die childhood bedroom like cares know ill probably end killing dont know 10 years matter kill childhood bedroom dorm apartment future literally wouldnt matter result exact',\n",
       " 'lost life hung couldnt dont know whyi ptsd depression anxiety wanna end girlfriends treats differently hurting mostall friends left im mean family feel like monster needs end alli hung little brother saw asked hug feel like id gone want die',\n",
       " '32 missed assignments help',\n",
       " 'im tired thisi cant kill right ive failed attempt im ready dont want screw isnt euthanization legal badly dont want anymore meant world meant cosmos hope freedom soon',\n",
       " 'got confirmation needthis finally goodnight',\n",
       " 'let brother eat hair saw long piece hair moms rice bowli told dad laughed brother ended eating thay bowl rice today found strand hair mouth hahahahhamy mom yelled removing dad turned immoral 00',\n",
       " 'wrote note today think guys today daylast day',\n",
       " 'tomorrow worst day year whyandreahttpiimgurcom4qzphjpgshe 17 3 years pain bad day found im hoping motivate position help idea taking away family friends impact close friend piece died feel sadness think barely remember sounded mannerisms memories fellow redditors place darkness reach helped dear friend friends family counselor hotlines fellow redditors worth life april 12th sucks',\n",
       " 'google scary short story time leaving dinner going family friends family mates car way home lived north lived florida started joke saying closer said place higher ground got curious highest place florida dads friend looked type highe entire autofill came highest point florida conversation moved googles alexa know spooky times mean imagine',\n",
       " 'life paini need kill dont guts right im scared wrong ill panic reasons kill dont light end tunnel desperately want feel lost',\n",
       " 'dont know domy mind basically fucked problems dealing anger motivation suicidal thoughts etc wrote expressing wrote basically spend days sleeping dont class wrote suicidal thoughts took mental health place university campus counsellor read detailed pages long told attempted suicide intoxicated time reached refer stupid group counselling thing month away hate group things thought maybe refer diagnos becausw idea whats wrong thought reaching help wanted help missed exams literally dont im sad time dont want help semester dont want stupid group counselling stupid thing self referred hospital program month ago said usually contact people business days got work trying fix hard want end want end right im scared want die dont want die ive feeling like long remember think im finally going',\n",
       " 'dear women pokmon real game animal crossing real game sims real game mario real game stardew valley real game mobile games real games baby games play requires challenge skill sincerely actual gamers',\n",
       " 'tough timesi castigated suicide suicidal thoughts ive thought mindset know ive horrible person life life cares im looking remorse sympathy frankly dont know im looking post way showing grief struggle makes sense ive thinking ending find looking better times preventing going days stare tall buildings think jump dont know anymore im sad confused frustrated hate living parents expectations dreaming ludicrous aspirations child end dont know',\n",
       " 'worth itmy life vicious cycle im feeling feel like blowing brains ending like feelings gets better',\n",
       " 'feel impossibly aloneevery single day single fucking day hide stupid maskits like im actor man play audience peers watching smile wave play perfect little persona ive created day day outits like im stuck believe world ive created world mask true feelings saying im tired im finei play supportive friend tries fix tries hard possible things better friends self harm scars open troubles expect suicidalthe thing ameverything life going absolute shit moment dont know deal anymoreits stupid tiny shit builds uptheres dumb basic stuff like unattractive grades falling pressure adults life good school making feel like im drowningthen theres friends love bits actions actions comes unintentionally push deeper dark hole ive fallen intoone friends found newer better friends hasnt hung lovely super judgemental people self harming lot people past attention overreacts shes option talk started homeschooling recentlyand final close friend super supportive comes ex told dating people life know depression constantly getting arguments pointless shit dont want tell muchsee far stupid teenage drama specialanyway parents factors equationthey hard deal love know love things hit close homeim perfect child sure fuck lash arguments dont im told parents usually combat calling names yeah hurts cant count fingers times ive called crude today alonesometimes escalates physical violence bad know dont mean itusually shit like slapped head held wall collar ok im actually beati understand cause yeah pretty hard deal doesnt hurt lesslastly new development think contributes lot ive feeling recently dad dyingor hes supposed live past yearshes going graduate walk aisle wish doso yeah dont want dwell things im tearing alreadyi cant talk friends ive stated arent great options theyre supposed friends therapists definitely pay gradei cant tell parents understanding dont listen dont believe im mental health issuesfor example history ocdnot like shit people cant stand pencil place actual obsessive compulsive disorderwhen 11 hocd talked mum night went away fine dealing thenhowever year 13 harm ocd talked parents little bit began quote unquote making spend time bullshit stop lying attention kidding actually said thatso youd wouldnt want talk mental health stuff againi dont trusted teachers want talk im going school councillor form councillor therapist whatsoeverbasically ive got turn resort redditthe suicidal thoughts ive past hour terrifying wouldnt act im scared wanted vent someonethats guess',\n",
       " 'cares apparently doesnt matterseriously im new father twins mother shut im lucky change diaper look eyes hold fussy aside im relegated going work forking money im distraught feel like ending allowing collect insurance best option',\n",
       " 'cant find 24 hour reward ive stayed past bedtime scrolling rteenagers cant find post worthy award got suggestions',\n",
       " 'ur gender matter fricking live mtfckr shit hard girl wouldnt botheredhere comes hate',\n",
       " 'need help making friend met girl anonimous chatting site talked shared private memories wanna touch pushy advice text ofen text pushy awkward',\n",
       " 'meaning lifeanyone fed treated like shit women im thinking killing shit treatment ridiculous entitlement women totally ignored women',\n",
       " 'visitor coming backwhat little weeks ago enthusiastic cause brilliant idea cold calling looking jobs especially area interested employer told need nightwatchman soon summer news news anybody looks like care maybe care dismiss soon approach month come pass ill run unemployment insurance good thought shoud sleepless night im stupid things phone number found newspaper looking staff restaurant minimum wage work maybe dont know time id able handle mad stupid hopeless situationeveryday like repetition day things im trying like joining club dedicated job seeking',\n",
       " 'cant think title ampx200bhttpspreviewredditkbxllaqos3c61jpgwidth960ampformatpjpgampautowebpampsebd53a9481c1d9cad2a68814f210be9a7b5d35ef',\n",
       " 'tried jump roof yesterdayyesterday bad day hurt didnt help drank drinking gave courage needed climb roof sat hour moment wanted jump friends called werent wouldnt e typing right nowi know im selfish egoistic person wanting end life feel like easier parents sister friends normalit better born',\n",
       " 'stupid ass toilet ok finally went bed working 7 hours looking clothes online went pee bed sitting bed trying sleep annoying ass toilet wont stop filling exact moment going lol',\n",
       " 'day ruined learn new song guitar high e string decides non existent break tuning',\n",
       " 'ive getting pretty lonely lately friends middle school went different high schools failed new friends high school started friend group find hard approach people id 2 somewhat close friends school dont talk school hangs friends walks hang friend people feel excluded unwanted therewhen im usually sit okay feel awkward weird sitting small school playground ive thinking buying book ill somethingthe worst thing people hang class expect good friends rarely talk towe drifted apart dont ask help pe class awkwardmy cousin good friends lot fun problem holidayssince start summer ive trying improve things biggest goals friends awkward hoping improve schools opening soon itll probably hard dont know act itany advice',\n",
       " 'need help dont know find iti young guy 24 problems connecting people usually drugs alcohol friends played guitar thats gone dont friends homeless currently live oxford house democratically run sober living environment 9 roommates seen complete turn house sober housing services people leaving left right people drugs house admitting shitty situation car given tags dont know thing getting insured crap cant awesome job known restaurants city feel hopeless situation love music necessary record low end demos fun cant find motivation im heavily addicted porn active member nofap subreddit deprive sexual stimulus makes condition flair bad use porn worse today laid bed day 12 hours straight watched porn maybe 4 5 hours straight immediately started watching videos reading mental illness im depressed fucked obviously ill dont know diagnose selfdiagnosis probably isnt good idea anyways try nofap way order enhance motivation gym friends record music end end feeling worse condition days watch cant effectively look people eyes honestly dont feel like people days anyways ive like anti social dad fought lot household habit appreciating company fight dumb shit dad drunk turn drank lot drugs sober living house stay sober daughter days want drunk die dont know im trying dont hope im aa ive tried religious ive tried spiritual ive tried pray ive tried reach dont know im missing ill semi social im ok ill wanting die feel like burden feel like messed fucking want help hope makes sense dont know today sunk suicide option laid bed cried face wet right strange emotions past couple months spontaneously cry cried work day felt like outcast work look social degenerate dont know friend people dont know connect people im basically idiot wonder people talk feel like mind useless feel like useless things occupy thoughts meaningless overwhelming sense inadequacy chaos dont feel like worth working ill start difference life bam goes shit lose ability cope life end picked extra shift work tomorrow dont know im going day feel like im going drastic like drink lose job house entirely',\n",
       " 'need comfort okay alivei want talk tried words dont come n know head idea burdening thoughts heavy bear told close friend n remind privileged mentally ill handicapped n havent attempted suicide feel like im whos aware blessings broke year clean streakim tired wake n depend dont think deserve life bcs deserving worthy wont feel burden alive anymorei feel like need actually kill hurting time wanna silently noticing bcs unqualified human like deserve single tear nice im someones memories',\n",
       " 'coming sexually identify attack helicopter boy dreamed soaring oilfields dropping hot sticky loads disgusting foreigners people person helicopter impossible im stupid dont care im beautiful im plastic surgeon install rotary blades 30 mm cannons amg114 hellfire missiles body want guys apache respect right kill kill needlessly cant accept youre heliphobe need check vehicle privilege thank understanding',\n",
       " 'ill probably kill time parents diemany times past winter years actually point thing keeping alive thought hurt parents killed myselfonce theyre dead reach point time ill probably theres life think couldnt cope suicide whos close badly affected longterm basis',\n",
       " 'birthday today friends wished happy birthday like title says like didnt know discussing like week ago group chat times feels like friends care',\n",
       " 'rteenagers play minecraft hw vv important question',\n",
       " 'chance advice sleep hey guys gals yall got problem advice thats troubling feel free ask private dm think pretty good advice help situation btw stop answering fell asleep',\n",
       " 'kill myselfi want',\n",
       " 'song listen want httpssoundcloudcomtheshabombhalloweenprodtrapzillahttpssoundcloudcomtheshabombhalloweenprodtrapzilla',\n",
       " 'biggest fear biggest fear pressured drags f end life think ez group guys surands youthats biggest fear im afraid away like physical pain cos day away things like running weapon isnt scary got dodge attacks example tested homeless ppl ppl trying hurt goes way substance f inside gives trust issues ppl worst families im trying mean sayinghave good day night',\n",
       " 'fuuuuck worst let seen heard friend chatted online mom super mad caught talking usearlier today friends mom threw bottle bleeding arms legs head neck told group chat happening immediately started panicking quick decision 911 mom phone house like 4 different phone numbers dont live city rush questions terrified bleed point said couldnt breath felt lightheaded dizzy operator stopped asking questions wait felt like eternity wasnt replying sent thought dead half later operator said able reach scene waiting story happened stressful event life fucking tiredtldr friend attacked abusive mom 911',\n",
       " 'dude idc im friends singing song n word long hard r im gonna sing im vibin idc posting saying shit song social media low iq care close friends youre vibing song able embrace vibe thinking offensive',\n",
       " 'proper timeline woulda obama 20082012 romney 20132021 wouldve avoided trump altogether getting new faces 2020 election prolly biden hillary wouldve dealt 2016',\n",
       " 'hey girl sugar cause diabetes',\n",
       " 'counts suicide attempti dont know',\n",
       " 'wait day dinner shitty salad doesnt eat day family eats meal day wait day dinner dad hit want light dinner salads dont like confrontation yeah thats fine eat bunch salad didnt fill leave soul shit salad lettuce veggies ranch want sit room cry little bit hope guys good dinner',\n",
       " 'compulsion help mei want drawn kitchen knife neck tensing dont know dont know going kill dont want die compulsion want know feels like need dont want die stop urges compulsions im scared',\n",
       " 'feel like world im ready quiti feel parents cant cope depression ive 15 cant medication help thr loops jumping help ridiculous went thr emergency room twice years sent home second time called junkie smoked pot life let abuse pills want healthy happy life giant sinkhole got degree person family degree im working min wage job csn barely afford havent payment student loans years cant afford tried help tell money credit awful cant marry fiance love death cant bring ill afford mother like ive wanted fiance doesnt actually min wage time parents spoiled fucking bad cant cant cook doesnt know clean interested aging stupid fucking apple devices leaves thr house work tries appericate fucks instead saying sorry tries fix gives goes devices havent day months keeps promising hell help csn day parents chat advice think dont experience deal iti tell im ready jump happy doesnt fucking happen like hear happy successful sisters im constantly thinking easy jump balcony certainly high pain stop thats want want pain stop want happy im im constantly sad im constantly stressed snd im failure regard life easier end continue',\n",
       " 'overheard mom talking burden familyshe zoom meeting therapist dr time spent talking cant function properly shes worried family suffering presence depressing agree said know loves long im alive im hurting constantly worries shell come home work find dead want peace mind know shell devastated lose shell know im longer pain shell able grieve hopefully life wont ridden anxiety everyday wondering im safe shell able focus parts life shes neglected past years im planning finally ending week ive writing suicide notes 3 years 16 notebook tiny shred hope id hanging gone im ready finally free mind world ill probably write post sub helped feel understood helped lot years hope find peace day hope',\n",
       " 'fuck english teacher write essay like 5 different parts thing wrong outline hes gonna look things cant fix straight wont let',\n",
       " 'saying opinions random movie girlfriend day 27 outstanding movie shed tear captain america winter soldier',\n",
       " 'brother allergic pears ate pie thing predominately pears days ago said felt like toothbrushes rubbing throat stomach started hurting bread pie felt reaction im wondering fuck allergic pears things thats ive got im brother cant eat pears guy know maybe im ok gives label labels comforting im confused cant brother eat pears',\n",
       " 'sleep thingexcept flip maybe',\n",
       " 'hate picture taken dont know',\n",
       " 'fuckk cant wait squishy greseball mouth tonight mmmm pizza dinner',\n",
       " 'came chicken egg personally think cock came lets people think',\n",
       " 'im hydrated drank lot water today feeling fresh yall try',\n",
       " 'minecraft pe played minecraft life dont know good friends want play dont want feel left like game 7 dont know im worried wont work probably play console dont know cross platform works phones android work ps4s iphonesthank replies',\n",
       " 'starvation modewell failing slicing neck open exit hood bought tank helium havent guts use thoughive eaten thousand calories seven days medication stopped drinking water night slugged neat vodka couple times help things considering taking zopiclone slug vodka ive got way energy starved themself week cigarettes desire toss turn wondering benzo dehydration alcohol need heart attack sleepi valium mast cell disorder valium mast cell stabiliser fear taking valium help hurt thoughts talking ledge thanks long story ive cant job evil bastard doctors',\n",
       " 'day 4 telling dreams bc dream crazy stuff ok 3 literally woke dream weirdso sort japanese school baseball team didnt actually play chase balls stuff apparently wellknown team good iti coaching sort new girl team teaching techniques stuff pretty clumsy wouldnt catch anythingso members accidentally send ball near showers stuff went pick entered boys showersi wanted sure inside enter said hello surprise indream crushlike dont actual crush irl person dream actually makes sense closest thing describe looked like irl mamoru sailor moonso freaked blushed swear feel face ears warming apologized coming near showers place started walking training place guy called meso guy comes towel head tells like shouldve enteredso freak time feel heart beating fast start freak heartbeatand guy asks im ok says nose bleedingand feel nose bleedand woke feeling nose bleedingi stood like minutes weirded stuff experienced nose wasnt bleeding heart normal face normal nice weird',\n",
       " 'guys want job ive thinking police ive heard dont paid mention bad rep',\n",
       " 'idea black mirror episode goverment bad controls ppl',\n",
       " 'weak life weak suicide filler filler filler filler filler filler filler filler filler filler filler filler',\n",
       " 'bitches like scooby doo theyre like scooby doo',\n",
       " 'life afterhow carry living past suicide date plans end life coming saturday 23rd marchit feels weird feel suicidal decided dont want end life weekend im finding hard life saturday qhow wake carry like normal knowing dead talk family friends like happened live wasnt planning living far live going dead',\n",
       " 'advice yall dear teenslife insecurities injustice difficulties know im 16 im telling look sadness negative feeling instead try imagine coin happiness sadness exist reason balance biggest error commit thinking purpuose life happy feeling real sad feel alive teolindo04',\n",
       " 'whats peoples fixation wanting slurs slur like slur good thing want whats point',\n",
       " 'realized truly happy atleast successfully commited suicide wouldve eternal peacei dont know thinking death makes kinda happy solve',\n",
       " 'dying normalits 2020 dont think surprised close friends family know ive struggled mental health issues majority life waking everyday hard going sleep night acute insomnia like month find sad live media thing putting day way im able connect world live abusive household toxic grandma grand uncle runs house bad news covid situation country governments failed system corruption making matters worse triggered things everyday share room toxic grandma makes anxious everytime im presence relationship friends family jaded dont know lie religious theyd probably think id end hell sum bc suicide sin honest embedded like dont know happens afterlife earlier year highschool batchmate fell condo unit periods suicidal thoughts think 2020 year death normal people dying left right shock timeas stupid sound manifest death time live life coward dont ask universe',\n",
       " 'im 25f depressed hell right need stopthe person want talk cant contact time night probably shouldnt responsibility talking depressive person dont know fuck talk fuck',\n",
       " 'im generation havent seen person went race change twitterhttpsmobiletwittercomdavechecksstatus1349494416550092803joke people actually supporting im feeling comfortable skin draw fucking line white race change straight clown shit',\n",
       " 'way outsorry long post im scared feeling ive tried believe tried start bullied badly school ended leaving qualifications hardly hated school im stupid guy went college age 16 uk completely transformed loads friends oddly went past school lol went time drinking best time life popular grandma died dont think ive recovered bless worst possible time happened friends slumped deeper came 18 got girlfriend cheated 2 weeks ok began friends took im virgin im 26 bad looking im good shape ages 2024 literally 2 operations time worked ive getting worse worse 18 im going worse quit job 5 months ago lot reasons dated childhood friend time said liked wasnt right frame mind university lot said didnt want relationship got drunk 4 days straight ended breakdown parents consoling dad said beat thats ive trying hard ive got fit healthy went doctors applied 200 jobs ive finally got dont feel ready today day awful couldnt motivate tired job awful taking rolls fabric conveyor belt boss kept asking ok head cant stand job cant quit told parents hated im going stay cant job best try hard life awful dont point anymore carry hate life day drove insane nearly im staying wont kill self lot people miss want upset like im living nightmare depressed stressed anxious nervous wreck everybody havent able concentrate 2 years mistakes today didnt crap let happen wouldnt care sacked fit work wanted disappear today dont care anymore going worse',\n",
       " 'digimon rearise antimicrotransaction mobile game ive played start want im trying shill bandai namco im talking game enjoyive mildly hooked game digimon rearise super special terms gameplay 5v5 turnbased certainly terms graphics said enjoyable thats probably little game wants use microtransactionsthe item purchase microtransactions rubies rubies purchase items shop spend summon digimon 20 1 digimon 200 11 digimon rubies super easy obtain battle park pvp long semicompetent party earn rubies time beat level story mode dimensional vortex earn rubies time beat level digimon clash battle opponent roster ways earn rubies dont think need mentioned',\n",
       " 'bad attraction need dieim 21m havent acted attraction eats alive know wrong want die feel shame day day',\n",
       " 'friend called cute literally nicest thing said im ecstatic fuck didnt im cute af literally death bed ill remember thank isobel aghhhhhh',\n",
       " 'talk im tired cant sleep feel lonely sad gtand hornylt',\n",
       " 'numbers mason mean httpsyoutuberkj3bdltoxc childhood yes',\n",
       " 'feeling goodive struggling bipolar disorder long remember different pills different doses different therapists psychiatrists etc feel weird lonely interact people feel like im failing miserably communicating slur mumble stutter nervous ultimately dont like feel like freakim terrible relationships attached paranoid checking phone texts shower example controlling ultimately selfdestruct handle stress romantic relationship dont want live feel like better classic depression statement hate looks intelligence skills artistic abilities failures dumb college degree living parents inability talk people new friends sounding like im mentally challenged talk crippling paranoia making fun im aroundi tried contacting people think hate maybe museum national museum day sit car listen music busy stuff dont want involved withim planning burn proof exist including pictures facebook accounts notebooks writings books movies clothes legal documents saved scholastic papers birthday cards phone wallet watch carkeysin parents closet know 5shot snubnosed revolver looking aim pistol thank internet im going pull trigger holding hands today smelt metallic slightlyoilyafterwards better things worrying like colonoscopies papsmears tickling uvula dirty fingernailstldr hate self wishes wasnt weird lonely planning killing self enjoys selfpitying post edit maybe add ive hospitalized twice past year decide gun method chosen parking lot roof thatll reliable talked hospitalization dont getting better anytime soon',\n",
       " 'hospitalization depressionanxietysuicide self harm sure inpatient vs outpatienthello 24f admitted psychiatric hospital 18 outpatientthings getting rough want commit suicide issues depression anxiety disorder suicide persisted 14 years self harm issue thats bad 14 years 99 wont commit suicide want deadi medicated work great exhausting literally need drug day night essentially 12 hours crazy suicidal self harm mess second miss medicationi want hospitalized theres issue im constant danger 247 lately im frequent danger mind ive forgotten meds couple times issues lately sad im dependent drugsi feel like im floating inpatient outpatient program like inpatient think feel place inpatient program guess definitely feel like im floating exactly note act crazy dont people hide inpatient id prob clearly insane people cant tell hold im meds completely definitely need inpatient im naturally mentally ill thoughts',\n",
       " 'imagine living 80i weird feeling ill suicidal ill depressed till im old man imagine life getting sadder despair increasing 60 years wtf deserve hope courage swallow pills year',\n",
       " 'want jump cliffidek man im',\n",
       " 'want kill myselfim parasite im drain family worry im worthless im stupid im bad voices need wait till tomorrow die cant cut helps family knows goddammit im fucking stupid cant die',\n",
       " 'thinking death wanting friends dealing agoraphobia depression social anxiety working moment plenty time communicate dont play video games watch netflix simply lost interest pretty intensive comes friendships relationships beginning strong small talk connoisseur want deep long lasting conversation guy avid reader enjoy listening podcasts problem solver problem supporter best help going oni find helping people keeps dark places mind hard live day',\n",
       " 'good mobile games im currently home wont game fun im going play like weekim debating wether start minecraft pe world nah ill wait come home play pc',\n",
       " 'accidentally saw spoilers godzilla vs kong havent seen movie fuck life bruh imma',\n",
       " 'contact countrys suicide preventioni spain friend online usa tried commit suicide twice whats best way inform authority matter help',\n",
       " 'haha shall award ill decide end day actually laugh loud',\n",
       " 'quit meds yesterdaywhy taking feel awful taking purpose day wish dead thats meds matters',\n",
       " 'favorite day favorite day starts red whoosh goes whoosh sky 1400 time reveal spooky anonymous purposes lawn kitchen search search cupboards know find beans find beans yummy beans apricots cupboards eat eat yummy beans apricots know tiptoe tip tip tip tip tip tip tip tip tip tip tip tip tip tip tip tip toe tip tip toe toe toe tip tiptoe corner kitchen kitchen meets living room check nono check saying shush noise time noise noise chraech chraech chraech best task chraech know favorite favorite squat poop hours later come check think poop dog mom check saying shush found sleep day',\n",
       " 'anybody elses parents lose minds single missed assignment dont compliment good grades bs 4 ap classes turn 99 assignments time pass tests dont hey good job passing classes assignment later gets turned late freak fuck unfair think',\n",
       " 'feeling like shit life pretty sucessfuli horrible person look view whats worse better notices evil realised want end yes shouldnt harm good',\n",
       " 'ill dead octoberi literally cant thisim fucking party im lonely havent touched long hurts need held kissed im lonely dont know whyi know dad keeps gunsi overdose easilymaybe home dont know',\n",
       " 'hate cancermy mom cancer pain everyday tired watching hwr suffer whats point want kill',\n",
       " 'need help translating japanese phrase friend sent okayso sent said meant likeyou great person somethingjust wanna sure right grammer lol new',\n",
       " 'certified pog moment bruuh pogchamp omg literally bruh wholesome chungus 100 redit moment keanu chungus lmao xdlol smh111',\n",
       " 'dont know remember means happyi diagnosed depression suspect bipolar alternate severe depressive feelings rage bad brings physically shake im 19 year old gay guy ive relationship life year ago ended guy thought friend apparently talking like hope remembered took years open consider dating especially man stigma thats entire life dont know parents gave attention needed dont remember real loving connection boyfriend child parents told bad wouldnt scold theyd pull aside talk send room cry punish listen reason wrong year ive felt completely took antidepressants entire time mother whos medical insurance focused getting meds getting point want live ive diagnosed depression 2012 thinking cant remember single time entire life happy satisfied existencei 4 people consider friends life 4 people enormous bullshit honestly feel horrible putting issues know best friend slightly depressed ive pushing away past months tell dont want places telling lost id lose little reason stay life theyre havespeaking best friend ive felt like love long time wouldnt problem considering hes bisexual monogamous relationship girlfriend 3 friends desire interfere hed pick hes best friend love know wont love itd easier explain woman mind fact certainly turned fluctuating level sanity himmy friends told making uncomfortable constant suicide jokes comments making vietnam flashback faces goddamn im trying miserable bastardi dont know want kill ive held 19 years hope day ill find cares care happy worry quality life im life ill like ive like life dont think change fair relationship reason found reason like thats ive wanted dont live possibility got bad know tools quickly painlessly lord knows think time havent gotten actually pulling trigger probably basic human survival instinct oh thats human conversation day',\n",
       " 'sister burned local library tiktok worst think trend record participating civil war homies eratosthenes zenodotus worked hard contribute library everybody alexandria sad fuck tiktok',\n",
       " 'friend cut divulged suicidal thoughtsok reddit things spurning control post rrelationships revealed friend suicidal thoughts friend said help shes trained asked psychiatrist knew feelings remained friends completely cut saying cant talkhelp way response threw state panic havent talked believed handled better psychiatrist held opinion wanted know opinions decided post rrelationships started hating calling manipulative exploitive failed understand boundaries exactly good friend dont know believed believe fault minds running fast',\n",
       " 'read human souls extremely valuable like guess got scammed sold like 5 dollars',\n",
       " 'chesti depressed 8th grade like things ups downs graduated feel like shit working 40 hours week come home mindlessly watch netflix play video games feels like look forward simply dont enjoy life ive struggled making friends year ago met best friend recently want hang hanging popular friends girlfriend know cause lot pain kill cant help wanting maybe making look like accident',\n",
       " 'texts girl nice hoodie thanksme probgot bro',\n",
       " 'theyd better mei cheated wife best friend ive super selfish tendencies life ive ruined relationship ive ive ruined life shes unhappy shes hurt cant stand continue watch hurt way shes incredible mother shed better kids dont need know need gone ruin lives',\n",
       " 'ive moved ex emotionally moved wrong relationship post ago explaining detail long story short liked guy like wanted girl im straight female questioning attracted females said try relationship found straight honest said supported needed friend lover things escalated quickly threatened suicide believed half year stayed unhappily relationship couldnt walking eggshells yelled accidentally wrong pronoun told friends maybe guys hotel lashed thought guys kind chill thing dont know anymore thought opened mouth guess god sorry ranting school theyre class half day act upset walk soon leave normal dont know found bit odd text fortnight broke hooked best friends cousin thought good guess thought friend says tht havent moved theyre making lot themself theyve spreading shit school dont care people business theyve said things earshot things hurt bit suck cry act hadnt heard moved emotionally feel like theyre looming im unsure deal sadness relationship time time remembering incidents id yelled afraid saying fucking aside im giveadamn busted room left heart care im burnt feel like bitch think times woke thrice night answer phone calls comfort times supported expense taken granted theyd time cried thinking id lie sexuality stuck relationship didnt want sexually emotionally think think deserve bit breakagain maybe im bitch like guy classes class im ex think theyve flirting guy began interest oh think able things judgement course worry mental wellbeing im soft dont know trashy date theyre clearly upsetthis kind rant im sorry',\n",
       " 'send nudes look nudes nooods',\n",
       " 'indifferent deathi dont guts act qualms dying freak accident hit truck sort oh attitude death lean wanting thing happen life bad deal general tend approach thoughts relating matteroffactly perspective maybe im trying create disconnecton tangent dont know jokes suicide genuine depression depressed dont know im able laugh enjoy days dont feel like end secluding socialization sad suddenly lose motivation work eventually cry sleep regularly tired sensation follows good sleep doesnt occasionally ive found staying extended periods time crashing later effective regards avoid thinking storm practice aids sleep quality particularly enjoy dreamless nights space darkness void maybe sensation similar deadmaybe im wimp breakup miss miss happiness associated time spent questions little answers experience ive come believe relationships likened house cards theyre painstakingly developed great care extremely fragile pointless end house cards abandoned anywaythis turned small rant dont know exactly im trying accomplish knowledgable topic id like hear elaboration difference sadness depression',\n",
       " 'tried hang myselflike tittle says tried hang bed sheets fine started lose consciousness dont know manage free body started shaking good minute didnt realize happening shock neck muscles hurts like hell probably pain goes away time sure able free',\n",
       " 'maybe deep shit ill finally balls kill myselfive struggling called sick work morning lied course said fever told im required doctors note order come work yknow pandemic obviously lied place lmao dunno im depressed im scared kill maybe fuck life ill run dont know im holding',\n",
       " 'want dieim horrible person know approach problem ill react defensively like problem instead react emotionally pretend caused issue alive net loss humanity',\n",
       " 'hey best things lose weight hate body wanna lose weight flat belly dont know ive proper work wonder know stuff doplease thank',\n",
       " 'aaaaa think im kidney stone jacked dick home fire whatevers happening hurts like crazy',\n",
       " 'young person suicidalthis post inspired exchange httpswwwredditcomrsuicidewatchcommentskfpjrvwhataretheconditionsfornotfeelingfinegoodutmsourceshareamputmmediumiosappamputmnameiossmf calls help divided groups younger 30 years old older groups capable gulping pills im wondering degree observing different situations 11 years old wants kill pain pain overwhelming experience doesnt ways find relief relief case focus pain moment makes potential good future completely disappear option ok lets tell love try change mindbut 50 years old adult went multiple experiences death parents birth son good job good friendship abusive boss betrayal 50 years old knows shes feeling shes likely influenced road rage episode morning wants die know shes sayingif want help attitude responding profiles different use white lies dont want bullsht destroy crumbling faith humanityhowever times support comes form like 11 years old sure making damage benefit personally second category believe empathising useful trying change mind sharing im suicidal feel think twice choiceany experts readersthanks',\n",
       " 'im doneno job relationship friends fucked head right dont know hospital soon cause think im gonna end life soon',\n",
       " 'awesome coworker helped time needback story company google voice line text text number boss coworkers reply final round interviews job coming potential schedule changes needed text work aboutas soon got home day family members started screaming caused cut unfortunately received text work asking confirm schedule couldnt think straight check schedule time explained getting screamed 45 minutes straight soon got homeby time stopped getting screamed employee end line day boss answered final round interviews asked boss companys weeks notice policy clarify question started getting yelled kind thinking killing thinking asked weeks notice policy apply employee going diethen boss called check im ok apologized completely lied okthe day coworker called telling found texts companys google voice wanted check mental physical health ok assured calling genuine concern friend boss told told didnt feel comfortable discussing companys phone line google voice left private cell textcalli texted day asking day going started talking work told interview went days talking normal stuff asked mental health making sure wouldnt rat boss time confessed cutting asked questions learned 11 years let know shed willing help feel uncomfortable space ive decided help friends know text day work ive feeling better talking sensitive topics best coworker',\n",
       " 'want end sooni feel look forward downhill ive struggling far long makes effort care truly feel id better dead',\n",
       " 'congratulations successfully fool test 037401failed successfully',\n",
       " 'watched jojo rabbit good film definitely recommend',\n",
       " 'weird people ass girl class keeps talking arson killing children hyperventilating fact canada doesnt exist live canadaplease send helpedit fuck meant class ass',\n",
       " 'people punished wanting kill themselvesit makes angry parents said ill kill ill sent mental hospital consequences saying maybe wont mention kill anyways maybe people wont use punishment suicidal people',\n",
       " 'idk cut myselfthe day sitting pondering life started cut wrist dont know honestly didnt feel like making kinda happenedive struggling light end half year days friend noticed cuts decided stopim going try maybe teenage angst getting maybe byproduct hurt',\n",
       " 'wish goi 12 year old daughter reason killed worried strength longer stay room apartment weekend pretend fine doesnt worry know doesnt fun try best happy dont friends talk usually poor kid psych wards wife left tell wait day maybe better dont want ruin little girls life tired day feels like torture easy let dont know posted maybe feel guilty weak want confess maybe feel idk',\n",
       " 'crush keeps asking advice boyfriend unfortunately best friend cant fear losing friendship',\n",
       " 'feel bad im scared hospitalim scared feel taken night meds early bed early hopefully feel better morningbut feel bad feel like punished unworthy living dont want die cant breathe heart hurtsbut cant helpline hospital bc time bad cant want implanon arm',\n",
       " '1am im sending silly snaps forth crush life good',\n",
       " 'im painso wife difficult time past years issues apartments ended moving client room rent needed overnight care demanded mom thats weve past 2 yearsoriginally working standard job great helping mom fix place getting money saved slowly work started dry werent trying hours hiring brand new people experience higher rates decade experienceshe decided start business company decided drop clients working getting certain area picked income okay start started looking future expanding unfortunately didnt happen 2 years later shes looking downsizing likely getting business entirelyso 2 years paid bills didnt care letting dream went way try help bombshell came started saying wanted leave wanted leave state somewhat sudden eventually told thing holding leaving shes worried killing myselfthis sent downward spiral im breaking constantly entertain thought suicide constantly genuinely wondering havent ive lot years happensill married 6 years soon weve known far longer cant imagine life dont know id want life telling come want tell teally want hug kiss told okay wont thati dont want die want stop existing isnt feasible im sorry poorly formatted know mobile doesnt translate',\n",
       " 'pointlesseverything feels pointless prozac knows works wait long feel effect whats point waiting dont want dont want people dont know dont want dont want',\n",
       " 'need help cant cope anymore talk toplease feel desperate overwhelming urge cut throat andor wrists opportunityi nearly consider family day struggle weighing pros cons help',\n",
       " 'im proud boy im opposite im proud im disappointment boy',\n",
       " 'think im going tomorrowim tired guess ive somewhat depressed mom died 12 years old im 23 started cutting year dad remarried woman hated yelled night good wasnt stupid cut places long time found cut deep actually got older independent started actually thought starting happy person time mom died started university feel like went shit feel isolated school competitive wants friends talks use answers dont like program dont care class anyways knows went counsellor year years ago tried help got zoloft didnt help stupid rule school youre allowed counsellors set hours ran zoloft quit coldturkey went awful withdrawal okay years year things got bad felt unhappy didnt care old hobbies dreams anymore started cutting point hospital stitches ugly scars arm im sure sees knows exactly theyre got antidepressant little psychiatrist hospital basically told lot people school come trying medicine tests dont need need friends join clubs youll fine fucking easy feel forget start conversations people feel like dont care interests anymore antidepressantsnot helping anyways okay summerthroughout dating best friend happy school year work jobs courses didnt time stressful draining felt numb time pushed boyfriend away dont know month half ago left feel tired dont know ive seeing therapist weekly past months im prozac helps energy today lay bed 5 pm got use washroom enjoy hardly eat im hungry past months ive groups people weird sort feeling like im like wouldnt impact feel like shell self like person contribute anymore fade picture wouldnt difference im tiredi know hurt family whilethats reason havent theyve lost people dont want lose moms dead brother oded died dad dead dads dad dead etc dont want add person list doesnt feel fair live 60 miserable years prevent family feeling sad going fucking die anyways like whats difference dying dying later eventually going end im happy end im tired getting worse worse worse want sleep wake cant fall asleep night anymoreive stockpiling meds year university doctor gave zopiclone feeling depressed year cut hospital years ago gave lorazepam calm past months doctor giving zopiclone ive lying telling isnt knew eventually shed stronger didshe prescribed lorazepam instead ton zopiclone ton lorazepam alcohol bag head im pretty sure ill set email send therapist day telling contact police accidentally stumble body feel ready gowhy posting guess theres goddamned bit hope convince far havent found reason world beautiful place things etci know world beautiful lots cool things havent enjoyed long time dies watch mom waste away die cancer 12 years old teenage years verbally abused woman hated scared pushed away person loved wont talk hardly talk family dont enjoy enjoy dont aspirations motivations lifeall want sleep world beautiful people wonderful things dont energy anymore know itll hurt family ive held long dont want hurt think fair hurt isnt hurt dont want anymore sure maybe tough find excites people love interesting fun life end im going die anyways itll pointless eventually hold im unhappy want end dont know dont point live going diei dont think change mind point heres hoping theres havent thought dont want kill want happy dont think possible happy cant happy dont want',\n",
       " 'mean circle context',\n",
       " 'dont know right place im tired painive dealt series personal setbacks past months diagnosed history major clinical depression attempted past feel like im coming close im tired living personal rejections personal disaster disaster end sight imafraid isnt word point honestly welcome death friend release seemingly neverending cycle mental anguish physical pain living emotional vacuum health insurance cover mental health services money charitable care programs ive tried help way hurts hear words im sorry mr fuzzybeard dont qualify reason shouldnt route',\n",
       " 'simp nice girls simp',\n",
       " 'moment realization came wasted wasted 50 summer didnt good productive exist use energy eat convert oxygen carbon dioxide sleep dont outwhat',\n",
       " 'starts w ends edit bruh got joke',\n",
       " 'post beneath pretty lame mean dont actually know',\n",
       " 'deadthats end cant stand anymore',\n",
       " 'cant remember times iv suicidal gotten like wow cant believe thinking waythat closei depressed 3rdhalf year maybe suicidal 34 times year wenever depression normal thinking im shocked seriously contemplating like time actually rope hands looking place hang im glad couldnt find talk somone lovetrust difference',\n",
       " 'im tryna fireside girl filler filler filler filler filler filler filler filler filler filler',\n",
       " 'unpopular opinion cats deserve love respect dogs know gonna downvoted opinion unique',\n",
       " 'thank goodbyedear suicide watch people thank letting rant crap people helpful support kept long guess goodbye works great wont try stop succeed hopefully ill dead summer dont care anymore getting better dont want try ive tried years got better im sorry family friends putting ive lied way hospital talked therapists helped support money energy ive taken im sorry making people read know im sorry thank goodbye goldengatebridge312',\n",
       " 'petition fuck upotadoeboy sign dotted line pleasethanks',\n",
       " 'promisesi decided im gonna try ditched plan killing tonight ill going longhe said cant promised true promised wouldnt leave happened guess ill try stay strong bit longer end impossible ill im love best person ive endedill posting know need vent need comfort love im gonna mind busy nowpeople great appreciate putting posts',\n",
       " 'matter happy ill want kill myselfso whats point',\n",
       " 'thoughtsi feel like point choice lets start dropped high school kid went college flunked got decent job got laid got dui years later financial instability havent gotten taken care 2 years single fell love beautiful girl best care neglected left worst im getting legal affairs order ill able find better job ill able independent things actually looking doubt ill actually ended failure whos wont changeive debated years honestly evaluated telling committedthe real fear son id growing stepfather grow watching failedi feel like ship rudder ill course point id feel productive sink',\n",
       " 'audacity guy im watching nasa launch guy named rover entered saying hello space nerds',\n",
       " 'lets overdosing schizophrenia medication worksonly thing want life fucked uphave good hope works',\n",
       " 'im useless wasteive depressed past 5 years feeling like waste space happened past jobs causes fired spend months trying find work usually worst time im working usually impression im great occasionally feel way depression surface waiting bubble suicidal thoughts didnt pop 2 years ago weird finally gave suicide consideration idea went away like anytime goes wrong suicide perfect answer ive relationship past year fell pretty hard love got overly attached shes told feels smothered wants time space away know need space shes joy life away destroying inside shes amazing actually normal happy im feel absolutely life emptiness decides end relationship fear push finally method picked im hoping things turn id like look forward right girlfriend reason going reason continue miserable existence',\n",
       " 'think ill supposed throw away trashrighti truly cares note ready im afraid ran away caught mom acted like loved cop therethen screamed bed says act like adult says im kid im 14 godammit custody battles going honestly life game suck playing wanna quit',\n",
       " 'favorite romance anime given',\n",
       " 'males females scroll nut november begins tomorrow complete tonite',\n",
       " 'think good reason end myselftrigger warning suicidethis throw away account im usually post things like publiclyi guess ill laydown situation year ago depressive break dead end job left hospitalized unemployed ive decided home town order certified build websites reasoning gain skill valuable todays market addition current bfa potentially chance employable financially independent signed community college forprofit schools predatory set healthy boundaries family felt like making positive change future like things looking cut 26 yearold dead beat lives grandmothers basement rely father financial support whos job prospect internship graphic design studio lacks personal disciplineselforganizationplanning skills everbefore talk state fully aware cause misfortune result family suffer actions time mess scratched grandmothers car garage sunblock stains mothers furniture etc emotional break end hating days finally let proceed forget learned mistakes inconsiderate peoples feelings sidetracked work stops focusing work lack ambition discipline actually actual lasting change lifei present tragic victim cruel world instead going truthful im asshole learns live privileged life family despite screwing repetitively loves accounts im lucky people worse realize im parasitic try change square funny thing rock time thing people hit progress constant loop repetitive failure inability learn past actions unwillingness change bad habitsat point realized good thing contribute society family end ideally like beautiful nationalstate park find isolated high place jump death carrion finds remains like leave note family sating chose die instructing cremate remains found hold funeral dont want remembered anythingthis post ignore couple weeks actually initiative life end things know want sure dont leave impact significantly harm understand killing detrimental familys emotional wellbeing long run better place worry care like reason making public trying find place vent wants think plan wrong want verification matter feel telling therapist true extent plans land psychiatric ward burdening medical debtthis issue dealing years guess understand disappearing woods better alternative living parasitic lifestyle nowtldr human parasite unable learn past mistakes realize harming love going woods die better alternative putting people hell',\n",
       " 'usually hate crying school usually hate crying school',\n",
       " 'hate ami depression long feel like hollowed facade everyday fake til ive tried eating better exercise depression meds counseling etc helps im surviving day day struggling bed work feels meaningful things like feel like infect people negativity im true self tell people feel depression dont want live like anymore',\n",
       " 'goimg blow brains outand ill gun actuallt thought direction thought ive suicidal thoights simce 4th grade anyways im 15 know great life ahead right good happened im state sadness extreme anger desperately want escape ill able tell people things tell finally kill',\n",
       " 'deal class bunch people dont like finally going school person class people dislike',\n",
       " 'im bored thats wanted somethin',\n",
       " 'reddit refuse notifications time time ill day strange',\n",
       " 'gets 50 comments pour water filler filler filler filler filler',\n",
       " 'happy wednesday dudes hey guys good wednesday today americans im right wtf moment polls fun laughing im gonna day guys need tell ya youre handsome everyday handsome good day',\n",
       " 'im pretty bored wanna number game smth im 16m gay dm mehave nice day',\n",
       " 'cant anymoreive dragging long officially way better thing dont talk anymore boyfriend 10 years thought trust life told best friend girl known 3 months personal embarrassing thing ive told think ways kill tell didnt want die dont care anymore want',\n",
       " 'boys dresses boys dresses opinionsas said yesterday im dresses gender 610',\n",
       " 'im running outim running isnt patience chances choices taken time disappointed time reminded life shambles little ive holding little ive graduated high school school distraction kept thinking tried education parents couldnt afford pay working distracted work days week hire time hands car distractions television numbs mind friends watch little taken away dont know dont know know im running im afraid left gone change',\n",
       " 'canti cant life cant suicide apparently ill able people told dont want life cant waste stimewhat suppose dont want live life people ill commit suicide gues ball stop loser idiot whining little selfpretentious baby live life suck like real men women',\n",
       " 'posted past days weak iti try harder knew cared help people know dont care help help suppose im screaming room people cant feel anymore feeling worse feeling suicidal depressed angry im numbi need quit crying internet strangers fucking waiting',\n",
       " 'going crazyi dont think im immediate danger want write feel ive voiced thingsi cycle stuff head constantly keeps awake maybe writing ill rid hope end feel silly delete file contemplate doubt itthey kind thing cry help understand motivation comes honestly read understand probably help lot reason write things explain left second reason private reflection chance clear mind im 37m ive thought lot kill ways doesnt matter dont want leave mess dont want horror spectacle prefer people thought died accident blame hate trouble think accident easier deal dont want known killed maybe dont care think dont want family friends thinking badly feeling worse maybe ill missing long horrible process left cant figure thinking plans times mind quietim flawed person nobodys perfect etc im shadow feel theres wrong getting worse behavior doesnt sense memory faulty hearing sight unreliable technically organs work fine dont process data right eyesight 2020 im looking things ages getting frustrated literally right pointed source amusement wife joke hide turning slightly worries frequently dont catch said audiology test suggest normal hearing tinnitus rumblings ears untraceable physiological conditioni pains chest arms legs knees hips headaches lack sleep frequent sleep nearly sleep wake numb arms crying children feel ragged edgesotherwise great life wife children wonderful live safe beautiful world nice house lots open space paid dont worry money senior level job takes world im currently sitting hotel room middle east feel lucky opportunities free time friends safety security comfort want nothingi lucky feel sadmy mindset wrong need snap optimistic positive encouraging surround enthusiastic motivated people seize opportunities come way try want philosophy admire practice day lying awake hours bed night hard optimistic thoughts turn embarrassing memories failures setbacks faults crosses mind little brain cries kill yourselfive noticed ive started letting involuntary groans thoughts occur mutter sigh cringei feel tormentedand accumulate new memories cringe daily basis thered pages stuff start listing things torment night gained new horrible memory behaved poorly colleague feel like im carrying worthless memories trouble dont know snap suicidal ideation like song gets stuck head feel channel burned synapses form thought firing repeatedly like annoying flickering tube light ive tried switch bulb exercise helps diet important friends family feels like maybe turning entirely way stop',\n",
       " 'slackers lot friends actually try dont people mean depression hitting yall whyhhsshshhswhyyyanyways mac n cheese quality food lets chat comment lets shit rollin',\n",
       " 'wanted share im longer suicidalsure im depressed thoughts suicide found reason live girlfriend drive motivator grateful life chosen leave days marks year anniversary couldnt happier instead planning suicide thoughts focused paying credit card meet person leaves thats wont able wont kill find like spend cent max credit card homeless die starvation arrested hopefully happens',\n",
       " 'epic moment math teacher says youre easy stuff idea test tomorrow aaaaaaa',\n",
       " 'prepared dms question need awnsered fellas sex girl tells cum hold wanted know goes guys head kinda situation',\n",
       " 'like girl said liked talked hanging stop responding messages went camping friend cousin 3 got high kept whispering friend didnt know started saying louder saying start face thought hot ignored thought hot didnt want ruin friendship started randomly hugging kissing felt uncomfortable didnt know friend thinking went bathroom friend told didnt care fine long happy night kissed alot morning said didnt remember said didnt wasnt akward went home friend told add snap talked unadded akward knew didnt like high acted like like 3 weeks later camping friend shes got high high tend tell secrets told liked didnt like messaged said liked knowing told add messaged talked bit high said liked immediately deleted saw told liked said didnt believe called awnsered said way believe hung time day messaged asking told asked question didnt day finnaly like 14 hours responded day messaged saying hi trying start conversation gonna talk hanging time saw day day like 22 hours saw unsaved weird messages set automatically save means went way unsave like wanted act like sent dont know ignoring thinking wrong maybe messaging saying liked high maybe realized mistake know doesnt like th time let weekend fling pulled saying liked gave cold shoulder like hit alot harder',\n",
       " 'hi wanna join groupchat hey want join lgbt groupchat dm details need people group small ages 1417 creeps',\n",
       " 'dr seus books cancelled racism im sorry man wrote book elephant risking neck facing constant persecution save species couldnt bit racist yougod people need realize theyre special depressed ants god damned wolf',\n",
       " 'posting music playlist day 5 time tell asia filler filler filler',\n",
       " 'hey little girl sniff hair maybe sit lap feel leg hairs',\n",
       " 'fortnite isnt bad game feel like said karma farmers posting memes include word fortnite associate bad fortnite bad game ive played times actually pretty fun problem fanbase reason fortnite hated thousands heck probably millions kids fanbase worldwide toxic curse single sentence satisfied fact im gonna decent computer run fortnites graphics probably play run solos onlythanks coming ted talk',\n",
       " 'minecraft texture pack pink looks fucking sickits mix nue pink looshy acidic blitzz magenta',\n",
       " 'im going start training combat medic week mixed feelings wants talk right nowso yea',\n",
       " 'omg guys step sister took bed morning got stuck dryer stuck pull shes bed saying shes scared room wtf shes 17 cant scared ghosts saying shes got pain wants massage wtf sarah im freaking doctor guess im sleeping chair tonight',\n",
       " 'want monke httpsimgurcomav35xoai',\n",
       " 'cant deal anymorei hate bad found searching method kill dont suffer anymore im anymore try reach people feel like im invisible decency talk ask dont want hospital look breakup better project darkness solitude cant deal anymore ive im',\n",
       " 'bedbugs fmlthink gotten evicted reporting bedbugs exterminator going bankrupt dye carpet red find notice door evict dad ill whack open arms start jumpingjacks',\n",
       " 'dont want liveno matter hard try cant care life going horrible painful drudgery barely contemplate mistake contradiction nonentity want end mercy gain strength',\n",
       " 'whats teaching school teach time following subjects example math ways solve quadratic higher equationsbiology evolution alleles genes cells know types speciation allopatric sympatricphysics bit deeper understanding basic laws interactions forces atoms etc formulas think interactions forces work togetherethics different ways reacting life like essentialism protestantismchemistry basic atom level stuff different atomic bonds molecule bonds allotropy dispersion force isotopes ion bonds lattice structures etcgerman learning 9 years grammatical cases die die der der den dem ein einen einem new wordsssenglish learning 8 years new words ways fuck sentence structureswedishbeen learning 4 years cant remember fuck swedishmothertongue finnish grammatical cases theres fuckton ways practice speaking crowds basic grammatics shitfor languages languages youre learning long youve learning wanna compare',\n",
       " 'ive decided weekim mentally fucked bipolar ptsd rough year hate living things enjoy pleasure feel cant stand feeling way im fucked financially im going money business partner mom leave im leaving cats nieces nieces moved country cat miss good im sure find good home want die dont know living anymore afraid death afraid eternal nothingness thats life feels dont feel worse means better dead wish away leave organs donatable im chicken methods leave chance',\n",
       " 'psychiatrist contact insurance booked mid january cant afford urgent care er bill dont know long fuckor er bill god fucking dammit fuck',\n",
       " 'commit suicidenobody cares loser want people lie tell things arent true reason problems weak waste pathetic cant handle want lies bad online help worthless kill',\n",
       " 'lost money losing lifehi ive recently trying recover abusive relationship guess found vulnerable position got scammed large portion savings school suppliesnot momentlifes looking upthanks cares im stupid',\n",
       " 'wanna chat im bored fuck wanna chat theres account yea interested dm sya',\n",
       " 'good luck god speedit tonight tomorrow coming soon suffered years years im good person feel justify spent 1000s hours volunteering free schools youth centres food banks whilst job lose money month cant provide little girl monthi fornightly time didnt daddy came greet mei live daughter days shes reason going today feel like best step mortal coil ive reached end road dont energy carry uk male 32 years old good luck god speed',\n",
       " 'willing talk bitim going commit suicide feel heavily depressed looking somebody talk bit thanks advance reading',\n",
       " 'text post weekend',\n",
       " 'got calls hot today dont tell ive thinking hours makes happy im sorry advance like bragging 16m adopted bunch goth freshmen school theyve adopted noticing main group sit hang lunch bunch come table hug truth told didnt think knew thought touch starved ease apparently think im hot didnt recognize told friend im hot hit truck thank friend came told lot enthusiastically agreed original girl friend followed class happily ive lot issues self esteem bullying past people adore view highly little overwhelming makes happythanks listening little ramble',\n",
       " 'suicidewatch im incredibly hurt confusedi fell deeply love guy month ago broke think constantly love know doesnt shit barely talk dad lying death bed mom redecorating bedroom type im failing uni dont know broken fix',\n",
       " 'confusedwellabout 4 years ago exfiance fell love moved halfway country month ago broke found cheating method find shes parents im family adjusting anger hate told theres way friends feel medicine im anxietydepression want end',\n",
       " 'cant want diei 17 year old male leaving greece dating lovely girl 1 year 4 months ago broke knew kindergarden crush young age competed good marhs went tournaments elementary school junior highschool kind seperated went private school year second year toghether happened brings start story got instantly amazed beautyfull cared cares helping constantly taking care nice surprises gifts things got time aproaching know intimate passionate moments year things fallen appart 4 5 months extremly misserable constanlty want die dont want anymore miss sooo night dream sexual way romantic want relieve memories want everytime think break tears lose mind pandemic happening extremly scared underlying family dessease called times check replies answers phone spoken mother psycitrist psycologist followed advices things getting worse help',\n",
       " 'tell im horny bored bc wanna jo dont',\n",
       " 'weirdest thing happened coworker thought hated kissed literally end shift ive uncomfortable life lol',\n",
       " 'weird inviting people know lot younger lot older teens toomy semester college ends friday dont know classes online campus ive exchanged maybe 5 words people floor know classesin english class group chat supposed use group work chatting small talk stuff effort meet people ive dropped open invitation lunchdinner allowed gather groups 3 designated eating areas times responds people talk fairly going later feel kind stupid dropping message getting crickets maybe people dont want hang try im sure ill meet easily entire day run restrictions maybe shouldntits probably stupid question im pretty socially awkward',\n",
       " 'ketamine experiencedecided try ketamine therapy read alot studies successes challenges curious experiences share im looking cure looking help fighting good fight felt time talking exercising etc',\n",
       " 'ive plan head kill mother dieshonestly dont going right ive got friends recently talking pity father died couple years born mom sibling family left growing kid watching mom cry dead husband takes toll im worthless scumbag asshole thought mom crying dead son killed thought thats little siblings close doubt affect distant relatives course distant probably wouldnt care basically point moms reason im alive right know multiple guns hands trouble figure whats point ive spent life trying treat better treat bad selfish action feel like honestly things end selfish selfless dont know im bothering think im fucking god awful person like seriously im worst think id world favor im posting mainly confession cant think irl listen let shit im expecting good read idkoh btw im pretty sure rules tell know exactly aiming kill instantly cause ive seen mouth thing temple sorta head area like aiming brain general like maybe brainstem idk tips appreciated',\n",
       " 'im pressed rn omg saw post saying boobs porn arent big fat girls unnatractive shut stop stupid picky standards stop watching porn bad literally find real fucking girl stop shitting girls porn',\n",
       " 'im experiment torture human mind takeone biggest problem ive met kind condition yeah im depressed yeah anxiety feels like chronic pain fucking understands ive tried suicide fucking times tell understands maybe dont want understand ive tried non drug thing fix comes thought sick unrepairable body stable months ago fucked drugs withdrawals knows benzos opioids lyrica feel like stabbing ive',\n",
       " 'feel unstabletrying hard fight thoughts urges planned rapidly changing thoughts impulsive nature feeling worry unstable predict react called psychiatrists office try speak town spoke nurse discussed case people office looked chart decided lower dose lamictal 100mg case increase making worse tuesday looking chart nurse little flustered phone started crisis resourcestell er got worse imagine notes wanting hurt sure able safe dont look good feel hopeless getting better think deserve dont feel completely control anymore situation dont know right mind help came',\n",
       " 'obstacleparentsif werent wouldve killed 18 suicide devastate passing pain people wont way',\n",
       " 'think killing yourselffor probably 3040 separate thoughts day maybe 5 10 im able distract day wondering comes people',\n",
       " 'normal think20 years old going college january friends long distance boyfriend secluded happy family long want house fastmy question guys normal think im afraid death fantasize care died feel like telling boyfriend kinda wanna disappear hell respond actually cares weird time got head im motivated future days recently feel trapped dark thoughts love family boyfriend bits buy gifts shower love love wow loneliness isolation years hurt faking happy painful easy im scared death fantasize suicide normal concerning anybody think',\n",
       " 'mom dear momyour probably wondering gay femboy porn search history totally understand confused fret explanation sunday afternoon got best friend uhh sam oh ya probably wondering sam dont worry hes uhh kid friends ya thats hes friend sam asked come home hang hadnt hung said yes sam got said hello let inside let inside went use restroom didnt know sam quickly ran room searched gay femboy porn computer ran away seen yes tragic story totally real explain theres gay femboy porn search history sincerely son',\n",
       " 'cure internalized racismim sure leaves gonna stop therapy soon cant cure want maybe grid associate humans id self hatred interesting frustration situation idea im suicidal stewing confused anger',\n",
       " 'omg trump thicc im trying focus debate huge dumptruck keeps distracting help',\n",
       " 'time read ill gonemy girlfriend hates says stress family hates friends holding anymore choose sadly itd game play daily game series sad know life turned shit year video games school things dont school motivation anyways im drawing end thought itd nice leave guys song actually fits life perfectly httpswwwyoutubecomwatchvc4urav1i14a',\n",
       " 'fuck literally spent 1 hour life creating fake scenarios head making look real point literally faces like real life bullshit',\n",
       " 'snoo avatars draw comment dont mind snoo drawn post depending turn',\n",
       " 'people lgbt community soft cant joke look guy got banned tiktok literally making facial expressions yall try cancel im bi stop',\n",
       " 'know grateful butps sorry formatting im mobile stupid lolnothing feels worth anymore wonderful boyfriend moments place planning getting married good albeit stressful job ive got opportunities life perfect past medical conditions didnt grubby lil paws meive attempted times count stopped getting doses right slicing deep things breaking stopped people lifeeverything growing pretty awful sparse ok times shine iti ended fleeing home 17 abuse constant manipulation random friends houses shelters ended getting sexually assaulted loli contact parents feels genuine makes sense seriously dont understand pretend youre buddybuddy expect money gifts mental tormenti know cut life simple feel guilty feeling bad father suppose yearning good family saying goodbyes solidifies fact gonna happen ive given tryingwith work past trauma chronic nagging health conditions im justover itill probably feel better meds constant reminders dont family nightmares memories sexual assaults stuck worksleepworksleep cycle friends problems bf feel likei shouldtry hahatldr life sucks ptsd work relationship problems galore living life wanna kms lol',\n",
       " 'today find im deadim away home person find week today come find week end parents expect home im ready im scared im unprepared dont exactly know need ending life wish sleep wake sorry im posting lot dont know share thoughts',\n",
       " 'need talk toive thinking suicide long time grade 5 im freshie state university understood emotions wrong ive going lot stress thoughts come coming week wanna know theres talk im starting run reasons going',\n",
       " 'post half way male 17so post sub pretty average 17 year old twin people twin amazingyoull friendthis isnt true cases performer people jokes aw bet wish good brother like youre ugly parents wanted teachers school similar commentsall banter started primary school started happening smarter athletic better looking identical thinner friends single little detail better time tried find good hed decide try guess better life literally disappointment depression parents comments tell like mother saw tried tried attention worked caught congratulating shit told hate ive congratulate tell proud try good friend hard whilst simultaneously living shadow open tell feel life understand im attention seeking understand idea like worser version brother friends ive little friend group reason finally decided post friends recently passed driving testthis best friend started taking friend group time felt like inviting brother wasnt anythinghowever mistake trigger lead commit suicide night friends stooped inviting inviting brother instead moment write door bedroom playing fifa xbox laughing listening music whilst lay bed door locked tears crawling face ive felt oneno friends girlfriend family attention seeker pathetic try talk need help dont want commit suicide life stays like option',\n",
       " 'parents time plan dont plan instead forced fun fun teens limited time teens maybe doesnt like thing parents maybe laying bed maybe thats want wasting anytime late night want parents time friends awake socialize time dont phones away parents didnt phones young doesnt mean today use phones talk phones friends people forget',\n",
       " 'scared yall audition varsity choir im pretty nervous bc know friends probably',\n",
       " 'way delete single comments need know thanks',\n",
       " 'lol ultimate conversation ender talking send lol seriously dont know respond exampleme sadperson lolhow respond works lmao rofl etc',\n",
       " 'questions guys im scared ask irl 13 opinion rape women thing theyre talking tiktokbasically dont know girls started saying kill men kam guys responded saying kill women saying rape women aka rawpersonally hate',\n",
       " 'dont reason eat food drink water anymoreand dont hit need live sure need live live',\n",
       " 'got 2 new pairs vans ones huge hole skating got new ones',\n",
       " 'cant anymoreim sick feeling pain everyday hate ive wrong want jump im scared moment hit ground tell',\n",
       " 'whats favourite book personally love 1984 underland chronicles 5 karp',\n",
       " 'think woke day happy longer suicidal id probably die massive heart attack shock48m ive dealt depression suicidal thoughts probably 35 years ive pretty different meds 2 rounds tms 30 sessions therapy feel betteri dont remember way feel sad hopeless suicidal dont know longer going',\n",
       " 'okay',\n",
       " 'im class got fucking 3c science project earthquakes cause complicated cause went physics earthquakes cause kids class level doesnt mean sink level',\n",
       " 'panic attack strong suicidal thoughtsfriday worst day actually started thursday studied midnight midnight tired terrible week decided sleep half hour study luck running true form didnt hear alarm overslept woke 430 morning realized happend started panicking tried study cold sweat pouring scared crying probably woke house angry course started screaming went bad worse trying study freaking heart started hurt got scared shortly hands started tingling couldnt breathe time ended school day got worse wrote tests day tested verbally class subject didnt time study time thinking going kill thats life going years im better dead family hurt yes like im important friends grieve guess life punching gut like guess killing best everyoneim sorry wasted time post wish better day',\n",
       " 'im friends house im friends house im bored hes playing skate 3 headphones ignoring past hour ive asked play player game ignored im sure leave walk home far leaving rude invited need help',\n",
       " 'cant anymorei hate job close relationships successes total failure cant stand anymorenothing ive tried 5 years good dont want 5 like',\n",
       " 'hey guys lets rag polygamy utah declare war goampx200bfiller filler filler filler filler filler filler filelr filler',\n",
       " 'tell miss talking saying miss talking friends gon kinda silent snapping like twice week n shid snap score goin like 30 everyweek problem cant outright shes girl im relationship thatd sus good friends miss',\n",
       " 'guess goodbye postim 16 year sophomore girlso isnt point im basically going resort venting internet possibilities finding help flown window ive feeling substantially suicidal ive lately im planning killing soon actually factors add im feeling way main reason im completely utterly dont mean like oh couple friends talk thats mean literally friends acquaintances person consider slightly close old friend middle school lives neighborhood couple times year drifting away start high school attend different schools fault im situation severe social anxiety extremely shy gotten point people label selectively mute cant force utter sentence people meet starting physically shake stutter talking supposed easy natural thing absolutely hate able simple year freshman actually persistent making friends people come shell times sparked tiny conversations people little attempt trying improve fruitless got efforts extra bit talking incredibly difficult ive recently given trying converse students school sit learning commons school lunch period effort try talk people anymore remember year cry room daily loneliness like feel absolutely like im devoid emotion family dont understand im going ive reached plenty times severe depression dont listen care depression affecting academic life theyve reminded time time matters grades average dont shits pain im going emotionally understand parents love dont idea hate upsets cant understand im going 1 havent experienced kind depression firsthand 2 achieved outstanding grades school expect blinds fact emotional instability important academics right relatively good student achieved decent grades started going downhill year achieved good grade average freshman year hope better ive basically given life grades flushed toilet cant focus school anymore im constantly exhausted classes cant focus half teacher saying hate getting trouble bad grades school isnt main priorities anymore know care donti know maybe reasoning wanting commit suicide little petty especially compare story millions people far worse makes feel extremely guilty cant help feel emotions actually remember reaching internet received response told feel ashamed suicidal thoughts tendencies small people worse aware maybe person tad bit harsh basis saying true fact family devastated things holding killing far likelihood perceived selfish asshole whos concern family love family cant comprehend emotional state dont want hurt cant deal living anymoreweird thing dont want die love continue living enjoy rest time given earth knew better need hope order want live lost long ago know better im hopeless cause depression anxiety gotten point believe death simply easier living ticket guaranteed end constant storm emotions thoughts whipped mind dying absolutely terrifying cant worse life offering plan killing soon likely couple months live hill overlooking seemingly endless meadow theres giant oak tree far house little sisters spend hours tree playing rope swing dad think nice spot sunset stunning watch evening itll quiet peaceful ive decided play favorite song ruby pilots funny planning minutes im persistent including band fandom theres point staying alive longer care aftermath death insensitive prick coward want deserve anyways purpose ive pretty butchered chance finding successful career shitty grades zero social skills likely end day die given wasnt going kill long grow old finish waste life',\n",
       " 'terrible mood swingsim worried ill impulsive thought depression normal self destructive episode eyeblink want die know pass dont feel like spend day boyfriend ignoring want talk ive scratched word hate arm dont want feel like ive lost mind feel like im going fucking destroy burdened loving fuck im fucking asshole cares thats keeps fucking alive knowing tried failed fucking kill fuck theyd angry resent id hospital hating boyfriend leave failed kill friends leave maybe drown pool overdose old medication im tired waking everyday fucking garbage guilt fear anxiety insecurity self hate bullshit bullshit im afraid start snowball effect maybe check hospital fuck ill attention fuck fucking snap want fucking die want die fucking want die dont want exist',\n",
       " 'friends anybody wanna play code game jfxnqq',\n",
       " 'great nature motherim going introduce im post saw end stupid fucking life april 7th 2019 kill help solerteska great nature mother gods create actual afterlife derethark cult terenis god time came mind 2323019 art class blue decided randomly lines curves canvas amar god mind planted words mind heard 13 gods plant wisdom time time told chosen life order help create derethark chosen ones told religions fake control humans amar told eyer god lies trickery send lady cause eyer want mortals ascend derethark solerteska told careful outside house attack lady physically saw hiding strike let guard lady wears pink dress skin body expect face carries pink umbrellai simply want stay world anymore cause getting hard school family fights time time probably fault nevermind dont reply 3 days im creating afterlife people actually deserve suffered most15 year old dumbass',\n",
       " 'cant handle living anymoreif way exist wouldnt able hurt hurt cant thing want death long time ago curious aspects life want experience death wrong money month know needs blamed connect action cant change ive tried cant handle pain causes want help things worse try kind hurt hurt cant handle living anymore cant support change situation im worthless ive tried talking mental health professionals things worse wants whats left family extended family told im tired treated like st blamed im extremely ugly able im burden miss dont friends think anymore ways kill hard poor use dont know im typing change dont deserve exist im wasting space resources',\n",
       " 'spam comments wanna 420 notifications girl told',\n",
       " '10 cutest people number 10',\n",
       " 'honestly think strength exit bag im surprised freaks outi wanted like helium tried breathing garbage bag got light headed typing splitting headache got doctors appointment im sure im going tell dont want horror story locked 72 hours whats going wanting fuck',\n",
       " 'second day posting 9th grade essay tomorrow im experiencing pain',\n",
       " 'hey guys btw guys channel syfy shrek good day',\n",
       " 'pog champ imples champion pog',\n",
       " 'forklift certification raise zamboni certified',\n",
       " 'cant wishing zombie apocalypse right like imagine fun pure chaos like overly depressing filler filler filler filler filler yeeeeeeeeeee',\n",
       " 'new story line feelingim different feeling suicidal im hurt lost worse cant bear anymore im looking help miles away suicidal thoughts started turned 29 excites anymore hurt biking swear moment worth living fuck pain dont think ill commit suicide want thoughts head',\n",
       " 'bi trenches crush girl havent girl boy',\n",
       " 'natural consequenceas spoilt life life spoiled growth arrested oscar wildein way butterfly recover dust damaged wings ill ive lost ive come accept recent months refuse grow accustomed lowly standard life like lost souls ive ill years case series chronic ailments insomnia sleep apnea ocd brain damage combined vitiate mind body muscles softened personality grown dull spirit waned im 23 paper feel im 53 mive wasted thousands treatment options cognitive behavioural therapy didnt work postconcussion treatment didnt work cpap machine therapy didnt work essence youve heard ive tried fail capacity reason im considering ending im angry fate like ive outlasted function use man cant physically exert man cant think straight man cant maintain household years dream start family fear im entirely unreliable id people remember person behold im fucked detail things hope guys manage find peace ampx200bampx200bampx200bampx200bampx200b',\n",
       " 'future anymorei failed university 2 years life pain humiliation hasnt day february havent thought killing kicked feb year started spending tuition funds junk stupid didnt care anymore dont course family flipped found im family failure ungrateful leech housestill enroll parttime classes improve standing 2 years upgrading start working degree pretty exactly like starting program beginning needless feeble motivation completely gone cut contact friends dont want know im failure theyll degrees ill starting worked hard didnt im ashamed status parttime student try new friends id complete loner 45 years late stage likely impossible real lasting friends basically rest life suffering continuemidterms start week havent attended single class semester dont know professors look like aware selfdiscipline problem effort cant focus studying minutes time spend stupid amounts money things dont need guess ive freedom life plan wing fail surely ill end thats far future',\n",
       " 'able post images subreddit ive clearly seen memes laying wanted share creations cant',\n",
       " 'mondayi booked hotel room purchased supplies got weekend goodbye forever',\n",
       " 'im illitiate class friends dyslexic ass couldnt read sheet wrote big red pen page im illiterate flashed friends kindly let know didnt write illiterate instead im illitiate',\n",
       " 'dream deathi constant fantasies ending life ive woman way rejected women wrong wrong maybe im ugly maybe horrid personality maybe im plain unlikable love point fall love somebody strongly hurts know love point child know like hold arms adore know gladly life point look partner years journey children grandchildren point point shambling day day real purpose like zombie shouldnt end vivid fantasies point existence point living wasting oxygen use better believe reason im dead im coward',\n",
       " 'inpatient appeal death ward id knowing wont fix problems appeal escaping chronic psychological abuse things peopleand worth 65x ld50 needed commit suicide poison tasted good greasy kills 3 minutes biggest reason living loved ones werent complicit chronic abuse hurt theyve stopped picking phone reaching drains worth want live want die want live like think cant fix life',\n",
       " 'hire teens im born 2005 turning 16 ones hiring teens young ive applied couple jobs replied im canada btw know good paying jobs',\n",
       " 'quietudeive reached somewhat peaceful place rage life planning death come shock immediate family knows im suicidal live beggar family live resources way die logical conclusion situation mental illness plagues sure person mentally ill illest ilk highly functioning people continue immortality project life hope secure immortality level die bother suicidal death life troubled troubling thing finally anxiety end near clear end near dear deer headlights death stop fights',\n",
       " 'chills sound damn weird speech impediment',\n",
       " 'im sad failed 2nd language exam sucked 2nd language failed family upset im trying think cant stop dont know pls help',\n",
       " 'confuse people flip title post body post',\n",
       " 'think fucking game soldiers nut november matter black white asian mexican caribbean lose game',\n",
       " 'hello teenagers transgender like hear negative opinions filler filler filler filler filler filler filler filler filler filler filler filler filler filler filler filler filler',\n",
       " 'sexist scared women okay like phobia im little scared people general scared women ive bullied genders heres experiences boys bullied hit wasnt rare bleed bleed kindergarten manipulated betrayed ect women course understand women like im scared getting bullied women fight hit women likely passive aggressive course know women men like general woman bad shed likely insult man likely hit id hit honest pain learning experience pain learning experience think okay theyre bullied hurts lot self esteem gets ruined non binary assigned female birth think women bad men bad im afraid people general im scared getting bullied scared getting bullied women im saying women likely bullies dont think women bad men bad bullied average man average woman sexist',\n",
       " 'day b fine boom gender crisis dude im trying vibe wo worrying abt gender seconds',\n",
       " 'wanting hang myselfi easily fall self pity high expectations compare lot self esteem depends men use sexuality attract stay cool guy stayed interested longer sex',\n",
       " 'guys sorry',\n",
       " 'got perfect score biology state standardized test god aampp went engineering ofc total sense right hate math engineering definitely makes sense',\n",
       " 'hate school lmao getting limbs cut cannibals left die sounds appealing going school',\n",
       " 'life garbage want upi cant anymore im tired loser game dont know people feel sentiment im complete loser life garbage nothingim depressed im uglyim fati friendsim failing schooli likely going foster care sooni cant outside anymore panicking cant togethertheres literally left tried didnt work works youre born good youre dictated born look like dont got abusive parents depression bullies worst myselfim root problems late fix disappear wont hurt anymore ill finally free anf world hope find hope',\n",
       " 'brain cell laurel yanny yall help important decision',\n",
       " 'think im losing fightim depressed anxious im fighting fight 10 years confident kid parents destroyed mistake matter small beaten didnt brush teeth comes belt fucked today thought making mistake makes wanna crawl bed didnt pass exam feel worthless anxious im ashamed self teen beatings got replaced psychological torture parents tell im lazy worthless achieve point turned food barely left room gained lot weight carry parents fucked bullying school confident kid turned stuttering teen dont know continue ramble guess got pointfast forward additional mentioned problems trust issues fear abandoned friends feel like mean im daily life hard right nearly unbearable cities uni housing market like dating market nowadays im trying find commune live 23 students currently im living good wrote people offered commune new city usually write send pic didnt single answer killing feel like im worthless people wants live fat dude friend got accepted uni planning flat started searching telling found honestly dont know want continue fighting cant anymore im 23 feel like shit want disappear',\n",
       " 'jumping 6 storey building kill better compared hanging selfdone life man',\n",
       " 'ill gold comment updoots 24 hours yeah pretty title painful upvte upvtes 24 hours ill gold',\n",
       " 'weed thing brings joy anymorei specialized learning school dyslexia selfconfidents completely disappeared feel like ending',\n",
       " 'dont know doi posted yesterday set thing holding fear act opened best friend littlebit told understands better day find lied says friendship important dont know anymore feel need lie talked im shattered idea anymore im close committing sucide ending holding maybe dont want family healthy relationship',\n",
       " 'im gonna mill tonightno matter ive tried got worse ive threatened thrown home ive people leave saying im wont leave left know busy safe life tried calling person shes messaged days didnt answer 3 minutes ago thats sign shes wanting gone im sick tired living 24 hours ill found dead truely care stop help cant bc busy goodbye world hate hates thanks treating like absolutely shit past 16 years cares byeim sorry way ones fault death decision cant bathroom floor bc im crying way situation',\n",
       " 'believe point karen named karen offended called karen',\n",
       " 'welp lost 27 day duolingo streak im sad didnt duo send notif smt',\n",
       " 'funny people told promise leave ones ended leaving use close person told shit like use time effort happy times reason wanted meet choice fucking use wanted leave distant theyre completely ignoring looks like dipped bored fucking toy',\n",
       " 'losing iti extremely emotional sensitive person feeling depressed awhile gave university pressure feel useless skills talents reason keeps going manic bipolar girl met online ironic helps help turn suicidal upset extremely long story nerves write right feeling extremely gonna lose super close fuck felt way feel fucking normal met',\n",
       " 'yall asking cant girlfriend discord installed youre lonely simp xxbunniixkittenxx connor',\n",
       " 'coronavirus good good topic small talk filler filler filler filler filler filler filler filler filler filler filler filler filler filler filler filler filler filler filler filler filler filler filler filler filler filler filler filler filler filler filler filler filler filler filler filler filler fillerthis good',\n",
       " 'wanna linguistics bio math grow jobs fields look help',\n",
       " 'despise love hs im barley passing classes im trying super ducking hard im crawling 5060 stresses cause want better cant weekends ducking short actually allow step breathe moment love going cause people everyday cant wait friends people care helps day',\n",
       " 'ladies gents finally finally learned ride bike today reminder want pointive stalked got motivation positive community thank',\n",
       " 'kinda weird request ya want like hearing people rant issues dms openit feels nice let promise wont jude',\n",
       " 'agh hate feeling felt hella sleepy lethargic youre filled brim repressed bottled rage anguish want lash limits taken',\n",
       " 'moment set think set phone turn tv shut distractions think moment let mind wonder uncomfortable assure help',\n",
       " 'partway overdose regrethi guys received new sertraline prescription today decided wanted od wasnt gonna kill didnt want hurting way suffice swallowed 300mg guilt took 300mg isnt particularly dangerous dose max recommended dose 200mg adults tolerance specific medication ive come fluoxetine wasnt working im afraid tell parents incase feel theyve wrong sure contact medical professional sure ill okay parents find soon bc medication secured night bc suicidal ideation etc theyll packet opened advice welcome thanks',\n",
       " 'haha reddit persona gos brrrrrr im way balsy internet',\n",
       " 'going kill monthwhat reason live stupid confirmed low iq hates parents ugly fuck makes jokes look point',\n",
       " 'confusedhi im new cut feel depressed lead relatively happy life idea super happy super depressed ideas wanna try guess',\n",
       " 'welp doesnt feelings fuck',\n",
       " 'humble life going good right lot friends girlfriend best weve job thats sick',\n",
       " 'planthis time ive developed plan random times poorly tried commit suicide time different plan week wont college hotel room conference ill distract people coming room early wrote note cant time im graduate cant face world graduation plan time time real',\n",
       " 'crack adobe photoshopadobe premiere prices fucking insane 16 dollars month',\n",
       " 'therapist told existential crisis im 14 fuck existential fucking crisis 14 time gonna talk disassociation fun got therapist im suicidal gone hey youre existential crisis age 14 fun fucking end',\n",
       " 'time die fellow reddit usersitll week japanese household chemical method nearly ready hope everybody better life rape emotional abuse abandonment dont wish ive subjected revenge nah ill end theyll find corpse inhalated chemicals thank atrention attempt live wont drunk itll like mishima long live way life long gone long live keats long live wilde time nigh theres hell ill probably isnt thats needed tell somebody',\n",
       " 'alright boys girls people like twirl need help xbox version dragon ball super 2 roblox got z sword dont know use pointers thank kindly',\n",
       " 'someday experiencing reloading bullfrog smg know black ops cold war know fucking guns play duty things magazine essentially dildo try reloading gun funny',\n",
       " 'planthis reference editwhen day 30th birthdaywhere rented flat sitting bedhow cant discuss method painless peaceful drugfree method preferred righttodie advocates itll breeze ive equipment july ive tested worksso want family read journals year dont want police post address day arrive following day point family check mailbox written generic decoy note leave ive written pages passport ive printed credit report help family deal practical financial matters following death ive registered 999 text service meant deaf folk means schedule sms 1 hour future allow body discovered immediately organs good donate start job 3 days planned date got christmas awkward avoid questions day plenty valium im nicely calm big moment probably codeine cos leave family travel home new years standard goodbyes overly sentimental avoid suspicion',\n",
       " 'somebody explain use heliumyou write dm information highly appreciated',\n",
       " 'edge todayhi start 17 years old yeah youre young lot things happen life expected teenager actually today wasnt time tried commit suicide wasnt second 2013 14 years old yepbefore holidays guess holidays watching anime reading manga staying bed day hahahaha love absolutely love sick joke life fuck mom says sad lets bullied 10 years life bad father didnt lot friends damned job beaten physically people supposed friends verbally accused things didnt commit people liked course trash treated liked relationship kiss ah called vision hell person liked joke right jokei honestly point living anymore yes went doctor school counselor said low like dont understand anymore failure rejected single person like lonely like weird stuff abomination truly wonder life gets better legit truly people reddit dont want die fear death pain big haunts remember failure person like cant endure anymore truly die',\n",
       " 'yeah got aids artificial intelligence todestroy simps',\n",
       " 'finished writing suicide noteas title implies im going kill set date 20th ive living everyones way literally going miss guarantee know mom favours siblings obvious cant remember time going good happy clear ill happy whats point hope theres life finally happy',\n",
       " 'honestly doesnt matter kill today im fucking bored confused doesnt matter fucking place vent stuff going head sub doesnt shit post dumb post suicide ill pagethen people drop random comments like dont kill care guy drops suicide hotline numbers doesnt fucking help feel like im slowly going mentally insane im slowly detached reality know fucking gives damn post killing myselfno wont kill today wish actually listen talk family doesnt want hear talk apparently friends cant tried year middle school grouped wants talk boring creepy kid wont shut star trek science fiction',\n",
       " 'know find decent code vein sheet music idk like play organ want play itfiller filler filler filler filler filler filler filler',\n",
       " 'fuck life man hate life im thinking offing parents treat like shit im feeling tell im weird wanting socialize thats cause feel like brother youngest sense regret makes fun day im tired friends respond text im posting reddit leaves guys talk cant smoke anymore cuz sister fucking ratted im spiraling downwards dont wanna live anymore cant tell parents cuz sister went shit mom threatened mental hospital round clock surveillance dont know want end',\n",
       " 'wish chance begin withsome meant die guess',\n",
       " 'want commit suicideim 18 minimum wage job cant mothers house im forced live 28 year old manchild brother lives covid relief checks manipulates mentally abuses knows anxiety holds defending mom blames brother druggy mom knows allows stay family position whilst work save money future im stuck',\n",
       " 'feel like ending feel better suffering depression longerthrowaway account hereim fed dont know ive exhausted options stay happy motivated ending life feel appealing ive depressed years im 21 seriously cant find reason bed grieve ex split 9 months ago doesnt want know exist 4 years cant talk gives youre young things better im sure badim lost end im reaching strangers internet help',\n",
       " 'im borrowing friends rifle weeki havent felt form joy past 6 months keeps getting worse purpose reason live',\n",
       " 'havent fun months wave online school area wifi slow load google page downloads days online games favorite actually unplayable especially infuriating lockdown bought pc super hyped play ive lost excitement',\n",
       " 'basketball year note sister school play basketball dont info yeah title socially distancing wearing masks jazz practice usually 320530 today halfday didnt know kid sister school rip',\n",
       " 'tips boys 1 stop wanking lowers self esteem stuff real life 2 groom twice week clean3 goes woman grades',\n",
       " 'hate myselfi moved colorado daughter 1 school time hopes massage therapist family friends ny parents resented neglected life mom abusive went spain 8 hardly talk times didnt realize way treated affected dad treated gfs kids better went forgotten alot left waiting hours picked school proud expectations sad kid growing upmy friends gone friends feel talk sick wont surprised leaves dont feel like gives shit pathetic cry everyday dont think good mom dont want shittiness rubbing feel like dont care anymore want hide think suicide lot sick hate idk id dont know escape shitty shell resent sorry',\n",
       " 'tiz special day treat asketh dis guy friends goes fishing guys good time drinking beers yall tipsy find falling asleep boat wake morning realizewhere fck clothes fvck vaseline butthole notice ass super sore friend laying end canoealso naked guys pretend like happened night know truth real question isdo tell anyoneeveri thought notso real question iswanna fishing',\n",
       " 'mouth uneven makes uncomfortable little background mouth uneven split lip half 2 doctor messed stitches',\n",
       " 'think guys girls hot cute think guys girls hot cute',\n",
       " 'buy 3d printer throwing knives originally gonna buy pc 3d printer coolwhich buy',\n",
       " 'guess whos looking reddit online class meits methis fucking sucks',\n",
       " 'images wanna post memes doesnt rteenagers allow anymore',\n",
       " 'ive lurker today think ive enoughive deep emptiness inside abused kid come muslim family im far muslim come family american dream somewhat frowned ive tried kill failed problems worse worse use game called league legends escape got help ld girlfriend recently 3 years girlfriend broken day dad stopped independent stopped plans transferring uni parents want forget want focus theirselves think selfish work months ends 10 hour shifts everyday free hypocrite gf stated selfish moment life ive felt thrown away forgot happiness feels like forgot feels like self dont want charge legal action parents sisters troubles im expecting letter girlfriend days think ill ready read needed place drown self pity thats ex calls sorry theres typos im currently slaved',\n",
       " 'genuinely feel afraid lifeim scared itll happen soon urge end strong dont want die wouldnt better ill person crying drink overdose kinds pills jump bridge time hear voice im sure hell probably stay asleep anywayfrom times needed hurts cant cry feeling like need force emotions throat want end dont want cry anymore dont want silently scream help know comei dont want anymore wish die want leave',\n",
       " '17 boys ladies heres able drink year good year school',\n",
       " 'theres point anymoreim afreshman college im depressed tired life started college semester hate class work dont im sick feel sick single day friends best friend goes college near new group friends asks hang anymore live ive depressed years worse literally point life whats point hate college whats point rest life work dont want college anymore theres literally dont know anymore mental breakdown everyday knows family lives close theyre dysfunctional makes happy life dogs im kidding im thinking killing im scared dont want family upset dont know dont happy thought college fun finally happy opposite thought things better dont think sorry long rant',\n",
       " 'today daytonight final night tomorrow deed ones going known im gone cant wait',\n",
       " 'im alive somehowi dont know cant die feel cant cry im stuck right stuck eternal darkness lifei justits useless trying describe feelings im lost simply lost',\n",
       " 'im bipolar went medsthey making feel stopped taking today felt amazing quit job delusion 124000 bank went glider today went 4 wheeling desert hearing people scream terrible things scares glad living head clearer',\n",
       " 'im fuckin sad bro finished rewatching kickin disney plus im sad rewatched disney xd shows like lab rats mighty med shit reason extra sadalso fuck elite force end randomly conclusion',\n",
       " 'opinion catboys great nearly good catgirls cat girl money',\n",
       " 'n e im school general attention span 8 year old cant focus 5 minutes online schooli focus minutes mute class watch youtube rest classsend help',\n",
       " 'join game qcvrtqampx200bfiller filler fillerfiller filler fillerfiller filler fillerfiller filler fillerfiller filler fillerfiller filler fillerfiller filler filler',\n",
       " 'day 2 trying finding humam born 1st january way im born 1st january sub right',\n",
       " 'space facts day 7 day 1 space begin specific altitude earth krmn line 100 km commonly definitionday 2 9986 solar systems mass sunday 3 closest star 4 light years away planet likely habitable zoneday 4 jupiter massive magnetic field caused metallic hydrogen near coreday 5 saturns largest moon titan thicker atmosphere earth titans atmosphere gives illusion biggest moon solar system fact title goes ganymededay 6 sputnik 1 man satellite orbit earth launched october 4 1957 orbited 3 weeks befor entered earths atmosphereday 7 andromeda galaxy collision galaxy stars collide giant clouds gas form new stars andromeda galaxy collide milkdromeda',\n",
       " 'losing battlesimple ive fighting hard elementary school gave damn person mental health bad cant work im state dont shit im limbo things driving crazytherapy doesnt help gives thing dread throw money im red cant wait number statistic loser ass tranny kills shes failure life worth living',\n",
       " 'welp started use twitter deleting previous account able handle negativity coming blm hope goddamn god dragged clusterfuck fire drama controversy twitter honestly previous time grown point felt bad wanting blm action preserve mental health honestly im gonna stop giving fuck negative campaing justice twitter people devilsilence violence fucking propagandaleave fuck choose avoid negative topics',\n",
       " 'think world cashless woolworths australia trying cashless stores think stores cashless noti personally think shouldnt',\n",
       " '10 comments ill text ex fumunda deez nutz karma whoring mind doesnt fuck like tbh doubt reply tbh shouldnt im supposed getting herbut know including guys ima let yall decide',\n",
       " 'fuck zoloft lexapro ganggggggg',\n",
       " 'guys clueless stiff dont hints',\n",
       " 'mom hospice im killing tonight cant watch dieim sorry mom know dont wait shes gone cant fear watching die emotional pain read internet life hurts losing parent gets easier want thati bought gun guess thank god bad gun laws easiest way time forever feel genuine excitement finally free agony',\n",
       " 'ageold tits ass survey link google formshttpsformsgle6gft7nmqef3ogjbqa try answer truthfully cant factcheck normally id ask friends person 1 quarantine 2 ive asked know 3 friends im gonna tracking emails purely anonymous like data need yo ill post resultstrends feel ive gotten responses draw conclusions yk send dumbass post friends thank theres better sample size internet',\n",
       " 'cant helpednone meds work sister took away coping mechanism pot cares everyday worse cant handle stress anymore bring need willing kill',\n",
       " 'belgium girlfriend 29f opened thinking suicide sexually assaulted 3 years agogood day everyonei bit crossroad know dolast night girlfriend 2 months opened suicidal important situation havent said love came couple leaving belgium months juggling relationship isampx200b1 asked feeling sad wasnt mood usual cuddled couch stayed silent minutes said feels like doesnt matter better wasnt anymore struggling bit government bureaucracy started new job starts appreciate thinkampx200bshe mentioned 2015 sexually assaulted molested supervisor old job thinks gone worst person didnt walk months complaint supervisors boss told suck wont change way life goes pretty closed asked anybody knows mentioned 2 friends ampx200b2 asked thought came close end answer yes couple time months year ago told important wasnt fault cuddle moreampx200b3 morning fine life place mood embraced bit got emotional said wanted speak needs asked wanted phone number said yes forwarded wwwpreventionsuicidebehttpswwwpreventionsuicidebe ampx200b4 knows suicidal thoughts went read online atlost contact sister brother parents emergency want downplay want reach knowing maybe making things worst ie lost employment family try help wanting know ampx200bi belgium initially know system government handles suicidal peoplei hope advice subreddit obviously throw away accountampx200bthank guys',\n",
       " 'helpi horrible emotionally abused need way substantial physical abuse need live disability housing set need way stop forever help',\n",
       " 'need advice help frienda friend going hard times months met weeks ago told today son odd january spending husbands savings drugs apparently shock caused husband stroke days theyve discovered clot tumor brain hes 70s shes 60s shes sweet telling situation said lot things set alarm bells doesnt understand happened husband left things like contemplated suicide past makes worriedive contacted supervisor regards maybe setitng fundraiser gift card dillions walmart effect help ends meet right wondering ideas help',\n",
       " 'tried kill myselfso came bathroom tried cut wrist like movies razor sharp deep scratches cat outside bathroom calling opened door sweet innocent dont want aloneim feeling calm think blood pressure dont dont wanna die anymore want hide forget marks wrist thrown razor cleaned blood im afraid notice dont wanna hurt hide',\n",
       " 'dont know doshe left cry cant eat cant sleep ruining job future friends cares cant handle pain anymore fucking lonely',\n",
       " 'hurt love im stupid affects ones closest girl longer 2 weeks fucking cunt im rage filled bastard try effort time true colours end hurting closest',\n",
       " 'agree somthing imperial system generally mess worst measure mass slugs',\n",
       " 'im want darknessive lost friends past year car accidents suicides recently getting beaten death home feelings anymore emotions cant feel pain im want state end family left years ago havent talked dads alcoholic mothers jail hundreds thousands dollars debt school want wipe slate clean tombstone reads im pathetic excuse human contribute society want fucking end close eyes feel pain wake',\n",
       " 'parents happy itits fucked life hell understand happy im longer suffering die',\n",
       " 'looking talk bit bored wants talk feel free dm im pretty talk 17m btw',\n",
       " 'healing item videogame im making aid kit turkey leg bandage massage hooker',\n",
       " 'body begging pain sufferingit sound wierd loosing live thing left craving need pain ive dream loosing legs tried lose loose watching stories people survived cancer tell mean looks painful unbearable chance die thing hurting thing makes proud brings joy like yeah cut verry deep succeded tourniquet leg houre half dont know im telling maybe knows wrong maybe hope ill miss worth living kill thing know im sad lonely want advices juste feel free ps sorry english im belgian',\n",
       " '100th comment gets award filler filler filler filler filler filler filler filler filler filler filler',\n",
       " 'dad broke phone bruh',\n",
       " 'ive crying daymy siblings went florida telling tried cover upmy dads house family pictures dirty couch sleep stay nighteveryone care deeply hurt point family keeps day talking shit girl care making ass defend feel isolated place belonghad girl talk talk stuff anymore guess im brokenim honestly soo tired ive got vent ive got actually flying fuck worst best friend wont talk im seriously lost thinking suicide lot lately id better alternative brave',\n",
       " 'ledgeholy shit begini 18 year old high school senior grades completely shitter im worried im filling college applications wont accepted colleges life meaning parents putting pressure succeed feel like live expectationsmy girlfriend broke weekend talkingtexting day past months absolutely ends saying isnt ready commit relationship im pissed depressed timealso play play baseball damn good blew shoulder year surgery year later shoulder fucked physical therapist says wont play againso feel like wasted year life getting surgery going physical therapy months talking girl stringing apparently hooking guy feel like continue living way waste entire life end nowi popular real friends talk think suicide easiest way care miss sure school hicktown city news thats iti feel like life gone wrong weekend breaking point im currently googling ways killing myselfdont better shpeel ive heard right life completely awful ive low points life felt bad think easiest simplest way end itthanks listening guys',\n",
       " 'freaking fuck helpi dont know fuck going im 16 ive mentally ill life things started getting fucked 2013 began hallucinating leaving home sleeping 6am bitching friends actually reason 2014 admitted hospital 5 times antidepressants excited hellthose drugs gave motivation productive things helped anxiety bit motivated kill ended stopping 7 months 7 months filled police arrests er visits mental breakdowns attention seeking episodes felt energy didnt know got arrested purposely times wanted excitement handcuffed driven hospital felt giddy people er saw brought police fucked period time stopping antidepressants sure fell old ways leaving home sleeping inconvenient times socializing 4 months ive left home im nauseated fatigued day anxiety depression cant anymore live',\n",
       " 'thinking kid elementary school long blonde hair called fabio little kids know fabio second looked like fabio like 9 years old',\n",
       " 'playing skyrim taking advice viewers httpswwwtwitchtvfatdog420 httpswwwtwitchtvfatdog420',\n",
       " 'eating disorder ruining lifeim 17 eating disorder ruining life mental illnesses ed making worse im insecure point cry everytime leave house im embarrassed people seeing doctors medicated dont point anymore ive abusing laxatives years eat cut depressive state making anxiety panic attacks awful everyday recovering doctors know theyre trying help ive way years hasnt gotten better im tired',\n",
       " 'dont know anymoreusing new reddit account im known redidtsim diagnosed bipolar bpd borderline personality disorderi feel time need love people im funny amazing honestly trying feel honestly feel 90 time manic episodes feel like crying screaming constant feeling like im going explode causes unable work play shitty weeaboo video games code day ive recently partnered discord woohoo feel hundreds friends altho dont feel connected im point wondering better didnt exist anymore better ended pain suffering im kinda wits end feel like thats option point dont know anymoretldr depressed cunt wants exist anymore',\n",
       " 'im running steam im hit dead endi knew gonna happen think ive reached end road ive depression anxiety severe years havent told dont plan completely alienate people im safe telling random people reddit know yould wonder hell guy like writing bullshit fucking pain built inside nights went home cried room 7am self confidence driven ground alot times people probably hesitate friends im target life ridiculed thought little people throwing dirt yould let thoughts dont matter depression spread like cancer mind cure im wasted potential thoughts feelings rotting inside im beta year college student im kicked program lay life fucked girl like thought chance stand compensate years failure embarrassment reading week week gpa gone shit repair girl like gonna fuck guy gets theres waste dads hard earned money piece scum like thought tears apart ive swear likes know likes come touchy act shy nervous knows friends dont want hell recently caught taking pic cus flash went face tried play like feels need hide feelings probably agrees friends knows im capable relationship thats shes getting desperate needy worthless fuck ive ive gone fucking insane obsessing thought feelings thrown toilet future mean know im dramatic teenagepussy enoughso ends shame didnt fuck handle thoughts container sleeping pills kill twice bottle jd wash dont want die doesnt matter anymore',\n",
       " 'aaaaaaaaaaaaaaaaaaaaaaaaaaaaaaaaaaaaaaaaaaaaaaaaaaaaaaaaaaaaaaaaaaaaaaaaaaaaaaaaaaaaaaaaaaaaaaaaaaaaaaaaaaaaaaaaaaaaaaaaaaaaaaaaaaaaaaaaaaaaaaaaaaaaaaaaaaaaaaaaaaaaaaaaaaaaaaaaaaaaaaaaaaaaaaaaaaaaaaaaaaaaaaaaaaaaaaaaaaaaaaaaaaaaaaaaaaaaaaaaaaaaaaaaaaaaaaaaaaaaaaaaaaaaaaaaaaaaaaaaaaaaaaaaaaaaaaaaaaaa aaaaaaaaaaaaaaaaaaaaaaaaaaaaaaaaaaaaaaaaaaaaaaaaaaaaaaaaaaaaaaaaaaaaaaaaaaaaaaaaaaaaaaaaaaaaaaaaaaaaaaaaaaaaaaaaaaaaaaaaaaaaaaaaaaaaaaaaaaaaaaaaaaaaaaaaaaaaaaaaaaaaaaaaaaaaaaaaaaaaaaaaaaaaaaaaaaaaaaaaaaaaaaaaaaaaaaaaaaaaaaaaaaaaaaaaaaaaaaaaaaaaaaaaaaaaaaaaaaaaaaaaaaaaaaaaaaaaaaaaaaaaaaaaaaaaaaaaaaaaaaaaaaaaaaaaaaaaaaaaaaaaaaaaaaaaaaaaaaaaaaaaaaaaaaaaaaaaaaaaaaaaaaaaaaaaaaaaaaaaaaaaaaaaaaaaaaaaaaaaaaaaaaaaaaaaaaaaaaaaaaaaaaaaaaaaaaaaaaaaaaaaaaaaaaaaaaaaaaaaaaaaaaaaaaaaaaaaaaaaaaaaaaaaaaaaaaaaaaaaaaaaaaaaaaaaaaaaaaaaaaaaaaaathanks coming ted talk',\n",
       " 'found best friend murdered close didnt happen im watching dead wanna know guys',\n",
       " 'comment date birth birthday twin 24th july 2003',\n",
       " 'blame ppl actions bc usually start encourage act impulse honestly fault beating ppl bully like expect reaction like ppl tell ignore shit dont work mate prove ampx200band start encouragement fault im menially ill idk',\n",
       " 'nothings goodim pissed met super nice pretty girl 3 months ago hear writting cause prefer bad boys chosed skip thing didnt need actual life things happens shit shit dont feel good want away shity life dont think im joking seriously tried kill damn rifle luckily guess bullet didnt worked gun got stuck 2 days ago help dont feel good damn girl bad new dont know face shits dont want hurt like tried cause experience scared lot absolutely horrible need help repeat im planning want damn die feel craps girl dream happy promised happy cause dream makes happy results broke ass making happy trying love said friend prefer away cause nice guy fuck dont know want die born die feel like damn shit dont police antisuicide shit dont need absolutely need clear mind cause dont understant fuck wrote songs said sweetest things respected cause sheve unrespected life ex boyfriends doesnt deserve maybe cool maybe intersting maybe poor asshole like trying assholes allowed tryed text dont answer fuck life damn shit',\n",
       " 'fuck dick going toaster toaster going bath',\n",
       " 'hate mom im 16 fucking hate mom happy achieve instead complains literally dad pretty sick situation relate need tips',\n",
       " 'dad tested positive covid19 dad got covid exposed coughing sent moms house know mom physical therapist works old people didnt send soon started coughing im pissed mom house going hate want dead im going covid',\n",
       " 'staying alive tiringnot sure sad timei happy havei mood changes mind racing timei feel dependent dont know living forim tired',\n",
       " 'dear society accept broken want diei wish suicide isnt seen bad think perfectly fine decide longer want live anymore suffering working grant peaceful death pill guaranteed death worst suicidal people attempt fail dont want fail',\n",
       " 'soon kill 15 id like immortalize final thoughtsi posted sub account removed reccomended place ive omitted lot sentimental personal partsso owe explanation difficult understand want depressed hate traumatized stopped words pills love people loved cared mentally ill simplyable past suppose unable handle looked im superior gift actually incredible flaw fatal fact understand 15 young age drastic decision hear outi spent searching point life obviously realized objective point fades away matter years existed matter rules follow nice people love continue living 70 years means isnt neccesarily bad thing somewhat liberating point entirely individual lives reality care legacy care wealth care love care social validation achievments simply care living day day things goal individual happy mean happy constant influx dopamine serotonin case wouldnt far easier actual drugs instead brain chemicals bill gates homeless man city happiness sadness daily lives wants contentness little bad brain chemicals possible free mentally healthy brains control aspect lives love life simply parts brain decided ideal evolutionary partner reasons consciously aware thats things wrong simply fictional tale happy endings perish holding love lifes hand shot head unexpectedly likely die agony brain fights live like people life doesnt end happy kiss immortality ends shitting nursing home everyday unable think properly children place loved dead disgusting undignifed humans supposed live 20 years aging process practically punishment humans strive success success clearly doesnt happy look drug addicted mentally ill suicidal celebrities lives short simply leaving party slightly earlier theres left particularly want experiencei things enjoy benefit elite members society instead work work work try hard follow rule set complacently possible step path drugged punishedso leave want seen tragic little girl taking life sad want people read note understand freeing constraints unfair existence desire participate game forced play dont mental health issuei sorry understand ive horrible ive research simply world im goodbye couldnt thankyou secrets hidden meaningsjust',\n",
       " 'im probably going kill couble hoursi wrote note currently heading im sure writing faint glimmer hope maybe dunno likely wont read respond thats shitty thing know delete post dont',\n",
       " '210 birthday 2 days 111 starts school class day art class hate mom comes work crying knowing grandpa terminally ill assumed worst unfortunately correct leave school grandmas typical mourning stuff cleaned house come package gameboy color shell reshell find huge crack destroyed shell cat puked floor pretty bad day 112 grandmas birthday mourning atleast got grandpas ps2 ill clean restore parts broken113 art teacher confronts final project colored know circumstance makes deal ive got awake deal 2 final projects 1 day tomorrow service wish luck boys gpa tank',\n",
       " 'havent read intense smut best friend 2 morning guys best friends',\n",
       " 'friend poor family statethis developing topic right friend told current living situation extremely stressful mother family members extreme lengths cant describe detail recently feeling depressed resulting low performance school years perfection informed mom taking away privileges going depression laptop phone curfew confrontation tell parents feels things escalated resulting mom hitting time life describes family completely disjointed dysfunctional reason seek help ive advised seek help school guidance counselor order bring massive issues higher levels including doctor access means parents family counselor worried guidance mandatory reporters report mom police wants believes destroy family recovery believes touch tells relatives family friends reasonably close closest members group live close physically run help came wanted tonight wants worst comes worst home availability require telling parents doesnt want happenas feels safe inside home worried seeking advice comfortable able advocate person',\n",
       " 'feel suicidal sexual preference planet introduce im male family friendsand note ive abused child abuse child issue comes sexual preferences pedophilia exposed child nudity young age witnessed abuse twice tell caused attraction children ive therapy value lives dont want bring harm realize helped let aware stuff coming internet people supposedly involved rape grooming makes wonder prevent happening theres lot focus imprisoning people death penaltytorture people human rights violation preventing committing immoral actswhen realize theres issues world makes begin feel hopeless wants change wants look past stigma issues dont look point view hate life autism caused suffering life combined sexual preferences created hole cant climb sexual thoughts way coping theres way rid pedophiliaive research comes people want castrate enact death penalty far know gives reasons act sexual urges especially doesnt solve core issue doubt come regardless percentage cases xmy motivator wanting die suffering happens world sentient life saddens violence reason wonder hope change world attitudes certain topics way treat injustice happens find wanting die elsei dont listen violence negativity listen reason overlooked bought',\n",
       " 'guys check cool video trust rickroll people memorized link calm downhttpswwwyoutubecomwatchvypyzpwspkmahttpswwwyoutubecomwatchvypyzpwspkma',\n",
       " 'tomorrowim going drink wiper fluid tell best life im gone fat useless loser waste space trashtomorrow world better place tomorrow',\n",
       " 'single fun relationship wasnt particularly awful random panic attacks right breaking honestly feel pretty radlike talk people honestly great feel like focus aspects life arent social knowalso relationship lasted year changing passwords exs bitch',\n",
       " 'imma cry story people reddit story takes place school yesterday gonna tell crush liked school friend josh changed privacy walks joke sorry wheeling says thats okay man im like wait wut apparently crush best friend dating josh month feels like big cosmic joke soul crushed imma cry',\n",
       " 'guys breakthrough simulate putting lightbulb mouth chocolate eggits immersive',\n",
       " 'guess orange triangle gets absolutely',\n",
       " 'literally reason continue living im alive im afraid deathmy life pointless future zero social skills cant work teachers classmates bullied literally ran away school 9th grade homeschooled 3 years failed university 3 times row stupid cant place day sitting 6 hours trying learn cant interact people normallyi tried mental health professionals waste familys money 2 years medical treatment like 5 6 different drugs didnt worked overweight therapists ragequit blamed problems likely right hard admit tried psychologically manipulate likely paranoid percept waynow im 21 year old leech living mom conflicting day reason im yelling inappropriate thing says wants help tired constant headaches mention little brother 14 life million times better memost time sitting internet watching youtube reading reddit im socially anxious im afraid reading responces comments posts im selfish hypocrite pretends care ather people actually tries protect im terrible person reading coronavirus continues spread kill people actually things makes feel entertained literally world life kind tv series im constantly watching tv series boring pointlessthe worst cant end want die dont want kill dont want feel pain thing im capable hoping day sleep newer wake im worthless preferred years constant suffering short timeframe agony',\n",
       " 'nwo german pm told german save food invasion putin epidemic nwo german pm told german save food invasion putin epidemic',\n",
       " 'want girlfriend kissy stuff dont know im weird feeling like goes dont know describe mindset want care want girl feel special loved consider caring person maybe thats source wanting feelings rolled sudden obviously want find want spend time wants flirt coming strong oversharing dont know talk thought better teens',\n",
       " 'want free hugz award friends literally title',\n",
       " 'dont know recover second timeabout 5 years ago seriously contemplated suicide told self things didnt work year probably accept things better actually good years depression got better collapsed worse time financial debts permanent damages body abusing try pick dont know able time support time health issues age catching afraid fail life feel like missed chance',\n",
       " 'perfectly life buti perfect life want bullet head relate',\n",
       " 'spongebob clap goku gumball waterson clap spongebob',\n",
       " 'woooo school drama caress mean bitch school pretend like finally got called classroom group chat started calling bitchy behaviour entire year leave group chat yeah sad eat fried chicken',\n",
       " 'pain doesnt stop stop temporary pain isnt',\n",
       " 'greedafter attempts failures life school work illness bipolar 1 depression anxiety said screw im failure went worked oilfield drilling years losing job middle symptoms flared overworking laidoff oil prices dropped 2015 sick work tried look accomplishment motivation use layoff opportunity forward good big head making big oilfield money liked working rigs big equipment pumps valves pipes motors engines etc thought maybe work refinery type plant shoot pays good right figured school aas process technology job attempts failures school loathe knew act soon didnt want inactive sick scared couldnt bring jump school unemployment ran applied got job watersewer department isolated apartment months couldnt deal sudden exposure new people new job tried hang big oilfield man anxiety insomnia ensuing psychosis built built month quit ended medicaid able psychiatrist understood illness symptoms prescribed right medications ready accept wasnt going better began faithfully taking meds helped figure employment idea wanted work plant good money found online program plant work started medicaid job service helped tuition started telling money worth realize messed liked oilfield isnt found plant work operator liked hands turning wrenches heavy lifting cranes hoists exercise installing repairing maintaining equipment operating screens buttons charts boredom moments panic found later school went oncampus mechanical maintenance program learn work equipment plants enjoy thats ive taken loans learn handson satisfaction work doesnt major anxiety ive window retraining place im 33 greed ego insecurity got disgusting cant good decisions want',\n",
       " 'think bisexual fucking love fn p90 compact submachine gun seriousness think actually',\n",
       " 'iti dont think left depression im gone hoping kind voices bit time',\n",
       " 'crush keeps hugging idk usually freeze tell away aaaaaaa hes straight fuck',\n",
       " 'noticed long took spend 3 hours building lego car thats doesnt look good homemade wtf form 10pm 1am damn space shuddle 45 minutes yes true took 3 hours build small car anyways life meme se ya',\n",
       " 'everytime touch hair lose hairs relate filler filler filler',\n",
       " 'feel touch subreddit like im complete social isolationist goals real interests swear diversity post topics broad spectrum emotions feel',\n",
       " 'im scaredi want tell want kill dont know im scared anxiety roof im scared',\n",
       " 'anybody watch office uk better office hate bots filler filler filler hate bots hate bots',\n",
       " 'heyanyone interested mechanical engenering bikes want upload vids subject sent sent late flopped bit explanation sub u comment ill send',\n",
       " 'think im forive major depressive disorder 8 years anxiety 3 psychosis 2 im 14 girlfriend year half similar situation im constantly afraid shell end life ive cutter 3 yearsish ive smoking weed drinking 11 ive ive try help ive therapists years 3 months ago impatient hospital suicide attempt discharged got better ive tried end life times feel completely world massive bottle assorted pills open need help',\n",
       " 'shit offf meee aaauaggh',\n",
       " 'im writing book im ind surprised honestly planned write thought id im 5th chapterplease wish luck ill finish',\n",
       " 'theres pointim 16 homeschooled fucking shit life lonely dont understand outlets help self harming drinking smoke find buy life rut 3 years im fucking bc know going im worthless hopeless stupid guilty fucking irritated worst cant muster courage kill fucking self damn hard omg ive tried taking pills drinking wake worst family doesnt believe im depressed anxiety dont talk im scared dont know fucking confusing sorry rant',\n",
       " 'feel platonic attraction female acknowledges appreciates like smallest things',\n",
       " 'yohi dark moment atm aspergers syndrome affect social skills trying improve time day im probably going die whats point continuing parents arent help want home home makes worse isolated dont know whats going understand understands remember reading article suicide rates autistic people higher heh understand fact',\n",
       " 'tiredi dont want commit moment fucking hate need suggestions stop thinking im little bitch thank advance',\n",
       " 'dont know yesterday rolled plan sheet paper lit joke looking sucked didnt inhale kept mouth want try im scared ill ill addicted mind forget happenedim 13 btw',\n",
       " 'moon landing lie true moon sky landed didnt itampx200bi point',\n",
       " 'fuck 16th december mf slow fuck aint ready',\n",
       " 'today took airplane time person gets anxious taking bus consider decent achievement',\n",
       " 'repercussions getting nowi dont want im depressed self diagnose ive depressive tendencies years everybody stressed dont want add repercussions keeping years started kicking face inability focus forgetting basic things like washing going sleep wanting end end im trying people think im lazy dont deserve repay things ive given feel shit',\n",
       " 'stuckive trying form social life years 10 exact im 26 keeps getting worse try ends leaving isolated time showed things ive tried therapy different therapists 10 years diagnosed 5 different things agreeing meds help worst depression im tired depleteted asking people know introduce like meetups thing ending isolation volunteering deal im introverted im annoying like think im charming friendly apparently im tired grow older harder shit ive lost hope',\n",
       " 'hard contain emotion like wanna fuckin curse everybody feel like fuckin twist let anybody know feel like fuck hate',\n",
       " 'secretly suicidalwhat choice suffering silence',\n",
       " 'ive set goal help motivate myselfi need help motivate ive spent 2 months feeling basically lost time change 6 months intend save 10000 obtain sort employment provide 35000 income annually surgery repair hip heart diagnosed treated shape including regaining 6pack cutting body fat 10 increasing total weight 210 lbs accomplish goal intend reward trip country love travel ive wanted reason financial im going aside reasons im going spend new years eve country matter takes preferably accompany',\n",
       " 'test run suicide plan hope tomorrow feel guilty choosing commit suicide tired living dont want anymoremy family constantly tells things right dont need different sure friends think probably carei devised suicide plan hope work test run tomorrow hope guilt suffocating stop feels wrong deserve diei want die stop sould look like jsut died hope works family thinks depression suicidality mental disease wanting stop thisive triple shot hopefully wont feel hoursthe guilt overwhelming wrong kill probably allowed kill probably forced stay deserve suffer deserve sufferi want talk tothe guilt kill family friends let fund want going hope god strikes dead sleep tonight',\n",
       " 'discord ill self promotion quick 15 discord listen music play video games 30 seconds hopefully read slowpm link',\n",
       " 'im life waiting dateeverything im ready letter write days 6 different significant dates untill end year life days day catch bus',\n",
       " 'youngim young 18 exact maybe thats average reddit young 13 ive thoughts suicide didnt long couple attempts belt didnt particularly happy childhood parents divorced tool try hurt got clue trying find way fantasized running away broke fuck kind hard turned 17 pretty mind didnt guns house options available extremely painful slow told soon afford buy id rifle walmart shoot head long story short things didnt better know youre going im young know know things arent going better maybe important note diagnosed major depression anxiety problems old therapist im going try blame problems ive terrible decisions ive hurt lot people life going downhill faster expected frankly dont care anymore im jaded literally burden maybe depressed hormonal teenagers angst ive told times maybe im sick waking day feeling filled dread prospect existing maybe im tired able sleep nights getting couple hours drift sleep im rambling bit point im sick dont want world dont want try experience parts life havent seen want leave finish going drive neighboring city throw particular building gone im sorry wrong place didnt know goodbye',\n",
       " 'wish deadive terrible life feel like doomed start family members sexually abused young age people supposed trust trustworthy reliable rebuild kind foundational start feel broken repair recover like thisi transgender ruining life thought im losing cant fake anymore husband leaving trans good thing life dont friends anf family shit gone completely aloneim broken thought recover abuse suffered thought found love matter truth unlovable inherently wrong thats explaination life hadi thought therapy away problems thought medication help makes better makes thoughts killing myslef away want end long husband world leaving like left mom left life beeen hell beginningi dont know im typing like help know im doomed kill inevitable im built survive real world im strong im broken wzs doomed moment started raped ones suppoesed love care trust anyome trust violezted begining think life better damaged thw start people arent ment live wish bornive lot alcohol want want stop breathing right hard breathe maybe finally successful attempt die',\n",
       " 'id like reality watching masses react seeing sci fi time dont know snob love reaction people like expanse showshttpswwwyoutubecomwatchvog0htvevqjqampfeatureembtitlehttpswwwyoutubecomwatchvu48vnfp0rjo',\n",
       " 'yeah maybe left read ball basketball u hear let shoot',\n",
       " 'dont know howam scared helpi want change want things better ive diagnosed im pretty damn sure 4 years straight pure suicidal thoughts isnt okay normal like yeah theres obviously wrong dont irl friends acquaintances like 2 classes rules reaching friends want tell parents know wouldnt seriously threatened kill years ago played recently ive trying hint need help ignore sayand course talk schools counselor thought opening probably bawling eyes stranger scares lastly doctors checkup years ago im probably decade comes dont know ive years deciding date kill reaching date procrastinating repeating process dont want resort suicide escape cry help rate dont know',\n",
       " 'warning mutant chickens loose england escaped 540 local time manchester morning approaching coast france destroy afroeurasia intelligence suggests heading australia americas sent men armed nerf guns bay updated bewareupdate chicken taken men france scientific analysis performed chickens weaknesses baguettes french army able themupdate 2 french run ammunition force peace conversation went followedfrench want itchicken cluckfrench mean business come herechicken cluckfrench hate italians help charge italians condition hurt uschicken cluckfrench excellent begin marchthis start world war 3 sent 50 men try peaceupdate 3 chicken italy ww3 commence luckily england hasnt joined war remain safe germany remaining neutral china taken chance alliance russia north korea restarted soviet union chicken duplicated fight italy remained party despite main target chicken plans travel americas reunite donald trump lab mate',\n",
       " 'moms watching hollywood netflix bruh literally gay porn sad people im scareddid watchlist im shitting man',\n",
       " 'sub die time annoying familiar people americans maybe thats dont',\n",
       " 'come watch play pokemon twitch ill kisses twitchtvbarfequieshttpstwitchtvbarfequies',\n",
       " 'thoughts doritos cool ranch recently kosher avalible israel finally try thoughts heard popular flavors usa 5 days ago time trying didnt like didnt understand best flavors usa today tried avalible options plain likes plain changed mind actually like lot consider best doritos israel like israeli flavors cuz israeli flavors bad arent youre israeli tell thoughts',\n",
       " 'dont im sure america youve seen sports teams change derogatory ie redskins schools indians basically doesnt school hellbent changing mascot im opposed people school decide good bad addition bring called bigot racist maybe instead changing mascot better computers suck tune school bit school 50 years old called racist bigot know dont sounding racist idk guys got advice',\n",
       " 'playing danganronpa 3 wondering wanted talk play game going sound weird played games discussed friend investigation trial liked happy talk game liked arent life anymore wondering wanted chat similar fashion lot fun got game diminished like want finish missing connection got spoilers talk thanks want talk games despair girls anime fun reddit discord communication',\n",
       " 'im planning building pc ive got 900 aud idea parts want guys inspiration thinking ryzen 5 2600 gtx 1650 super im sure sure harddrive',\n",
       " 'going quit firm jump bridgeyesterday wife said doesnt love anymore says shes staying working significant friends continue live like attorney frankly pain ass cant endure love support telling matter know kid hes 2 frankly thats adults care hell fine apparently unloveable like new friends find new partner thanks covidso fuck resigning firm jumping gwb fuck shit im going grinding away cares',\n",
       " 'im getting 1k karma burger tommorow hopefully said eat burger 1k karma stand',\n",
       " 'hey guys need tell secret pls dont tell anyonewere strangers loveyou know rules ia commitments im thinking ofyou wouldnt guyi wanna tell im feelinggotta understandnever gonna upnever gonna let downnever gonna run desert younever gonna crynever gonna goodbyenever gonna tell lie hurt youweve known longyour hearts aching butyoure shy itinside know whats going onwe know game gonna play itand ask im feelingdont tell youre blind seenever gonna upnever gonna let downnever gonna run desert younever gonna crynever gonna goodbyenever gonna tell lie hurt younever gonna upnever gonna let downnever gonna run desert younever gonna crynever gonna goodbyenever gonna tell lie hurt youooh upooh upnever gonna gonna givegive upnever gonna gonna givegive upweve known longyour hearts aching butyoure shy itinside know whats going onwe know game gonna play iti wanna tell im feelinggotta understandnever gonna upnever gonna let downnever gonna run desert younever gonna crynever gonna goodbyenever gonna tell lie hurt younever gonna upnever gonna let downnever gonna run desert younever gonna crynever gonna goodbyenever gonna tell lie hurt younever gonna upnever gonna let downnever gonna run desert younever gonna crynever gonna goodbyenever gonna tell lie hurt',\n",
       " 'fucking killling careslike like 2 posts got replies fuck going',\n",
       " 'alonei hug pillow cry sleep night',\n",
       " 'aprreciation post uhomeworkguy peoples homework lol',\n",
       " 'like girl broke heart happend 8 months ago february didnt 6 weeks caught feelings hard wasnt perfect attention whore insecure feelings basically break happens pre corona quarantine time didnt crushes kept head think dm whats idk',\n",
       " 'yo today lucid false awakenings trippy shit kinda cool ngl filler filler filler fillerfiller',\n",
       " 'think cool bad person sooner later peers going start realizing asshole reason actually incredibly stupid theyll distance rude inconsiderate people plus nice immensely beneficial ways imaginewhen youre nice people theyre likely respect want help future plus friends essentially means meet better friends better people people feel comfortable share youalways mind success success people happy theyre likely happy directly indirectly people succeed school jobs youre likely succeed happytldrbe nice try help youll help world better place meaningful way imagine',\n",
       " 'help methis probably sounds ridiculous course today brother ate leftovers night sent fury like havent kid eat days ate day ive depressed life exceptionally tough recently believe approaching breaking point dont think food upsetting hard know sure cant kitchen feeling like want break hurt someonemyself im starving partially fuelling rage cant kitchen blood boiling struggling depression years learned cope began smoking pot helps anger management depression friends beg plea come way feel self medicate ambition desire continue living solitary life tonight discovered food gone totally lost shit words danger kept flashing mind partially reason havent irreversible time legitimately seriously considered suicide belt neck endure couldnt obsessing pretty hard alternatives im hard time coping figure theres surefire way worry cope anymore help',\n",
       " 'kill cant deal life anymore school stressing parents mentally abusive cant girls hard time making friends im fucking ugly whats point livingnone matter die',\n",
       " 'love cheese pizza',\n",
       " 'checking inthe weeks bad long history severe anxiety panic attacks depression impacted performance work past present situations fearful ashamed makes look coworkers work social services education field meaningful similar situations past quit work job field service retail feel like failed work meaningful iin public ways horrifying dont suggest therapy seeing wonderful shrink years hes support system seven spent huge portion time hotlines called day middle panic attack audibly upset woman sounded nervous agitated upset minutes started asking medication suggesting websites instead listening hung given notice job calmer moment know good stay thought months finish projects goodbye students problems escalated im crumpled panic attack mess day taking toll feel ashamed weak need place check want upset',\n",
       " 'pleasei want throw want throw want throw want throw want throw want hit car want hit car want hit car want hit car fucking disappointment fucking disappointment fucking disappointmentplease food food food foodi cant leave yetjust end alreadystop worrying mejustdiediediediediediediedie',\n",
       " 'oi childrenos going deep black hole 2 meaningsjust wanted share',\n",
       " 'dont know im waiting fori officially graduate months look forward deep know im capable holding real job im capable years havent single friend life cant person like cant single time worthy life dont know way sucked little kid absolutely consumed anxiety feels like complete death sentence dont prove dont anger know cant exist world way people like experienced terrible raised badly im defective person way know wont stop dont want person commits suicide want feel bad want continue exact im dead alive remove pain dignity right option fall desperate dont want way dont feel bad people miss good normal people things like store work talk people things fall fingers know life isnt supposed fair dont care want right thing know right',\n",
       " 'tiredi cant anymore im tiredalways frustratedconstantly critcising hating theres hope left theres goals want achievei left live want close eyes open stay alive theres happiness life wish guts kill dont know feel likejust like ive triedi end pathetically failing',\n",
       " 'im ending new years dayive posted response troll comment idk im posting guess need organize thoughts ive looking better job year cant look resume ive applying jobs day actually default tabs set job boards search apply spare time started 4 interviews offered making hours responsibilities cuti want work bad literally killing inside look resume wont offer living wagei found rent going bills doubled late fee couldnt afford pay time hate hate life kost hate living time moved wasnt able pay rent month roommate difference looking like happen month idea afford pay bills savings gone cost living rising burden meim tired burden im tired working dead end job despise knowing matter hard try im going end dad inherited guns years doesnt like keeps locked know safe going find day work steal dont want live 2020 dont want live anymore im tired pain time im tired constantly feeling like drowning',\n",
       " 'kill myselfi explain anybody abuse life family im pain single moment exist literally want stop want gone mean theres big longs kind living dreamed dont think happen stop ive basically dead past 4 years wouldnt difference gone stood chance going let kind happy life tried wish best good person dont want kill find way sort terrified like tired suffering tired able complain point continue shit ill able prove happened fucking bent ass crazy shiti cant anymore',\n",
       " 'cry dumb pls help ive feeling horrid lately cause shit thats going sit watch feel horrid want good cry fucking cant im fucked wont cry im practically begging',\n",
       " 'sucks cooking literally bake cook messed cookies im step step directions smh',\n",
       " 'leave shitting life troublemaking girlfriend russiai tired life reason purpose carry want die overdoes covid19 cant leave world troublemaking girlfriend stuck parents dont want selfish unfair leave blue waiting date stupid court russia supposed 2 fucking years ago cyber stalking harm dunno dont care claimed friend told times accept lady doesnt want friend advise ear ear went ladys place unannounced pound door like maniac arrested fuck cps decision court destroyed pride drive depressed big time forced hand money credit card expired caused troubles friends lose 3 people life lastly tired listen whinnying lockdown etc dont want anymore shes stay guest room parents way nice means dont gut throw house means dont place treat guest retrieve passport oh yeah home office took arrested thats cant leave uk theni cant wait leave cruel world soon return russia purpose carry child marriage place doubt woman like date skinny guy autism crap need leave badly dont care id hell things ive teenager reborn cat bugsorry shitty english im learning disability',\n",
       " 'iti posted subreddit times thought got better sudden ive hit series bad events anymore parents fighting past year half today final straw mom packed stuff left withdrew money everyones bank account spent alcohol hotel im typing father 84 debt calling calling wife beater saying going beat ass thing tell father abusive life man given family wanted mom got brand new lincoln 7 months ago got brand new samsung s9 loved im rambling right boyfriend broke siblings live california cant anymore',\n",
       " 'fucking quit long ass rant today apologize advance gonna shitshow long thative written sister tons times sub finds ways fuck life guys storyso ive waking noon important rant lateri wake cereal alas clean bowls whyit sisters job dishes mom runs busy etsy store daily hospital time sister told 4 weeks straight dishes doesnt care shell find dish use 4 weeks clean dishes mom sick offers 20 bucks dishes desperate sister comes lectures wasnt lecture yelling 3 minutes straight start clean nasty fucking bowls nasty fucking plates nasty fucking mugs bowls im sick shit ask dirty dishes says im like work dishes fine continue dishes imagine surprise brings banana bread pan fruit loops suspended milk green green fucking fruit loops milk solid announced fuck 20 dollars worth disease im gonna milk leave roomi friend escape hell hole says yeah cant pick thats problem ask guess said said didnt come low gas hang uphe trying pick told whofuckingdoesthatso im sitting bed trying kill friend sister mehave nice day',\n",
       " 'hurt knowi dont know posted sub id like talk feel like know hurt caused parents divorce brothers scared friends dont talk im person talk feel like burden care theyd probably better met im ruining lives exist tried 14 ended wussing getting drugs fucked way worse dont want die know worse im sorry mom dad w j angel maude matt cam itll motorcycle accident okay love ya guys',\n",
       " 'u needplease',\n",
       " 'things people help acually causes harm find people try help ones acually harm good personally helps left theres pressure expectations general letting deal problems silence instead explaining time makes things worse causes anxiety especially people start negative attention makes feel like depressive sad person notice like stopped real person',\n",
       " 'havent failed know willim damn exhausted wish talk ive dealt depression life constantly weighing im seeing counselor medication took medication didnt feel like worked allive pretty far despite week im supposed interview nursing program 50 people interviewed absolutely major volunteer work experience ask know ill fucked certainly want nurse wont happen im loss idea life dont im nervous cant concentrate class anymore cry night want end wont suffer shame getting program life built course im set failure barely bed morning know wont dont whats point going',\n",
       " 'shrinks psychiatrists helphas success short period time',\n",
       " 'talk textid happy chat bit tomorrow im good place talk texting feels personali need understand',\n",
       " 'im warn hear hellogetting straight pointi searching friends know basic daily stuff hitted nickname umykittylolitahttpswwwredditcomusermykittylolita asking discord started outta hand stalking hiding fact doubt girl digging private info hella weird cutting faking cut didnt rly legit arm nickname owie sending images time trying logic understanding approach understood blocked em got join discord server 30 mins banned em server order rest members save started inviting active people server server started straightup talking shit dropping screenshots private conversations possibleits weirdconcerning creepy repulsive yall doublecheck watchout',\n",
       " 'feeling better feeling pain want doneim looking place going dont peaceit hurts people probably better mei thinking ideas working makes sad okay time',\n",
       " 'like',\n",
       " 'horrible dream night dream trying sleep suddenly womans corpse bed got box reason morning family laughing acting slept dead body mortified explain fucking scared felt laughing acting like sex body knew didnt imagine horrifying situation went room saw people sending mean messages fucking horrifying mean dozens people messaging telling disgusting sleeping corpse didnt fucking reason messages said cope eventually started acknowledging dream wake dream went didnt fucking wake kept thinking dream right didnt change dream ended believing dream went mom told think therapist immediately lead middleaged woman talking face kept changing look like dead body scream everytime happened hated dream',\n",
       " 'karma post subreddit second account want know karma need post subreddit',\n",
       " 'feel like shit surgery 3 days ago infected cyst extensive doctor thought going took pretty large chunk cyst said aggressive said surgery worst cases seen im painkillers right feel like shit im tired time painkillers arent effective im afraid higher dose im going addicted opioids different problem im getting stressed school im going cant sit work computer going hard work im able school huge pile work right sucks feel fucking weak cant excersise wont healed till christmas wont able sport year vent dont want friendsfamily worry came',\n",
       " 'im spiraling dont know dosince yesterday ive bad track idea lay wish die cant handle emotions theyre taking piece want die bad sees getting ignored',\n",
       " '2010 5 snowing parents brought snow bowl syrup best thing youve',\n",
       " 'scaredunable helpi know theres lot wrong hesitated getting real help 1 hinder work stupid long term worse wouldnt able work 2 costly lastly 3 live problems mental health looked tend shunned family friendsa little backstory come chooses read onfirstly forgive english best grew socially awkward bullied non stop beaten looking masculine like typical girl continued started going private school enjoyed popular kids time period leaving old school going private school treated depression prescribed medication took cant remember refused mother gave thought cured started losing weight growing hair look somewhat decent compared binge purge realized problem head effective way lose weight home questioned felt sick eating bathroom vomit atein new school introduced older man friends ended relationship years 2 years discovered cheating fell depression constant thoughts suicide paranoia stayed years decision ended relationship able trust anymoreshortly met man perfect eyes completely open truly felt loved year ending relationship based stupid argument cheating time sort emotional turmoil moved fairly easilythroughout time 2nd partner ex kept tabs told date moment weakness loneliness contacted day thinking maybe shot 2 years problems arised cheating depressed suicidal eventually wanting outthe years stayed locked home meeting family friendsjust constant state absolute misery feeling worst id felt point longer finding joy realizing couldnt continue burden poor parents anymore forced got job work home earn living substantial support burden parents stopped workingi feel severely depressed closing 30 years old handful friends married available hang social anxiety prevents real life interactions job earns survive rarely leave house buy groceries appearance wise consistent weeks binging fast food overweight starving water fasts original weight facebook login triggered suicidal attempt found exes gotten married years absolutely life laying bed staring hopelessly ceiling thinking killing wanting upset parents ultimately ones discover dead bodyi feel embarrassed typed realize gotten thought ending life constantly therei feel good worthy continue living want time im cowardly friends aware social problems dont know extent depression confided itmy family believe depression extremely religious believe form mental health issue cured prayer person ive confided mother dont want bother burdens tend act normal night room slicing wrists leaving house 3am looking high building jump scars arms partly cat scratches easy excuses scars cutting myselfi grew close siblingssomehow felt unwelcome attempted bond way socially awkward guess cant blame particular incident older brother told hurt core forget time left old school severely depressed acting stealing spending money gain friends instead bullied brother reason came day living room said end life miss thing punching bag school sibling tell completely worthlessit awful feelingi cant fault ultimately im mental health issues overcome severe social anxiety im point im expected marry children instead im stuck home trying survive day trying suppress thoughts killing dont know overcome issues harbour thoughts hating idea intimate men women dont want childrenif theres way help incurring ton debt grateful want help dont want spend days crying bed thinking useless plotting ways kill want useful member society want parents proud instead ashamed child whos known loner doesnt leave house complete losergetting treated costly want know theres alternatives maybe meditation aside prayer ended atheist worsen suicidal thoughts suggestions let know thank reading',\n",
       " 'life deathim feeling feel ill good day cant trust feeling know going away sit friend zone imagining jump roof someday feel life better days sleep closest ill actual death leaving people hurt',\n",
       " 'person comment suspicious pickle stole finger gets reward unspecified reasons',\n",
       " 'got skeleton floorboard got secret need',\n",
       " 'fell like gonna rain tonight honestly im love rains winter thr coluds look pretty',\n",
       " 'grandma lgbtphobic im sending stream wholesome posts lgbt subreddits started low concentration lgbt themed stuff regular memes mix increased dosage lgbt stuff think working likes lots stuff think shes openminded btw im afab heteroromantic librafeminine asexual yall im curious',\n",
       " 'relationship ended im 15 im introvert whos moved 3 times cant talk people corona happened stuck home started playing minecraft server playing bedwars met person played 2 weeks leave eat come find found people play wanted meet people 2 girls 18 16 met got know joined discord server ex owned 16 year old got voice chat agreed pull nighter wanted night people server joined voice chat started talk birthdays says guess birthday ill share lewd photo supposed red flag hormones got best didnt realize found lives chicago live califast forward time start mention beautiful looks start flirt tells nice meet kiss cuddle cute stuff like liked point didnt want mention friend didnt mess process days later playing like normal leaves blue didnt think 18 year old says worry shes upset later instagram sends im coming working im confused hurt left unfriends discord reply im confused left leaves thats cant stop let know shes hurting knows follow turning way long want hear peoples opinions sorry long text parts confusing',\n",
       " 'ugly dumb kill f15i honestly dont want die want world stupidity weirdness ugliness block finding happiness saw photo family member took thought whos ugly person realise ignoring mirror week hard look hate loner im crazy stupid ugly dont know parents dont cry looking dont money plastic surgery wouldnt able job big moron school boys laugh ugly teachers laugh im stupid mom hates makes remarks support group crazys people laugh 247 freakish dopish point going jump height face smash end misery',\n",
       " 'onewhats friends going outsidelockdown ive cut twice time close parents found permanent reminder dont need dont',\n",
       " 'school today teacher showed class video chastity asked birds lesbian yes catholic school lolbasically video like 45 minutes people explaining women modest save marriage dont grave sin discussed little single dating getting sexually aroused pornography big dont ask relates lesbian birds clue',\n",
       " 'idk dojust got random onset intense suicidal thoughts im fucking scared need family close friends nearby help hotline wont help doesnt help milder thoughts admitting happen ideas appreciated',\n",
       " 'dont know ill 21im fourth year college ive obsessing thought suicide 2 years point downed bottle rubbing alcohol try end 3 days new years ended convincing going imagining im going violently kill birthday tomorrow dont know going ive ruining things pushing people away wont excuse time comes time todayi dont know bring forward want relief leave',\n",
       " 'immediately suicidal dire need supportim immediate danger dont prioritize post likely far worse jeopardyif spare time im incredible stress facing harsh agony spent weeks maximum security prison months psychiatric treatment center sending threatening text message exgirlfriend ive obsessed high school im 26 weeks incarceration cried rape faced possibility life prison face printed local newspaper yards im suffered anxiety depression lifein terms upcoming trial things looking good passed courtmandated psychiatric treatment flying colors proud growth human probably imagine im terrified mind family paranoid action time hop facebook skype scolded im going hurt case speaking despite fact innocent charges sans threatening textive damaged outright destroyed meaningful friendships life mental health issues times feel facing battle aloneone problems grieve forever exgirlfriend best friend goes forever anguishes endi think suicide frequently probably daily tell psychologistpsychiatrist wind hurting court state threat cement jail timei guess im asking anonymously help retain hope let past heal woundssome art therapyhttpiimgurcom8mnlfjpghttpiimgurcomlac9zjpg',\n",
       " 'got accepted scholarship got acceptance email college preferred major art design 4000 dollar yearly scholarship wtf mom straight shrieked said got presidential scholarship im fuckin world nothin bring',\n",
       " 'timeive contemplating nearly 4 months thought overdosing narcos mixed alcohol drugdrug interaction research lack money drug overdose isnt successful dont gun thats option didnt think hang discovered coat rack closet support weight im going tofinally follow today liquid courage felt like like telling ive shut friends cant talk',\n",
       " 'suffering ibs cant anymoremy life cant function normally feel fucking pain burning came need help theres cure control works im close ending im fucking coward cant im scared dont want hurt mom cant living like jesus christ fucking help',\n",
       " 'delete post poorly worded trying advertise helper wanted talk private want end talk soapparently post title worded poorly sound like trying advertise sort helper thats im assuming happened stupid fucking post got downvoted body post gave clarity actually looking led downvote meto person messaged seeking help reveal im sorry confused barely help truly hope find help youre looking forto im sorry im gonna',\n",
       " 'posting everyday girlfriend day 24 ive getting comments im pursuing goal im saying placing happiness different person reason goal new girlfriend know im struggling month happened im breakup know happy',\n",
       " 'idea waking day sickeningi end staying crack dawn night cant stand idea waking im work cant bring rot bed prefer sleeping day away want feelings away',\n",
       " 'hate people send nudes sexual intercourse young age becasue considered coolas started realizing people age send nudes sex consider norm nowadays im saying bad think sex special time special',\n",
       " 'im depressed feel depressedi fucking circle despair frustrated hardship life girlfriendive relationships making mistakes job failing ap test things simple bored isnt things extremely depressed realizing depressed pathetic reasons angry depressed cant deal stuff big deal look thinking depressed reason consider suicide angry considering try convince considering personal beliefs convictions dont look kindly weak minded people feelings feel weak want scream frustrated',\n",
       " 'eyes sensitive light cant bed light turned hurts smh',\n",
       " 'born international suicide prevention dayif sign',\n",
       " 'weird sort romanticise suicide headlike daydream think night pained way distress calmly like visual idea hospital bed sending snapchat story alerting social media tried life sort idealise situation dead attempted survived dont know thing wanting people care im weird sort feel like bad person romanticising place maybe think situation people care people finally like living edge people value daydream hospital bed psych ward sending snapchat hand drip taped crying imagine replies people showing concern care sort want happen attempt suicide receive care people receive want people know struggling maybe think place speak reach help write social media maybe people listen',\n",
       " 'worst night life time vacation brothers girlfriend came nest wall bed pillows blankets sitting phone brother girlfriend come room didnt start making didnt want interfere didnt want cause brother like punch crawled bed eventually sex bed right loud sex lots sounds didnt want hear lot dirty talkmoaning probably worst moment life sat like 30 minutes left room cried like 15 minutes moral story check room',\n",
       " 'corruption biggest ruthless visibly invisible business millionaires 12 storey houses 4 family members poor starve seriously hear outsince onset pandemic mukesh ambani aka asias richest man net value increase 22 billion dollars people working extreme poor farmers milkmen etc basic necessities pushed limit literally lick spilt milk road',\n",
       " 'feces hot girls taste good dont know good tastes try ate feces hot girls tastes goodwhy hot girls taste good pussy lips ass tits skin feet etc taste good hot girls feces peeanyone feel',\n",
       " 'blowing brains ampx200bhttpsiredditzaiars4ao1x51gif',\n",
       " 'im rideso im getting parents kicked 16i went military finished college times moved sister pay rent niece wouldnt homeless sister later kicked bf got jailive lived duffle bag car times took long time self sufficiency couldnt friends2 years ago married woman meant world loved apartment lease end october looking job august pay scraping living income savings birthday oct 6 tells decision wanted find help ignored week moved apartment recently friend turns resentments things told relationship shared car lost accident year ago took 1 jobs offered wouldnt way sign lease extension doesnt bother herhelp understand supposed best humanity offer like cant claw way living handouts friends feel like family responsibility left crushed couldnt vulnerable time applaud attack greatest moment weakness holy fuck thought id dumpster baby againi know hurt friends theyve ask ive reddit long time personal shit ive told stranger matter deserve loved shame smallest kindnesses strangers things appreciate people trusted love doneim selfish im sorry strangers friends helped future wont forgive time im making selfish choice im guys wanted 1 time try perspective',\n",
       " 'problemso time wasnt diagnosed mental illnesses im notbut felt like order people u seriously oneso self diagnosed matched symptoms joined discord cultand felt happy vent channels vented asked diagnosed anythingum obviously notbut said thought group reason live people niceuntil later day got bannedand cult leader said banned faking everythinghuh guess karma existsbut said stop crocodile tears like 23k people cultso um reason live taken 23k people hate absolute hell thats suicide reason number',\n",
       " 'theres random old lady math class teacher dont know',\n",
       " 'strange isnt itthe thing finally isnt fact siblings committed suicide 2015 pedo uncle got away passed polygraph father gave youre fathers favoritewell raised egg donor malignant narcissistic personality disorder 51 years later trying figure fucking love instead repeatedly donor tells things cut bone hurt like child 35 fucking years therapy fucks sake lost kids homeless wouldve come way able afford legal counsel write im thinking wtf hasnt offed yeti asked help food charity places time wrote ask got point needing help included things included id holiday past decadeswell mod messaged told sounded entitled manipulative couldnt believe reading egg donors torture letting hungry cause couldnt stand look instead dinner sent bed ended 1 making extremely grateful iswas nice oh fuck writing outthe point grew thinking wasnt worth help feel like owed terrified asking help eventually mod help giving pointers write guilting people absolutely clue brought therapy yesterday explained child youre constantly denied basic needs food safety nurture learn needs met ways possibly manipulative wasnt like greedy meiser saying hmmmm hands todayno id suicidal holidays stupidly secret santa exchange needed feel tiny joy driving highway times trying let wheel run pillars shouldve 20 dollars food shamed didnt thinking id run money soul universe gives shit needed kind kindness didnt drunk like egg donor fucking day didnt drugs unhealthy sensitive feeling hungry im psychiatric medication creates insatiable appetite eat lot rice cheap unhealthy things thats system works long history food withheld childhood emotional wreckso fine got help christmas night comes food whatsoever period nada completely feeling death twinge instead therapist trying teach past seven years initially gone food pantry sub got lot help couple days upso christmas night went assistance place asking little help find open eat hungry especially given meds im increase hunger issues food withheld growing didnt free food cause im entitled scum like pretty insinuated downvoted didnt bother pm explain shouldnt end helping able chinese foodso acts greed sub talk naming scammers watch going assistance subs listed saw saw truly horrendously greedy possibly pathological bad felt embarrassment like saidinstead kind adults messaging letting know pushing asking second time hungry neighbors food smells driving crazy live high rise smell cookingthey wrote like im worthless scum feeling fact needed ask help 51 years told im worth anyones help initial thank post mod changed simple thank saying im gonna giant pizza buy amazon list didnt shame feeling seeing knowing people think devious christmas post getting downvoted askedi probably wrong motivation posting alleviate painful hunger bringing huge childhood trauma loneliness intensifying asked downvoted instead explaining said ohhh trolls dont worry believed thanked reassurance pmd thank started saying strange things realized morning headgames playing stuff public forums shame enormous shame feeling know mod playing games blocked thing sent youre youre hangry replied dont know word means thing knew hed blocked thing terrifying place worst fearsnightmares came fruition instead couldnt said prefer post assistance subreddit x time instead fucking seriously mentally ill possibly worst outcome thati guess im writing im swearing im going speed highway run pillars ive misunderstood things life huge know starving survival mode therapist trying help years shame shame dont know continue wonderful people help day prior actually felt loved time realize help wish disability continue buy yarn hats scarves blankets year long winter comes homeless city matters anymore shame humiliation worthlessness larger monster ive dealt ive told worse fun shamed edited post sound like scamming pig edited somewhat buy huge pizza remains deal brother took life june year sister march 10 2015 doesnt feel right im',\n",
       " 'guess kissed crushed best friend wish gf bright future',\n",
       " 'thinking committing suicidei think jumping trains cars vehicles everytime stand edge road train tracks feeling wanting jump',\n",
       " 'oldest living tree 5067 years old youd think named named tallest thiccest trees california tallest thiccest oldest living trees world completely different mountain ranges things like remind california like 20 larger germany',\n",
       " 'cant school online im failing 4 fucking classes sudden cant focus school doesnt help new school friends havent talked old friends good time ive listening blonde repear',\n",
       " 'petition rename east fast north south fast west spell nsfw',\n",
       " 'idk takeits years havent able shake fact im meant fuck want fit bad cant im planning day im trying figure im trying plan write goodbye letters dont know ill w fuck going end',\n",
       " 'need help im brokenokay im bad asking help im 18 outside looks fine ive got amazing girlfriend good friends feel cold inside feel like im dying inside day gets little closer bullied high school dont know im overweight heart problems hypertrophic cardiomyopathy ill live life doesnt involve surgeries pacemakers medication feel like makes happy think negatives time cant help iti think school class time calling fat saying useless walking sake passing intermediate english real great qualifications mum passed away 15 feel cold inside time moments joy far wonder died today come funeral miss insomnia dont sleep body image issues hate look hate scar chest hate despite girlfriend cares constantly feel better anxiety deep trust issues ex girlfriends family kicking streets year ago thats roughly started feel anxious started feeling depressed feel wrong feeling im feeling typically afford want buy video games want doesnt happy fear ive actually considering suicide cant getting better suppose need help 2 mindsets right im scared thoughts',\n",
       " 'hurts bad lost love23m im trying cope sadness bouts numbnessive dated girls love2 yr relationship firsts elsethe time visited nyc time saw broadway playor play generalfirst time went europe went summer traveled 2 months togethershe girl race datedbeing multiracial finding background racially culturally amazing understood unique difficulties multiracialbut badshe girl cheat second time ended relationshipshe girl thought consistently cheat drank thought cheat drunk constant source worrybut best friend flaws hurts like hell lose cuddle talk hours hold hand want let feel like millions dollars instant gone hurts badi havent 6 hours sleep 3 days havent eaten 600 calories day ofvitality hurts time pain stops numb',\n",
       " 'thought getting help feel real friendsdont wrong love shit friends id bullet day dont feel like theyd friends im trying shes trying sounds pretty simple instagram account dedicated half nudes makes feel like doesnt love ive said im getting pretty reasonable honest wont hold hand kiss public shit makes random reasons think said want id feel like bad dont dont want know like mean love risk friends hand dont like care sure time time heart skips beat love right pick yeah crash house tonight party like thanks dog problem dont wanna asshole room sit kitchen listen music eat shit like happy guy like happy believed depression couldnt wrap head like feel worthless im known chill dont talk cant bring open mouth friends came day chill flipped music snacks love want believe love left house went outside look field outside house beautiful mountain distance peaking trees thing days happy today different looked mountain usually brings happiness felt took chain tied end tree end neck tried hang im proud branch broke sat ground chain neck felt disgusted tried mean family lose minds friends doubts sad wouldve failed human kids look real happy guy boys drunk party time recently ive felt completely worthless cant walk highway anymore dont trust throw truck stupid shit like want old life asking help im 20 shouldnt feeling like thanks whos reading thanks replies lt3',\n",
       " 'think suicide lot im 100 sure want diei suppose ill start talking 1415 years old secondary school period popular thought weird teacher know teachers told brother school bit touch going people quiet kid school easy pick years rumour going shoot school ot let explosives rumours false nearly day person ask mewhen going shoot school chassierand replied wandered couple years asked question got head began thinking im suppose going buy guns etcso id search internet buy weapons id minutes looking im seriously going topic wanted tell bitover course school years began fascination death mind set people kill people kill visit websites videos dead bodies people killed like liveleak bestgore etc watch enjoy watching people torn apart stabbed getting shot run built sort immune system wouldnt feel skincrawling effect people didnt feel thought feel pain way getting normal feelingsso id self harm arms wasnt looking attention pretty quick people realised self harming got councillor talk things didnt share ive cutting legs dont scarred ive stopped harming im losing focus trailing bitanyway suicidal thoughts think dying everyday google ways eg hanging cutting wrists vehicle accidents dont want die im pain want live opportunities think life like im older meetlearn love kept thinking suicidal thoughts tv shows ive seen movies havent come videogames play mum depression different mind set people talk online friend everyday suicidal thoughts shes helped bit given live sure end hand cramp end chance edit hereedit want ask questions im open book answer truthfully justthanks time feel free share thoughts',\n",
       " 'hi everyonei want suffering stop people ignored cant family deaths ive shit run born ignorant family epilepsy reasons dont socialise friends decide epileptic fit ive know parents wont believe constantly bullied hoped people civilised ex decided ask test im desperate im bullied dont want therapy like dont want know goes try look funny beats place belong friends physically abuse massive 5in bruise leg kicked thrown wall stood amusement',\n",
       " 'got 100 geometry test like match thing vocab answer order yay',\n",
       " 'look uranus little peek wont photo',\n",
       " 'rule 34 interesting',\n",
       " 'want die im tired reason live better happier felt way 6 years vent feels like im annoying arent interested burdeni cant open people communication skills horrible im tired life im tired expectations roles society im tired waking seeing mirror everyday im extremely insecure im constantly anxious depressed barely eat food physically canteveryday wake feels dull boring moves found new friends im needed world im going change benefit reason society progress going end hate world cant bring die year thought lingers head kills mei im numb point cant cry anymore',\n",
       " 'left bed monday mother cry multiple times able welp',\n",
       " 'ugly liveim sick big nose big forehead big hard deal people told didnt date im ugly people told im ugly dont wrong ive fair share relationships ive rejected times ugly im sick soon leave home college want nose job confident leave 758394858 retail jobs ive applied got like world wants wayim believing looks dont matter bs want look good thats im suicidal im sick living cant look good',\n",
       " 'dont knowim considering committing suicide dont continue living simply ive managed overlook fact considered selfish act year internal debate want receive post advice dont access guns cant hang ive told numerous times multiple people pills dont work lot time options jumping house directly neckhead electrocution bath sounds like success rate lowish simply choking belt floor ways consider trying dont need convinced ive decision',\n",
       " 'fat livetoday topped scale 470lbs 20 pounds weighed months ago 150 years agoi wsa dieting tried keto good got confident figured smooth sailing quit start following day happened quit time started week month eating habitsi started getting fatter lost job gf left im 2 years later damn fucking thing going got new job pays bills meaningful reason family ended long time ago dont feel good feel like shit sleep cpap wont delve sexual nonexistent momenti sex drive barely reach dick cant wipe ass suck lifei dont want die hands rate coming sooner later gave life moved caring lately stopped doingenjoying things deleted facebook deleted instagram stopped answering calls texts work come home sleep wake work life weekends lay house watch movies dont shit eat till eat hours later hate life decided im killing lifestyle im going simply sooner later im posting listens dont expect quick vent im going continue fat quickly coronary months suitable death anyways understand im fat wouldnt suicide simply sad death expected',\n",
       " 'checking hotel itthis question told close friend checking hotel end life able police find hotel words hotel obligated tell police occupant obviously want able find want know',\n",
       " 'ex keeps telling wants kill dont know help himsorry wrong sub need tell story met april started working place good friends immediately probation time ended getting year house arrest drug charges june started spending lot time start told exclusive girlfriend etc started getting super obsessive getting mad time hung guy friends hed start accusing slut timei went friends eventually told beginning december calls texts day depressed wants kill feel bad know friends visit parents shit im given compassion week trying guilt coming told stage 4 cancer called lie ended cried hour leave days keeps sending texts wants kill dont love responding im giving wants dont im scared actually dont know care spent day 8 months im emotionally drained hes responsibility know sane thing tomorrow day sent picture shotgun barrel mouth im worried dont know help getting legal trouble hes got 5 months left house arrest dont want fuck tell cant focus problems right cause ive focused long',\n",
       " 'wish braverelapsed self harming yesterday guilt overwhelming wish brave coin brave stop help brave finish job end thatll happen ill continue limbo',\n",
       " 'ive unbanned lolololololol fuck lose strikes sub cuz got 2 belt',\n",
       " 'dont want deal anymorei dropped high school quit job wouldnt stress dont think worth im burden family ive looking job cant backs weight world crushing right dont know im going education cant find job boyfriend moving away college family moving houses im going program supposed help ive going weeks dont notice difference dont want deal anymore',\n",
       " 'im 19 got pretty good wreck odd situation prior wreck recorded feel like giving upno matter im told wont able want things ive wanted girlfriend job car plan install aftermarket audio cars purchased car ive wanted 4000 3000 worth work getting want needless got wreck likely totalled car liability insurance clearly fault insurance company adamant despite insurance company arguing ive history depression recently got spot felt comfortable coming meds thats lasted 2 months good things come end duct taped hose muffler tip hose trunk started ive lost catalytic converter saving test pipes cheaper cat torn open plenty co told minutes im gonna life yk set timer 10 mins started wrecked pos sat waited ive gotten burning nose sweaty hell ive got minutes left',\n",
       " 'hiso 17 years old dont know whats basically overall pretty happy dude times feel sad lonely point im fucking problem years feel like thats interested way thats giving sort attention feel bad actually care appreciate spending time think feel like basically hate im good destroying whats good example friend consider best friend btw forgot earlier picky person stay tbh enjoy people hes dont live close drinking fun chat send fun shit love fact hes fun friends thinks forget point everytime feel like meant send messages reason im posting im starting feel like problem letting live anymore ill kill ill smile face cause feeling sounds like big deal making feel like theres left live thing forgot mention rarely feel connecting pretty obsessed person dont know thing related problem',\n",
       " 'feel disgusted existencemy face shit im lazy actually properly study work meaningful life gave hobbies literally makes happy sit watch youtube fuckthe thing cease existence im pussy school starts month im thinking dropping hate school major theres want',\n",
       " 'want cut myselfsometimes look mirror wanna cut feel like dont actually friends feel like im im pretty social seeing people fun great life seeing self shit day boring ass life angers dont wanna talk anybody feel like attention whoring piece shit people think im loser dont know cut dont wanna die want cut bleed maybe miracle happen',\n",
       " 'waffel breakfast',\n",
       " 'year kill myselfi wish existed thats wanted desire wish parents aborted wish parents let die got rare disease infant caused money forced marry wish wasted time look child ended complete waste hate continue sake bullshit worse didnt exist im invisible people zero significance thing changes people wont able advantage anymore year things things dont better kill planned close friend told okay pain bare decided',\n",
       " 'excessive risk takingi dont typical unhealthy habits drinkingsmoking im prone excessive risk taking suicide conscious deliberate active choice theres risk risky situations present act decision fast intuitive level high risk situations nice distracting nearly uplifting effect maybe theres short term gain eg sex difficult tackle ideas',\n",
       " 'unlimited discord owner power owner power server 71 members 72what powers want join dm server active european times',\n",
       " 'ive drive keeping hereim 25 mom stole identity 18 gave debt emotional struggles tried college failed ive known minimum wage work body near constant pain arthritis physical labor hard work 3 years living dad medication making feel worse therapy hit wall point constant anger family says care havent gotten positive interactions years people contact nag time felt sadness anger high marijuana 5 years ago internet distract walking nearest expressway jumping overpass ive reason anymore ive loved attempted suicide past cat thing hesitate hang shes gone ive constant nightmares family wont know feel like im failure theyre right try work think im feeling little better anxiety vomit im 102lbs 56 hardly eat think letting starve death im close eating anyways notice im killing late checks irl friends internet friends dont like bother end day death wouldnt difference life hate mirror im 25 ive accomplished ive goals dont tomorrow difference tomorrow comes im going talk suicide prevention hotline intent cops',\n",
       " 'life cowboy im mobile know bad formatso city kid good chunk mylife family moved town far cattle horses school life hard weekend drive 4 hour round trip check cattle wyoming dad takes seriously yells way small mistakes cows cute kinda sad knowing killed meat soon thats circle life baby hard work lot yelling running fun thanks listening rant',\n",
       " 'dont know help im running timea friend wants kill theyre preparing kill fact concrete plans commit suicide weeksim running ideasive read talking tips risk assessment guide ive tried best follow themtheyre clear family unsupportive friends left dont external support fact contact people think theyre attention seeker friend believes themself believes thats deserve dietheyre minor live planet know addressis help theyre kid dont want die',\n",
       " 'legit suicide planive attempted whim time ive got plan saturday meds im going tell boyfriend love im running store im going park car im going pills wash alcohol stomach ill climb backseat car meds dont kill cold needed tell im scared im sure cant way finding help difficult humiliating times finally ready goodbye honestly person loves boyfriend better hope doesnt think dont love',\n",
       " 'girls honest guys actually like chubbyfat guys',\n",
       " 'life fucked hentai going gets better soon gets worse worse',\n",
       " 'breathing hermy mother refer shes love life support system dawned desire drown fact im 28 living home job skills ambition energy acquire friends literally feel disabled like mum wouldnt survive world barely body dysmorphiaskin ailmentsoverall health worsening times goes im writing purely connect ive felt close termination years bed ridden depression',\n",
       " 'tell tinnitus killed metitle',\n",
       " 'cant dont want continuemy fiancee cheated possibly pregnant guys kidi friendsfamily kicking streets keeping junkie brotheri dead end job secondbetter jobsection 8 housing time dayim disabled getting thrown disability papers lost post office possibly identity stolen resultso whats point living',\n",
       " '25 cuts christmasanyone waiting 2018',\n",
       " 'timerwhat 135 days left live',\n",
       " 'past present future suckim transgender suppose applying leaves bitter taste im transanything im gender labeling trans adding bit wrong gender actual gendermy past sucks filled dysphoria missed opportunities start earlier present sucks im depressed constant state fear discovered strangers people talk constantly second guessing appearance know feels self conscious way look actually going think theyre disgusting notice imperfections future sucks filled surgeries life time upkeep secrecy dealing fact undesirable trait finding partneri dont think ill kill tried surprisingly hard wish things better feels like drew totally junk poker hand want fold',\n",
       " ...]"
      ]
     },
     "execution_count": 28,
     "metadata": {},
     "output_type": "execute_result"
    }
   ],
   "source": [
    "cleaned_train_text"
   ]
  },
  {
   "cell_type": "code",
   "execution_count": 29,
   "metadata": {
    "execution": {
     "iopub.execute_input": "2023-10-13T18:42:22.05392Z",
     "iopub.status.busy": "2023-10-13T18:42:22.053374Z",
     "iopub.status.idle": "2023-10-13T18:42:30.815052Z",
     "shell.execute_reply": "2023-10-13T18:42:30.814124Z",
     "shell.execute_reply.started": "2023-10-13T18:42:22.053883Z"
    }
   },
   "outputs": [],
   "source": [
    "train_text_seq=tokenizer.texts_to_sequences(cleaned_train_text)\n",
    "train_text_pad=pad_sequences(train_text_seq,maxlen=50)\n",
    "\n",
    "\n",
    "test_text_seq=tokenizer.texts_to_sequences(cleaned_test_text)\n",
    "test_text_pad=pad_sequences(test_text_seq,maxlen=50)"
   ]
  },
  {
   "cell_type": "code",
   "execution_count": 31,
   "metadata": {},
   "outputs": [
    {
     "data": {
      "text/plain": [
       "array([[   0,    0,    0, ...,  176, 3027,    3],\n",
       "       [   0,    0,    0, ...,  163,  508, 1642],\n",
       "       [   0,    0,    0, ...,   77,  240,   96],\n",
       "       ...,\n",
       "       [   0,    0,    0, ...,  328,    2,    4],\n",
       "       [   0,    0,    0, ...,   65,   26,   16],\n",
       "       [   4,   46,   25, ...,    2,    4,   16]])"
      ]
     },
     "execution_count": 31,
     "metadata": {},
     "output_type": "execute_result"
    }
   ],
   "source": [
    "train_text_pad"
   ]
  },
  {
   "cell_type": "markdown",
   "metadata": {},
   "source": [
    "# **Glove Embeddings**"
   ]
  },
  {
   "cell_type": "code",
   "execution_count": 34,
   "metadata": {
    "execution": {
     "iopub.execute_input": "2023-10-13T18:42:30.816803Z",
     "iopub.status.busy": "2023-10-13T18:42:30.816294Z",
     "iopub.status.idle": "2023-10-13T18:42:30.856161Z",
     "shell.execute_reply": "2023-10-13T18:42:30.855253Z",
     "shell.execute_reply.started": "2023-10-13T18:42:30.816765Z"
    }
   },
   "outputs": [],
   "source": [
    "lbl_target=LabelEncoder()\n",
    "train_output=lbl_target.fit_transform(train_data['class'])\n",
    "test_output=lbl_target.transform(test_data['class'])"
   ]
  },
  {
   "cell_type": "code",
   "execution_count": 33,
   "metadata": {
    "execution": {
     "iopub.execute_input": "2023-10-13T18:42:30.85803Z",
     "iopub.status.busy": "2023-10-13T18:42:30.857479Z",
     "iopub.status.idle": "2023-10-13T18:43:01.622808Z",
     "shell.execute_reply": "2023-10-13T18:43:01.621189Z",
     "shell.execute_reply.started": "2023-10-13T18:42:30.857995Z"
    }
   },
   "outputs": [],
   "source": [
    "import pickle\n",
    "with open('glove.840B.300d.pkl', 'rb') as fp:\n",
    "    glove_embedding = pickle.load(fp)"
   ]
  },
  {
   "cell_type": "code",
   "execution_count": 37,
   "metadata": {
    "execution": {
     "iopub.execute_input": "2023-10-13T18:43:01.630001Z",
     "iopub.status.busy": "2023-10-13T18:43:01.629683Z",
     "iopub.status.idle": "2023-10-13T18:43:02.036429Z",
     "shell.execute_reply": "2023-10-13T18:43:02.035574Z",
     "shell.execute_reply.started": "2023-10-13T18:43:01.629973Z"
    }
   },
   "outputs": [],
   "source": [
    "v=len(tokenizer.word_index)\n",
    "\n",
    "embedding_matrix=np.zeros((v+1,300), dtype=float)\n",
    "for word,idx in tokenizer.word_index.items():\n",
    "    embedding_vector=glove_embedding.get(word)\n",
    "    if embedding_vector is not None:\n",
    "        embedding_matrix[idx]=embedding_vector"
   ]
  },
  {
   "cell_type": "code",
   "execution_count": 38,
   "metadata": {},
   "outputs": [
    {
     "data": {
      "text/plain": [
       "array([[ 0.        ,  0.        ,  0.        , ...,  0.        ,\n",
       "         0.        ,  0.        ],\n",
       "       [ 0.074482  ,  0.58293003, -0.78233999, ..., -0.24984001,\n",
       "        -0.096953  ,  0.66692001],\n",
       "       [-0.35394999,  0.23051   , -0.62689   , ..., -0.20720001,\n",
       "         0.52003002,  0.51129001],\n",
       "       ...,\n",
       "       [ 0.        ,  0.        ,  0.        , ...,  0.        ,\n",
       "         0.        ,  0.        ],\n",
       "       [ 0.29547   , -0.21822999, -0.039817  , ...,  0.62642998,\n",
       "         0.48798001, -0.47554001],\n",
       "       [ 0.75085002, -0.35099   ,  0.37674999, ..., -0.066863  ,\n",
       "         0.79632998, -0.05967   ]])"
      ]
     },
     "execution_count": 38,
     "metadata": {},
     "output_type": "execute_result"
    }
   ],
   "source": [
    "embedding_matrix"
   ]
  },
  {
   "cell_type": "code",
   "execution_count": 39,
   "metadata": {
    "execution": {
     "iopub.execute_input": "2023-10-13T18:43:02.038007Z",
     "iopub.status.busy": "2023-10-13T18:43:02.037667Z",
     "iopub.status.idle": "2023-10-13T18:43:02.041535Z",
     "shell.execute_reply": "2023-10-13T18:43:02.040759Z",
     "shell.execute_reply.started": "2023-10-13T18:43:02.037973Z"
    }
   },
   "outputs": [],
   "source": [
    "early_stop=EarlyStopping(patience=5)\n",
    "reducelr=ReduceLROnPlateau(patience=3)"
   ]
  },
  {
   "cell_type": "code",
   "execution_count": null,
   "metadata": {},
   "outputs": [],
   "source": []
  },
  {
   "cell_type": "markdown",
   "metadata": {},
   "source": [
    "# **Keras Sequential Model Construction**"
   ]
  },
  {
   "cell_type": "code",
   "execution_count": 40,
   "metadata": {
    "execution": {
     "iopub.execute_input": "2023-10-13T18:43:02.043477Z",
     "iopub.status.busy": "2023-10-13T18:43:02.042974Z",
     "iopub.status.idle": "2023-10-13T18:43:03.115588Z",
     "shell.execute_reply": "2023-10-13T18:43:03.114736Z",
     "shell.execute_reply.started": "2023-10-13T18:43:02.043436Z"
    }
   },
   "outputs": [],
   "source": [
    "model=Sequential()\n",
    "model.add(Input(shape=(40,)))\n",
    "model.add(Embedding(v+1,300,weights=[embedding_matrix],trainable=False))\n",
    "model.add(LSTM(20,return_sequences=True))\n",
    "model.add(GlobalMaxPooling1D())\n",
    "model.add(Dense(256,activation='relu'))\n",
    "model.add(Dense(1,activation='sigmoid'))\n",
    "model.compile(optimizer=keras.optimizers.SGD(0.1,momentum=0.09),loss='binary_crossentropy',metrics=['accuracy'])"
   ]
  },
  {
   "cell_type": "code",
   "execution_count": 41,
   "metadata": {},
   "outputs": [
    {
     "name": "stdout",
     "output_type": "stream",
     "text": [
      "Model: \"sequential_1\"\n",
      "_________________________________________________________________\n",
      "Layer (type)                 Output Shape              Param #   \n",
      "=================================================================\n",
      "embedding_1 (Embedding)      (None, 40, 300)           81560700  \n",
      "_________________________________________________________________\n",
      "lstm_1 (LSTM)                (None, 40, 20)            25680     \n",
      "_________________________________________________________________\n",
      "global_max_pooling1d_1 (Glob (None, 20)                0         \n",
      "_________________________________________________________________\n",
      "dense_2 (Dense)              (None, 256)               5376      \n",
      "_________________________________________________________________\n",
      "dense_3 (Dense)              (None, 1)                 257       \n",
      "=================================================================\n",
      "Total params: 81,592,013\n",
      "Trainable params: 31,313\n",
      "Non-trainable params: 81,560,700\n",
      "_________________________________________________________________\n"
     ]
    }
   ],
   "source": [
    "model.summary()"
   ]
  },
  {
   "cell_type": "markdown",
   "metadata": {},
   "source": [
    "# **Model Training and Evaluation**"
   ]
  },
  {
   "cell_type": "code",
   "execution_count": 42,
   "metadata": {
    "_kg_hide-output": false,
    "execution": {
     "iopub.execute_input": "2023-10-13T18:43:03.117258Z",
     "iopub.status.busy": "2023-10-13T18:43:03.116788Z",
     "iopub.status.idle": "2023-10-13T18:45:16.949561Z",
     "shell.execute_reply": "2023-10-13T18:45:16.948719Z",
     "shell.execute_reply.started": "2023-10-13T18:43:03.117222Z"
    }
   },
   "outputs": [
    {
     "name": "stdout",
     "output_type": "stream",
     "text": [
      "Epoch 1/20\n",
      "WARNING:tensorflow:Model was constructed with shape (None, 40) for input Tensor(\"input_2:0\", shape=(None, 40), dtype=float32), but it was called on an input with incompatible shape (None, 50).\n",
      "WARNING:tensorflow:Model was constructed with shape (None, 40) for input Tensor(\"input_2:0\", shape=(None, 40), dtype=float32), but it was called on an input with incompatible shape (None, 50).\n",
      "726/726 [==============================] - ETA: 0s - loss: 0.3462 - accuracy: 0.8512WARNING:tensorflow:Model was constructed with shape (None, 40) for input Tensor(\"input_2:0\", shape=(None, 40), dtype=float32), but it was called on an input with incompatible shape (None, 50).\n",
      "726/726 [==============================] - 88s 121ms/step - loss: 0.3462 - accuracy: 0.8512 - val_loss: 0.2485 - val_accuracy: 0.9019\n",
      "Epoch 2/20\n",
      "726/726 [==============================] - 79s 108ms/step - loss: 0.2486 - accuracy: 0.9016 - val_loss: 0.2278 - val_accuracy: 0.9106\n",
      "Epoch 3/20\n",
      "726/726 [==============================] - 78s 108ms/step - loss: 0.2276 - accuracy: 0.9104 - val_loss: 0.2145 - val_accuracy: 0.9163\n",
      "Epoch 4/20\n",
      "726/726 [==============================] - 77s 107ms/step - loss: 0.2123 - accuracy: 0.9171 - val_loss: 0.2196 - val_accuracy: 0.9142\n",
      "Epoch 5/20\n",
      "726/726 [==============================] - 79s 109ms/step - loss: 0.1979 - accuracy: 0.9234 - val_loss: 0.1991 - val_accuracy: 0.9236\n",
      "Epoch 6/20\n",
      "726/726 [==============================] - 78s 108ms/step - loss: 0.1851 - accuracy: 0.9279 - val_loss: 0.1916 - val_accuracy: 0.9255\n",
      "Epoch 7/20\n",
      "726/726 [==============================] - 78s 108ms/step - loss: 0.1750 - accuracy: 0.9322 - val_loss: 0.1997 - val_accuracy: 0.9227\n",
      "Epoch 8/20\n",
      "726/726 [==============================] - 80s 111ms/step - loss: 0.1687 - accuracy: 0.9347 - val_loss: 0.1819 - val_accuracy: 0.9300\n",
      "Epoch 9/20\n",
      "726/726 [==============================] - 77s 106ms/step - loss: 0.1634 - accuracy: 0.9367 - val_loss: 0.1807 - val_accuracy: 0.9302\n",
      "Epoch 10/20\n",
      "726/726 [==============================] - 78s 108ms/step - loss: 0.1590 - accuracy: 0.9385 - val_loss: 0.2352 - val_accuracy: 0.9084\n",
      "Epoch 11/20\n",
      "726/726 [==============================] - 79s 108ms/step - loss: 0.1557 - accuracy: 0.9397 - val_loss: 0.2139 - val_accuracy: 0.9165\n",
      "Epoch 12/20\n",
      "726/726 [==============================] - 77s 107ms/step - loss: 0.1524 - accuracy: 0.9415 - val_loss: 0.2423 - val_accuracy: 0.9078\n",
      "Epoch 13/20\n",
      "726/726 [==============================] - 79s 108ms/step - loss: 0.1457 - accuracy: 0.9440 - val_loss: 0.1823 - val_accuracy: 0.9309\n",
      "Epoch 14/20\n",
      "726/726 [==============================] - 80s 110ms/step - loss: 0.1449 - accuracy: 0.9442 - val_loss: 0.1810 - val_accuracy: 0.9314\n"
     ]
    }
   ],
   "source": [
    "r=model.fit(train_text_pad,train_output,validation_data=(test_text_pad,test_output),\n",
    "            epochs=20,batch_size=256,callbacks=[early_stop,reducelr])"
   ]
  },
  {
   "cell_type": "code",
   "execution_count": null,
   "metadata": {
    "execution": {
     "iopub.execute_input": "2023-10-13T18:45:16.953162Z",
     "iopub.status.busy": "2023-10-13T18:45:16.952916Z",
     "iopub.status.idle": "2023-10-13T18:45:17.084343Z",
     "shell.execute_reply": "2023-10-13T18:45:17.083559Z",
     "shell.execute_reply.started": "2023-10-13T18:45:16.953138Z"
    }
   },
   "outputs": [],
   "source": []
  },
  {
   "cell_type": "code",
   "execution_count": 44,
   "metadata": {
    "execution": {
     "iopub.execute_input": "2023-10-13T18:45:17.221815Z",
     "iopub.status.busy": "2023-10-13T18:45:17.221316Z",
     "iopub.status.idle": "2023-10-13T18:45:32.780569Z",
     "shell.execute_reply": "2023-10-13T18:45:32.779668Z",
     "shell.execute_reply.started": "2023-10-13T18:45:17.22178Z"
    }
   },
   "outputs": [
    {
     "name": "stdout",
     "output_type": "stream",
     "text": [
      "TESTING DATA CLASSIFICATION REPORT \n",
      " \n",
      "\n",
      "              precision    recall  f1-score   support\n",
      "\n",
      " non-suicide       0.92      0.95      0.93     23209\n",
      "     suicide       0.95      0.91      0.93     23206\n",
      "\n",
      "    accuracy                           0.93     46415\n",
      "   macro avg       0.93      0.93      0.93     46415\n",
      "weighted avg       0.93      0.93      0.93     46415\n",
      "\n",
      "TRAINING DATA CLASSIFICATION REPORT \n",
      " \n",
      "\n",
      "              precision    recall  f1-score   support\n",
      "\n",
      " non-suicide       0.95      0.94      0.94     92828\n",
      "     suicide       0.94      0.95      0.94     92831\n",
      "\n",
      "    accuracy                           0.94    185659\n",
      "   macro avg       0.94      0.94      0.94    185659\n",
      "weighted avg       0.94      0.94      0.94    185659\n",
      "\n"
     ]
    }
   ],
   "source": [
    "print('TESTING DATA CLASSIFICATION REPORT \\n \\n')\n",
    "print(classification_report(test_output,model.predict_classes(test_text_pad),\n",
    "                            target_names=lbl_target.inverse_transform([0,1])))\n",
    "\n",
    "print('TRAINING DATA CLASSIFICATION REPORT \\n \\n')\n",
    "print(classification_report(train_output,model.predict_classes(train_text_pad),\n",
    "                           target_names=lbl_target.inverse_transform([0,1])))"
   ]
  },
  {
   "cell_type": "code",
   "execution_count": null,
   "metadata": {},
   "outputs": [],
   "source": []
  },
  {
   "cell_type": "code",
   "execution_count": 48,
   "metadata": {},
   "outputs": [
    {
     "name": "stdout",
     "output_type": "stream",
     "text": [
      "0.3648214\n",
      "Non Suicide Post\n"
     ]
    }
   ],
   "source": [
    "twt = ['i am happy']\n",
    "twt = tokenizer.texts_to_sequences(twt)\n",
    "twt = pad_sequences(twt, maxlen=50)\n",
    "\n",
    "prediction = model.predict(twt)[0][0]\n",
    "print(prediction)\n",
    "\n",
    "if(prediction > 0.5):\n",
    "    print(\"Potential Suicide Post\")\n",
    "else:\n",
    "    print(\"Non Suicide Post\")"
   ]
  },
  {
   "cell_type": "code",
   "execution_count": 49,
   "metadata": {},
   "outputs": [],
   "source": [
    "pickle.dump(tokenizer, open('tokenizer.pkl', 'wb'))"
   ]
  },
  {
   "cell_type": "code",
   "execution_count": 50,
   "metadata": {},
   "outputs": [],
   "source": [
    "model.save(\"model.h5\")"
   ]
  },
  {
   "cell_type": "code",
   "execution_count": 51,
   "metadata": {},
   "outputs": [],
   "source": [
    "token_form = pickle.load(open('tokenizer.pkl', 'rb'))"
   ]
  },
  {
   "cell_type": "code",
   "execution_count": 52,
   "metadata": {},
   "outputs": [],
   "source": [
    "from keras.models import load_model"
   ]
  },
  {
   "cell_type": "code",
   "execution_count": 53,
   "metadata": {},
   "outputs": [],
   "source": [
    "model_form = load_model(\"model.h5\")"
   ]
  },
  {
   "cell_type": "code",
   "execution_count": 54,
   "metadata": {},
   "outputs": [
    {
     "name": "stdout",
     "output_type": "stream",
     "text": [
      "WARNING:tensorflow:Model was constructed with shape (None, 40) for input Tensor(\"input_2_1:0\", shape=(None, 40), dtype=float32), but it was called on an input with incompatible shape (None, 50).\n",
      "0.9583739\n",
      "Potential Suicide Post\n"
     ]
    }
   ],
   "source": [
    "\n",
    "twt = ['Through these past years thoughts of suicide, fear, anxiety I’m so close to my limit']\n",
    "twt = token_form.texts_to_sequences(twt)\n",
    "twt = pad_sequences(twt, maxlen=50)\n",
    "\n",
    "\n",
    "prediction = model_form.predict(twt)[0][0]\n",
    "print(prediction)\n",
    "\n",
    "if(prediction > 0.5):\n",
    "    print(\"Potential Suicide Post\")\n",
    "elif (prediction == 1):\n",
    "    print(\"Non Suicide Post\")"
   ]
  },
  {
   "cell_type": "code",
   "execution_count": null,
   "metadata": {},
   "outputs": [],
   "source": []
  }
 ],
 "metadata": {
  "kaggle": {
   "accelerator": "gpu",
   "dataSources": [
    {
     "datasetId": 167266,
     "sourceId": 380554,
     "sourceType": "datasetVersion"
    },
    {
     "datasetId": 1075326,
     "sourceId": 2250642,
     "sourceType": "datasetVersion"
    }
   ],
   "dockerImageVersionId": 30121,
   "isGpuEnabled": true,
   "isInternetEnabled": true,
   "language": "python",
   "sourceType": "notebook"
  },
  "kernelspec": {
   "display_name": "Python 3",
   "language": "python",
   "name": "python3"
  },
  "language_info": {
   "codemirror_mode": {
    "name": "ipython",
    "version": 3
   },
   "file_extension": ".py",
   "mimetype": "text/x-python",
   "name": "python",
   "nbconvert_exporter": "python",
   "pygments_lexer": "ipython3",
   "version": "3.8.5"
  }
 },
 "nbformat": 4,
 "nbformat_minor": 4
}
